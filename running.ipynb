{
  "nbformat": 4,
  "nbformat_minor": 0,
  "metadata": {
    "colab": {
      "provenance": [],
      "authorship_tag": "ABX9TyOoZS4kYsNnOjM3DzYfO/ub",
      "include_colab_link": true
    },
    "kernelspec": {
      "name": "python3",
      "display_name": "Python 3"
    },
    "language_info": {
      "name": "python"
    },
    "widgets": {
      "application/vnd.jupyter.widget-state+json": {
        "f851eb43d7cb43aaac45789fd74aed67": {
          "model_module": "@jupyter-widgets/controls",
          "model_name": "HBoxModel",
          "model_module_version": "1.5.0",
          "state": {
            "_dom_classes": [],
            "_model_module": "@jupyter-widgets/controls",
            "_model_module_version": "1.5.0",
            "_model_name": "HBoxModel",
            "_view_count": null,
            "_view_module": "@jupyter-widgets/controls",
            "_view_module_version": "1.5.0",
            "_view_name": "HBoxView",
            "box_style": "",
            "children": [
              "IPY_MODEL_46cf1e9265194c7bbcc8933a2b42f44c",
              "IPY_MODEL_ad4176eee8ad45f1b7a9d9ea997ba71a",
              "IPY_MODEL_1ec9e1bde54841818f29f06f12420fcd"
            ],
            "layout": "IPY_MODEL_c2cb174e7102485da17800a585004870"
          }
        },
        "46cf1e9265194c7bbcc8933a2b42f44c": {
          "model_module": "@jupyter-widgets/controls",
          "model_name": "HTMLModel",
          "model_module_version": "1.5.0",
          "state": {
            "_dom_classes": [],
            "_model_module": "@jupyter-widgets/controls",
            "_model_module_version": "1.5.0",
            "_model_name": "HTMLModel",
            "_view_count": null,
            "_view_module": "@jupyter-widgets/controls",
            "_view_module_version": "1.5.0",
            "_view_name": "HTMLView",
            "description": "",
            "description_tooltip": null,
            "layout": "IPY_MODEL_157ffa72b4f74d899f8cfa9889655ae3",
            "placeholder": "​",
            "style": "IPY_MODEL_6d9f5f5c101443c5b5842ebefa6bb98e",
            "value": "model.bin: 100%"
          }
        },
        "ad4176eee8ad45f1b7a9d9ea997ba71a": {
          "model_module": "@jupyter-widgets/controls",
          "model_name": "FloatProgressModel",
          "model_module_version": "1.5.0",
          "state": {
            "_dom_classes": [],
            "_model_module": "@jupyter-widgets/controls",
            "_model_module_version": "1.5.0",
            "_model_name": "FloatProgressModel",
            "_view_count": null,
            "_view_module": "@jupyter-widgets/controls",
            "_view_module_version": "1.5.0",
            "_view_name": "ProgressView",
            "bar_style": "success",
            "description": "",
            "description_tooltip": null,
            "layout": "IPY_MODEL_b4041c43361141d7b7eddbdb04338564",
            "max": 7242250134,
            "min": 0,
            "orientation": "horizontal",
            "style": "IPY_MODEL_04102165c85d410092fa8b38aa617e19",
            "value": 7242250134
          }
        },
        "1ec9e1bde54841818f29f06f12420fcd": {
          "model_module": "@jupyter-widgets/controls",
          "model_name": "HTMLModel",
          "model_module_version": "1.5.0",
          "state": {
            "_dom_classes": [],
            "_model_module": "@jupyter-widgets/controls",
            "_model_module_version": "1.5.0",
            "_model_name": "HTMLModel",
            "_view_count": null,
            "_view_module": "@jupyter-widgets/controls",
            "_view_module_version": "1.5.0",
            "_view_name": "HTMLView",
            "description": "",
            "description_tooltip": null,
            "layout": "IPY_MODEL_3fbe8bb56be043b3a2c012af50e1da19",
            "placeholder": "​",
            "style": "IPY_MODEL_96efa7408b774dd79e488265de7759f9",
            "value": " 7.24G/7.24G [02:36&lt;00:00, 39.0MB/s]"
          }
        },
        "c2cb174e7102485da17800a585004870": {
          "model_module": "@jupyter-widgets/base",
          "model_name": "LayoutModel",
          "model_module_version": "1.2.0",
          "state": {
            "_model_module": "@jupyter-widgets/base",
            "_model_module_version": "1.2.0",
            "_model_name": "LayoutModel",
            "_view_count": null,
            "_view_module": "@jupyter-widgets/base",
            "_view_module_version": "1.2.0",
            "_view_name": "LayoutView",
            "align_content": null,
            "align_items": null,
            "align_self": null,
            "border": null,
            "bottom": null,
            "display": null,
            "flex": null,
            "flex_flow": null,
            "grid_area": null,
            "grid_auto_columns": null,
            "grid_auto_flow": null,
            "grid_auto_rows": null,
            "grid_column": null,
            "grid_gap": null,
            "grid_row": null,
            "grid_template_areas": null,
            "grid_template_columns": null,
            "grid_template_rows": null,
            "height": null,
            "justify_content": null,
            "justify_items": null,
            "left": null,
            "margin": null,
            "max_height": null,
            "max_width": null,
            "min_height": null,
            "min_width": null,
            "object_fit": null,
            "object_position": null,
            "order": null,
            "overflow": null,
            "overflow_x": null,
            "overflow_y": null,
            "padding": null,
            "right": null,
            "top": null,
            "visibility": null,
            "width": null
          }
        },
        "157ffa72b4f74d899f8cfa9889655ae3": {
          "model_module": "@jupyter-widgets/base",
          "model_name": "LayoutModel",
          "model_module_version": "1.2.0",
          "state": {
            "_model_module": "@jupyter-widgets/base",
            "_model_module_version": "1.2.0",
            "_model_name": "LayoutModel",
            "_view_count": null,
            "_view_module": "@jupyter-widgets/base",
            "_view_module_version": "1.2.0",
            "_view_name": "LayoutView",
            "align_content": null,
            "align_items": null,
            "align_self": null,
            "border": null,
            "bottom": null,
            "display": null,
            "flex": null,
            "flex_flow": null,
            "grid_area": null,
            "grid_auto_columns": null,
            "grid_auto_flow": null,
            "grid_auto_rows": null,
            "grid_column": null,
            "grid_gap": null,
            "grid_row": null,
            "grid_template_areas": null,
            "grid_template_columns": null,
            "grid_template_rows": null,
            "height": null,
            "justify_content": null,
            "justify_items": null,
            "left": null,
            "margin": null,
            "max_height": null,
            "max_width": null,
            "min_height": null,
            "min_width": null,
            "object_fit": null,
            "object_position": null,
            "order": null,
            "overflow": null,
            "overflow_x": null,
            "overflow_y": null,
            "padding": null,
            "right": null,
            "top": null,
            "visibility": null,
            "width": null
          }
        },
        "6d9f5f5c101443c5b5842ebefa6bb98e": {
          "model_module": "@jupyter-widgets/controls",
          "model_name": "DescriptionStyleModel",
          "model_module_version": "1.5.0",
          "state": {
            "_model_module": "@jupyter-widgets/controls",
            "_model_module_version": "1.5.0",
            "_model_name": "DescriptionStyleModel",
            "_view_count": null,
            "_view_module": "@jupyter-widgets/base",
            "_view_module_version": "1.2.0",
            "_view_name": "StyleView",
            "description_width": ""
          }
        },
        "b4041c43361141d7b7eddbdb04338564": {
          "model_module": "@jupyter-widgets/base",
          "model_name": "LayoutModel",
          "model_module_version": "1.2.0",
          "state": {
            "_model_module": "@jupyter-widgets/base",
            "_model_module_version": "1.2.0",
            "_model_name": "LayoutModel",
            "_view_count": null,
            "_view_module": "@jupyter-widgets/base",
            "_view_module_version": "1.2.0",
            "_view_name": "LayoutView",
            "align_content": null,
            "align_items": null,
            "align_self": null,
            "border": null,
            "bottom": null,
            "display": null,
            "flex": null,
            "flex_flow": null,
            "grid_area": null,
            "grid_auto_columns": null,
            "grid_auto_flow": null,
            "grid_auto_rows": null,
            "grid_column": null,
            "grid_gap": null,
            "grid_row": null,
            "grid_template_areas": null,
            "grid_template_columns": null,
            "grid_template_rows": null,
            "height": null,
            "justify_content": null,
            "justify_items": null,
            "left": null,
            "margin": null,
            "max_height": null,
            "max_width": null,
            "min_height": null,
            "min_width": null,
            "object_fit": null,
            "object_position": null,
            "order": null,
            "overflow": null,
            "overflow_x": null,
            "overflow_y": null,
            "padding": null,
            "right": null,
            "top": null,
            "visibility": null,
            "width": null
          }
        },
        "04102165c85d410092fa8b38aa617e19": {
          "model_module": "@jupyter-widgets/controls",
          "model_name": "ProgressStyleModel",
          "model_module_version": "1.5.0",
          "state": {
            "_model_module": "@jupyter-widgets/controls",
            "_model_module_version": "1.5.0",
            "_model_name": "ProgressStyleModel",
            "_view_count": null,
            "_view_module": "@jupyter-widgets/base",
            "_view_module_version": "1.2.0",
            "_view_name": "StyleView",
            "bar_color": null,
            "description_width": ""
          }
        },
        "3fbe8bb56be043b3a2c012af50e1da19": {
          "model_module": "@jupyter-widgets/base",
          "model_name": "LayoutModel",
          "model_module_version": "1.2.0",
          "state": {
            "_model_module": "@jupyter-widgets/base",
            "_model_module_version": "1.2.0",
            "_model_name": "LayoutModel",
            "_view_count": null,
            "_view_module": "@jupyter-widgets/base",
            "_view_module_version": "1.2.0",
            "_view_name": "LayoutView",
            "align_content": null,
            "align_items": null,
            "align_self": null,
            "border": null,
            "bottom": null,
            "display": null,
            "flex": null,
            "flex_flow": null,
            "grid_area": null,
            "grid_auto_columns": null,
            "grid_auto_flow": null,
            "grid_auto_rows": null,
            "grid_column": null,
            "grid_gap": null,
            "grid_row": null,
            "grid_template_areas": null,
            "grid_template_columns": null,
            "grid_template_rows": null,
            "height": null,
            "justify_content": null,
            "justify_items": null,
            "left": null,
            "margin": null,
            "max_height": null,
            "max_width": null,
            "min_height": null,
            "min_width": null,
            "object_fit": null,
            "object_position": null,
            "order": null,
            "overflow": null,
            "overflow_x": null,
            "overflow_y": null,
            "padding": null,
            "right": null,
            "top": null,
            "visibility": null,
            "width": null
          }
        },
        "96efa7408b774dd79e488265de7759f9": {
          "model_module": "@jupyter-widgets/controls",
          "model_name": "DescriptionStyleModel",
          "model_module_version": "1.5.0",
          "state": {
            "_model_module": "@jupyter-widgets/controls",
            "_model_module_version": "1.5.0",
            "_model_name": "DescriptionStyleModel",
            "_view_count": null,
            "_view_module": "@jupyter-widgets/base",
            "_view_module_version": "1.2.0",
            "_view_name": "StyleView",
            "description_width": ""
          }
        },
        "3115f2cc41c74c1c966d492626e73562": {
          "model_module": "@jupyter-widgets/controls",
          "model_name": "HBoxModel",
          "model_module_version": "1.5.0",
          "state": {
            "_dom_classes": [],
            "_model_module": "@jupyter-widgets/controls",
            "_model_module_version": "1.5.0",
            "_model_name": "HBoxModel",
            "_view_count": null,
            "_view_module": "@jupyter-widgets/controls",
            "_view_module_version": "1.5.0",
            "_view_name": "HBoxView",
            "box_style": "",
            "children": [
              "IPY_MODEL_34b3377cf2ae48cba3f160a00d62b141",
              "IPY_MODEL_a4c73ea07bfd45e4acb4e1462efbdd34",
              "IPY_MODEL_876363d999f1463e88c9d2cb619cd9df"
            ],
            "layout": "IPY_MODEL_c40ad48146124d648a32e43b62fb9391"
          }
        },
        "34b3377cf2ae48cba3f160a00d62b141": {
          "model_module": "@jupyter-widgets/controls",
          "model_name": "HTMLModel",
          "model_module_version": "1.5.0",
          "state": {
            "_dom_classes": [],
            "_model_module": "@jupyter-widgets/controls",
            "_model_module_version": "1.5.0",
            "_model_name": "HTMLModel",
            "_view_count": null,
            "_view_module": "@jupyter-widgets/controls",
            "_view_module_version": "1.5.0",
            "_view_name": "HTMLView",
            "description": "",
            "description_tooltip": null,
            "layout": "IPY_MODEL_5d5c6ae37f714a989a48b8e6a772923c",
            "placeholder": "​",
            "style": "IPY_MODEL_895eec8e0816488a9a1dfd0a046a8f3b",
            "value": "100%"
          }
        },
        "a4c73ea07bfd45e4acb4e1462efbdd34": {
          "model_module": "@jupyter-widgets/controls",
          "model_name": "FloatProgressModel",
          "model_module_version": "1.5.0",
          "state": {
            "_dom_classes": [],
            "_model_module": "@jupyter-widgets/controls",
            "_model_module_version": "1.5.0",
            "_model_name": "FloatProgressModel",
            "_view_count": null,
            "_view_module": "@jupyter-widgets/controls",
            "_view_module_version": "1.5.0",
            "_view_name": "ProgressView",
            "bar_style": "success",
            "description": "",
            "description_tooltip": null,
            "layout": "IPY_MODEL_188c8ba2b57f4d41b3c4fff8f0d046bc",
            "max": 3711,
            "min": 0,
            "orientation": "horizontal",
            "style": "IPY_MODEL_3e2a669c2d884f14a8ef09cb07fa3e0c",
            "value": 3711
          }
        },
        "876363d999f1463e88c9d2cb619cd9df": {
          "model_module": "@jupyter-widgets/controls",
          "model_name": "HTMLModel",
          "model_module_version": "1.5.0",
          "state": {
            "_dom_classes": [],
            "_model_module": "@jupyter-widgets/controls",
            "_model_module_version": "1.5.0",
            "_model_name": "HTMLModel",
            "_view_count": null,
            "_view_module": "@jupyter-widgets/controls",
            "_view_module_version": "1.5.0",
            "_view_name": "HTMLView",
            "description": "",
            "description_tooltip": null,
            "layout": "IPY_MODEL_a1066f472252407a9a3fe9c9109b402a",
            "placeholder": "​",
            "style": "IPY_MODEL_290f12e128a84c289419675ef6763311",
            "value": " 3711/3711 [00:00&lt;00:00, 5976.93it/s]"
          }
        },
        "c40ad48146124d648a32e43b62fb9391": {
          "model_module": "@jupyter-widgets/base",
          "model_name": "LayoutModel",
          "model_module_version": "1.2.0",
          "state": {
            "_model_module": "@jupyter-widgets/base",
            "_model_module_version": "1.2.0",
            "_model_name": "LayoutModel",
            "_view_count": null,
            "_view_module": "@jupyter-widgets/base",
            "_view_module_version": "1.2.0",
            "_view_name": "LayoutView",
            "align_content": null,
            "align_items": null,
            "align_self": null,
            "border": null,
            "bottom": null,
            "display": null,
            "flex": null,
            "flex_flow": null,
            "grid_area": null,
            "grid_auto_columns": null,
            "grid_auto_flow": null,
            "grid_auto_rows": null,
            "grid_column": null,
            "grid_gap": null,
            "grid_row": null,
            "grid_template_areas": null,
            "grid_template_columns": null,
            "grid_template_rows": null,
            "height": null,
            "justify_content": null,
            "justify_items": null,
            "left": null,
            "margin": null,
            "max_height": null,
            "max_width": null,
            "min_height": null,
            "min_width": null,
            "object_fit": null,
            "object_position": null,
            "order": null,
            "overflow": null,
            "overflow_x": null,
            "overflow_y": null,
            "padding": null,
            "right": null,
            "top": null,
            "visibility": null,
            "width": null
          }
        },
        "5d5c6ae37f714a989a48b8e6a772923c": {
          "model_module": "@jupyter-widgets/base",
          "model_name": "LayoutModel",
          "model_module_version": "1.2.0",
          "state": {
            "_model_module": "@jupyter-widgets/base",
            "_model_module_version": "1.2.0",
            "_model_name": "LayoutModel",
            "_view_count": null,
            "_view_module": "@jupyter-widgets/base",
            "_view_module_version": "1.2.0",
            "_view_name": "LayoutView",
            "align_content": null,
            "align_items": null,
            "align_self": null,
            "border": null,
            "bottom": null,
            "display": null,
            "flex": null,
            "flex_flow": null,
            "grid_area": null,
            "grid_auto_columns": null,
            "grid_auto_flow": null,
            "grid_auto_rows": null,
            "grid_column": null,
            "grid_gap": null,
            "grid_row": null,
            "grid_template_areas": null,
            "grid_template_columns": null,
            "grid_template_rows": null,
            "height": null,
            "justify_content": null,
            "justify_items": null,
            "left": null,
            "margin": null,
            "max_height": null,
            "max_width": null,
            "min_height": null,
            "min_width": null,
            "object_fit": null,
            "object_position": null,
            "order": null,
            "overflow": null,
            "overflow_x": null,
            "overflow_y": null,
            "padding": null,
            "right": null,
            "top": null,
            "visibility": null,
            "width": null
          }
        },
        "895eec8e0816488a9a1dfd0a046a8f3b": {
          "model_module": "@jupyter-widgets/controls",
          "model_name": "DescriptionStyleModel",
          "model_module_version": "1.5.0",
          "state": {
            "_model_module": "@jupyter-widgets/controls",
            "_model_module_version": "1.5.0",
            "_model_name": "DescriptionStyleModel",
            "_view_count": null,
            "_view_module": "@jupyter-widgets/base",
            "_view_module_version": "1.2.0",
            "_view_name": "StyleView",
            "description_width": ""
          }
        },
        "188c8ba2b57f4d41b3c4fff8f0d046bc": {
          "model_module": "@jupyter-widgets/base",
          "model_name": "LayoutModel",
          "model_module_version": "1.2.0",
          "state": {
            "_model_module": "@jupyter-widgets/base",
            "_model_module_version": "1.2.0",
            "_model_name": "LayoutModel",
            "_view_count": null,
            "_view_module": "@jupyter-widgets/base",
            "_view_module_version": "1.2.0",
            "_view_name": "LayoutView",
            "align_content": null,
            "align_items": null,
            "align_self": null,
            "border": null,
            "bottom": null,
            "display": null,
            "flex": null,
            "flex_flow": null,
            "grid_area": null,
            "grid_auto_columns": null,
            "grid_auto_flow": null,
            "grid_auto_rows": null,
            "grid_column": null,
            "grid_gap": null,
            "grid_row": null,
            "grid_template_areas": null,
            "grid_template_columns": null,
            "grid_template_rows": null,
            "height": null,
            "justify_content": null,
            "justify_items": null,
            "left": null,
            "margin": null,
            "max_height": null,
            "max_width": null,
            "min_height": null,
            "min_width": null,
            "object_fit": null,
            "object_position": null,
            "order": null,
            "overflow": null,
            "overflow_x": null,
            "overflow_y": null,
            "padding": null,
            "right": null,
            "top": null,
            "visibility": null,
            "width": null
          }
        },
        "3e2a669c2d884f14a8ef09cb07fa3e0c": {
          "model_module": "@jupyter-widgets/controls",
          "model_name": "ProgressStyleModel",
          "model_module_version": "1.5.0",
          "state": {
            "_model_module": "@jupyter-widgets/controls",
            "_model_module_version": "1.5.0",
            "_model_name": "ProgressStyleModel",
            "_view_count": null,
            "_view_module": "@jupyter-widgets/base",
            "_view_module_version": "1.2.0",
            "_view_name": "StyleView",
            "bar_color": null,
            "description_width": ""
          }
        },
        "a1066f472252407a9a3fe9c9109b402a": {
          "model_module": "@jupyter-widgets/base",
          "model_name": "LayoutModel",
          "model_module_version": "1.2.0",
          "state": {
            "_model_module": "@jupyter-widgets/base",
            "_model_module_version": "1.2.0",
            "_model_name": "LayoutModel",
            "_view_count": null,
            "_view_module": "@jupyter-widgets/base",
            "_view_module_version": "1.2.0",
            "_view_name": "LayoutView",
            "align_content": null,
            "align_items": null,
            "align_self": null,
            "border": null,
            "bottom": null,
            "display": null,
            "flex": null,
            "flex_flow": null,
            "grid_area": null,
            "grid_auto_columns": null,
            "grid_auto_flow": null,
            "grid_auto_rows": null,
            "grid_column": null,
            "grid_gap": null,
            "grid_row": null,
            "grid_template_areas": null,
            "grid_template_columns": null,
            "grid_template_rows": null,
            "height": null,
            "justify_content": null,
            "justify_items": null,
            "left": null,
            "margin": null,
            "max_height": null,
            "max_width": null,
            "min_height": null,
            "min_width": null,
            "object_fit": null,
            "object_position": null,
            "order": null,
            "overflow": null,
            "overflow_x": null,
            "overflow_y": null,
            "padding": null,
            "right": null,
            "top": null,
            "visibility": null,
            "width": null
          }
        },
        "290f12e128a84c289419675ef6763311": {
          "model_module": "@jupyter-widgets/controls",
          "model_name": "DescriptionStyleModel",
          "model_module_version": "1.5.0",
          "state": {
            "_model_module": "@jupyter-widgets/controls",
            "_model_module_version": "1.5.0",
            "_model_name": "DescriptionStyleModel",
            "_view_count": null,
            "_view_module": "@jupyter-widgets/base",
            "_view_module_version": "1.2.0",
            "_view_name": "StyleView",
            "description_width": ""
          }
        },
        "32364683632c4c68ac053836da2c2259": {
          "model_module": "@jupyter-widgets/controls",
          "model_name": "HBoxModel",
          "model_module_version": "1.5.0",
          "state": {
            "_dom_classes": [],
            "_model_module": "@jupyter-widgets/controls",
            "_model_module_version": "1.5.0",
            "_model_name": "HBoxModel",
            "_view_count": null,
            "_view_module": "@jupyter-widgets/controls",
            "_view_module_version": "1.5.0",
            "_view_name": "HBoxView",
            "box_style": "",
            "children": [
              "IPY_MODEL_1648fa298ab34e518f02ec0ae928ef46",
              "IPY_MODEL_c44c6b068dba4bb5a77aa1d8261904d5",
              "IPY_MODEL_9e864e62d60e422fbc24ce1b5e9c2b64"
            ],
            "layout": "IPY_MODEL_f5b771702e5b4745a9a5873a46d59ef4"
          }
        },
        "1648fa298ab34e518f02ec0ae928ef46": {
          "model_module": "@jupyter-widgets/controls",
          "model_name": "HTMLModel",
          "model_module_version": "1.5.0",
          "state": {
            "_dom_classes": [],
            "_model_module": "@jupyter-widgets/controls",
            "_model_module_version": "1.5.0",
            "_model_name": "HTMLModel",
            "_view_count": null,
            "_view_module": "@jupyter-widgets/controls",
            "_view_module_version": "1.5.0",
            "_view_name": "HTMLView",
            "description": "",
            "description_tooltip": null,
            "layout": "IPY_MODEL_db732ed2152642938679d422c1d1c125",
            "placeholder": "​",
            "style": "IPY_MODEL_35c2af6048f949749016befd8c5023c9",
            "value": "Sanity Checking DataLoader 0: 100%"
          }
        },
        "c44c6b068dba4bb5a77aa1d8261904d5": {
          "model_module": "@jupyter-widgets/controls",
          "model_name": "FloatProgressModel",
          "model_module_version": "1.5.0",
          "state": {
            "_dom_classes": [],
            "_model_module": "@jupyter-widgets/controls",
            "_model_module_version": "1.5.0",
            "_model_name": "FloatProgressModel",
            "_view_count": null,
            "_view_module": "@jupyter-widgets/controls",
            "_view_module_version": "1.5.0",
            "_view_name": "ProgressView",
            "bar_style": "",
            "description": "",
            "description_tooltip": null,
            "layout": "IPY_MODEL_6c33ad9f94a94ec9aa84d3924e256758",
            "max": 2,
            "min": 0,
            "orientation": "horizontal",
            "style": "IPY_MODEL_bcaddae7296c4f2d84a509bc71fa2bf2",
            "value": 2
          }
        },
        "9e864e62d60e422fbc24ce1b5e9c2b64": {
          "model_module": "@jupyter-widgets/controls",
          "model_name": "HTMLModel",
          "model_module_version": "1.5.0",
          "state": {
            "_dom_classes": [],
            "_model_module": "@jupyter-widgets/controls",
            "_model_module_version": "1.5.0",
            "_model_name": "HTMLModel",
            "_view_count": null,
            "_view_module": "@jupyter-widgets/controls",
            "_view_module_version": "1.5.0",
            "_view_name": "HTMLView",
            "description": "",
            "description_tooltip": null,
            "layout": "IPY_MODEL_501fbddabd7a436c8cc975939b45203e",
            "placeholder": "​",
            "style": "IPY_MODEL_099bc32cc07a43e6a5163df7a5d5d89b",
            "value": " 2/2 [00:00&lt;00:00,  2.19it/s]"
          }
        },
        "f5b771702e5b4745a9a5873a46d59ef4": {
          "model_module": "@jupyter-widgets/base",
          "model_name": "LayoutModel",
          "model_module_version": "1.2.0",
          "state": {
            "_model_module": "@jupyter-widgets/base",
            "_model_module_version": "1.2.0",
            "_model_name": "LayoutModel",
            "_view_count": null,
            "_view_module": "@jupyter-widgets/base",
            "_view_module_version": "1.2.0",
            "_view_name": "LayoutView",
            "align_content": null,
            "align_items": null,
            "align_self": null,
            "border": null,
            "bottom": null,
            "display": "inline-flex",
            "flex": null,
            "flex_flow": "row wrap",
            "grid_area": null,
            "grid_auto_columns": null,
            "grid_auto_flow": null,
            "grid_auto_rows": null,
            "grid_column": null,
            "grid_gap": null,
            "grid_row": null,
            "grid_template_areas": null,
            "grid_template_columns": null,
            "grid_template_rows": null,
            "height": null,
            "justify_content": null,
            "justify_items": null,
            "left": null,
            "margin": null,
            "max_height": null,
            "max_width": null,
            "min_height": null,
            "min_width": null,
            "object_fit": null,
            "object_position": null,
            "order": null,
            "overflow": null,
            "overflow_x": null,
            "overflow_y": null,
            "padding": null,
            "right": null,
            "top": null,
            "visibility": "hidden",
            "width": "100%"
          }
        },
        "db732ed2152642938679d422c1d1c125": {
          "model_module": "@jupyter-widgets/base",
          "model_name": "LayoutModel",
          "model_module_version": "1.2.0",
          "state": {
            "_model_module": "@jupyter-widgets/base",
            "_model_module_version": "1.2.0",
            "_model_name": "LayoutModel",
            "_view_count": null,
            "_view_module": "@jupyter-widgets/base",
            "_view_module_version": "1.2.0",
            "_view_name": "LayoutView",
            "align_content": null,
            "align_items": null,
            "align_self": null,
            "border": null,
            "bottom": null,
            "display": null,
            "flex": null,
            "flex_flow": null,
            "grid_area": null,
            "grid_auto_columns": null,
            "grid_auto_flow": null,
            "grid_auto_rows": null,
            "grid_column": null,
            "grid_gap": null,
            "grid_row": null,
            "grid_template_areas": null,
            "grid_template_columns": null,
            "grid_template_rows": null,
            "height": null,
            "justify_content": null,
            "justify_items": null,
            "left": null,
            "margin": null,
            "max_height": null,
            "max_width": null,
            "min_height": null,
            "min_width": null,
            "object_fit": null,
            "object_position": null,
            "order": null,
            "overflow": null,
            "overflow_x": null,
            "overflow_y": null,
            "padding": null,
            "right": null,
            "top": null,
            "visibility": null,
            "width": null
          }
        },
        "35c2af6048f949749016befd8c5023c9": {
          "model_module": "@jupyter-widgets/controls",
          "model_name": "DescriptionStyleModel",
          "model_module_version": "1.5.0",
          "state": {
            "_model_module": "@jupyter-widgets/controls",
            "_model_module_version": "1.5.0",
            "_model_name": "DescriptionStyleModel",
            "_view_count": null,
            "_view_module": "@jupyter-widgets/base",
            "_view_module_version": "1.2.0",
            "_view_name": "StyleView",
            "description_width": ""
          }
        },
        "6c33ad9f94a94ec9aa84d3924e256758": {
          "model_module": "@jupyter-widgets/base",
          "model_name": "LayoutModel",
          "model_module_version": "1.2.0",
          "state": {
            "_model_module": "@jupyter-widgets/base",
            "_model_module_version": "1.2.0",
            "_model_name": "LayoutModel",
            "_view_count": null,
            "_view_module": "@jupyter-widgets/base",
            "_view_module_version": "1.2.0",
            "_view_name": "LayoutView",
            "align_content": null,
            "align_items": null,
            "align_self": null,
            "border": null,
            "bottom": null,
            "display": null,
            "flex": "2",
            "flex_flow": null,
            "grid_area": null,
            "grid_auto_columns": null,
            "grid_auto_flow": null,
            "grid_auto_rows": null,
            "grid_column": null,
            "grid_gap": null,
            "grid_row": null,
            "grid_template_areas": null,
            "grid_template_columns": null,
            "grid_template_rows": null,
            "height": null,
            "justify_content": null,
            "justify_items": null,
            "left": null,
            "margin": null,
            "max_height": null,
            "max_width": null,
            "min_height": null,
            "min_width": null,
            "object_fit": null,
            "object_position": null,
            "order": null,
            "overflow": null,
            "overflow_x": null,
            "overflow_y": null,
            "padding": null,
            "right": null,
            "top": null,
            "visibility": null,
            "width": null
          }
        },
        "bcaddae7296c4f2d84a509bc71fa2bf2": {
          "model_module": "@jupyter-widgets/controls",
          "model_name": "ProgressStyleModel",
          "model_module_version": "1.5.0",
          "state": {
            "_model_module": "@jupyter-widgets/controls",
            "_model_module_version": "1.5.0",
            "_model_name": "ProgressStyleModel",
            "_view_count": null,
            "_view_module": "@jupyter-widgets/base",
            "_view_module_version": "1.2.0",
            "_view_name": "StyleView",
            "bar_color": null,
            "description_width": ""
          }
        },
        "501fbddabd7a436c8cc975939b45203e": {
          "model_module": "@jupyter-widgets/base",
          "model_name": "LayoutModel",
          "model_module_version": "1.2.0",
          "state": {
            "_model_module": "@jupyter-widgets/base",
            "_model_module_version": "1.2.0",
            "_model_name": "LayoutModel",
            "_view_count": null,
            "_view_module": "@jupyter-widgets/base",
            "_view_module_version": "1.2.0",
            "_view_name": "LayoutView",
            "align_content": null,
            "align_items": null,
            "align_self": null,
            "border": null,
            "bottom": null,
            "display": null,
            "flex": null,
            "flex_flow": null,
            "grid_area": null,
            "grid_auto_columns": null,
            "grid_auto_flow": null,
            "grid_auto_rows": null,
            "grid_column": null,
            "grid_gap": null,
            "grid_row": null,
            "grid_template_areas": null,
            "grid_template_columns": null,
            "grid_template_rows": null,
            "height": null,
            "justify_content": null,
            "justify_items": null,
            "left": null,
            "margin": null,
            "max_height": null,
            "max_width": null,
            "min_height": null,
            "min_width": null,
            "object_fit": null,
            "object_position": null,
            "order": null,
            "overflow": null,
            "overflow_x": null,
            "overflow_y": null,
            "padding": null,
            "right": null,
            "top": null,
            "visibility": null,
            "width": null
          }
        },
        "099bc32cc07a43e6a5163df7a5d5d89b": {
          "model_module": "@jupyter-widgets/controls",
          "model_name": "DescriptionStyleModel",
          "model_module_version": "1.5.0",
          "state": {
            "_model_module": "@jupyter-widgets/controls",
            "_model_module_version": "1.5.0",
            "_model_name": "DescriptionStyleModel",
            "_view_count": null,
            "_view_module": "@jupyter-widgets/base",
            "_view_module_version": "1.2.0",
            "_view_name": "StyleView",
            "description_width": ""
          }
        },
        "75ed1d95e065449e858d85a3a533f0d4": {
          "model_module": "@jupyter-widgets/controls",
          "model_name": "HBoxModel",
          "model_module_version": "1.5.0",
          "state": {
            "_dom_classes": [],
            "_model_module": "@jupyter-widgets/controls",
            "_model_module_version": "1.5.0",
            "_model_name": "HBoxModel",
            "_view_count": null,
            "_view_module": "@jupyter-widgets/controls",
            "_view_module_version": "1.5.0",
            "_view_name": "HBoxView",
            "box_style": "",
            "children": [
              "IPY_MODEL_03c4934f0f374565bc0db620f56a6779",
              "IPY_MODEL_befe83f04c7046ab8231c10710048988",
              "IPY_MODEL_35cb977c48c646769bc96fa7d93eab4f"
            ],
            "layout": "IPY_MODEL_ef401bee37ca4db88bf0c3700d71afb4"
          }
        },
        "03c4934f0f374565bc0db620f56a6779": {
          "model_module": "@jupyter-widgets/controls",
          "model_name": "HTMLModel",
          "model_module_version": "1.5.0",
          "state": {
            "_dom_classes": [],
            "_model_module": "@jupyter-widgets/controls",
            "_model_module_version": "1.5.0",
            "_model_name": "HTMLModel",
            "_view_count": null,
            "_view_module": "@jupyter-widgets/controls",
            "_view_module_version": "1.5.0",
            "_view_name": "HTMLView",
            "description": "",
            "description_tooltip": null,
            "layout": "IPY_MODEL_f83c8a892c564dc39d03a127dc72bf0e",
            "placeholder": "​",
            "style": "IPY_MODEL_d39e9c046b0648598c85e6ce14748d1a",
            "value": "Epoch 2: 100%"
          }
        },
        "befe83f04c7046ab8231c10710048988": {
          "model_module": "@jupyter-widgets/controls",
          "model_name": "FloatProgressModel",
          "model_module_version": "1.5.0",
          "state": {
            "_dom_classes": [],
            "_model_module": "@jupyter-widgets/controls",
            "_model_module_version": "1.5.0",
            "_model_name": "FloatProgressModel",
            "_view_count": null,
            "_view_module": "@jupyter-widgets/controls",
            "_view_module_version": "1.5.0",
            "_view_name": "ProgressView",
            "bar_style": "success",
            "description": "",
            "description_tooltip": null,
            "layout": "IPY_MODEL_b60707bf723b4c7d848b8b026c117fda",
            "max": 105,
            "min": 0,
            "orientation": "horizontal",
            "style": "IPY_MODEL_678c01c26fe5476db1e372812c5d89da",
            "value": 105
          }
        },
        "35cb977c48c646769bc96fa7d93eab4f": {
          "model_module": "@jupyter-widgets/controls",
          "model_name": "HTMLModel",
          "model_module_version": "1.5.0",
          "state": {
            "_dom_classes": [],
            "_model_module": "@jupyter-widgets/controls",
            "_model_module_version": "1.5.0",
            "_model_name": "HTMLModel",
            "_view_count": null,
            "_view_module": "@jupyter-widgets/controls",
            "_view_module_version": "1.5.0",
            "_view_name": "HTMLView",
            "description": "",
            "description_tooltip": null,
            "layout": "IPY_MODEL_e22c4d1cc8f3413da865ef823c74c76a",
            "placeholder": "​",
            "style": "IPY_MODEL_ee3c8816d51948b2bf5036858800243b",
            "value": " 105/105 [00:56&lt;00:00,  1.86it/s, v_num=37, train_acc_step=0.909, train_loss_step=4.160, val_acc_step=0.950, val_loss_step=28.30, val_acc_epoch=0.876, val_loss_epoch=48.90, train_acc_epoch=0.832, train_loss_epoch=49.00]"
          }
        },
        "ef401bee37ca4db88bf0c3700d71afb4": {
          "model_module": "@jupyter-widgets/base",
          "model_name": "LayoutModel",
          "model_module_version": "1.2.0",
          "state": {
            "_model_module": "@jupyter-widgets/base",
            "_model_module_version": "1.2.0",
            "_model_name": "LayoutModel",
            "_view_count": null,
            "_view_module": "@jupyter-widgets/base",
            "_view_module_version": "1.2.0",
            "_view_name": "LayoutView",
            "align_content": null,
            "align_items": null,
            "align_self": null,
            "border": null,
            "bottom": null,
            "display": "inline-flex",
            "flex": null,
            "flex_flow": "row wrap",
            "grid_area": null,
            "grid_auto_columns": null,
            "grid_auto_flow": null,
            "grid_auto_rows": null,
            "grid_column": null,
            "grid_gap": null,
            "grid_row": null,
            "grid_template_areas": null,
            "grid_template_columns": null,
            "grid_template_rows": null,
            "height": null,
            "justify_content": null,
            "justify_items": null,
            "left": null,
            "margin": null,
            "max_height": null,
            "max_width": null,
            "min_height": null,
            "min_width": null,
            "object_fit": null,
            "object_position": null,
            "order": null,
            "overflow": null,
            "overflow_x": null,
            "overflow_y": null,
            "padding": null,
            "right": null,
            "top": null,
            "visibility": null,
            "width": "100%"
          }
        },
        "f83c8a892c564dc39d03a127dc72bf0e": {
          "model_module": "@jupyter-widgets/base",
          "model_name": "LayoutModel",
          "model_module_version": "1.2.0",
          "state": {
            "_model_module": "@jupyter-widgets/base",
            "_model_module_version": "1.2.0",
            "_model_name": "LayoutModel",
            "_view_count": null,
            "_view_module": "@jupyter-widgets/base",
            "_view_module_version": "1.2.0",
            "_view_name": "LayoutView",
            "align_content": null,
            "align_items": null,
            "align_self": null,
            "border": null,
            "bottom": null,
            "display": null,
            "flex": null,
            "flex_flow": null,
            "grid_area": null,
            "grid_auto_columns": null,
            "grid_auto_flow": null,
            "grid_auto_rows": null,
            "grid_column": null,
            "grid_gap": null,
            "grid_row": null,
            "grid_template_areas": null,
            "grid_template_columns": null,
            "grid_template_rows": null,
            "height": null,
            "justify_content": null,
            "justify_items": null,
            "left": null,
            "margin": null,
            "max_height": null,
            "max_width": null,
            "min_height": null,
            "min_width": null,
            "object_fit": null,
            "object_position": null,
            "order": null,
            "overflow": null,
            "overflow_x": null,
            "overflow_y": null,
            "padding": null,
            "right": null,
            "top": null,
            "visibility": null,
            "width": null
          }
        },
        "d39e9c046b0648598c85e6ce14748d1a": {
          "model_module": "@jupyter-widgets/controls",
          "model_name": "DescriptionStyleModel",
          "model_module_version": "1.5.0",
          "state": {
            "_model_module": "@jupyter-widgets/controls",
            "_model_module_version": "1.5.0",
            "_model_name": "DescriptionStyleModel",
            "_view_count": null,
            "_view_module": "@jupyter-widgets/base",
            "_view_module_version": "1.2.0",
            "_view_name": "StyleView",
            "description_width": ""
          }
        },
        "b60707bf723b4c7d848b8b026c117fda": {
          "model_module": "@jupyter-widgets/base",
          "model_name": "LayoutModel",
          "model_module_version": "1.2.0",
          "state": {
            "_model_module": "@jupyter-widgets/base",
            "_model_module_version": "1.2.0",
            "_model_name": "LayoutModel",
            "_view_count": null,
            "_view_module": "@jupyter-widgets/base",
            "_view_module_version": "1.2.0",
            "_view_name": "LayoutView",
            "align_content": null,
            "align_items": null,
            "align_self": null,
            "border": null,
            "bottom": null,
            "display": null,
            "flex": "2",
            "flex_flow": null,
            "grid_area": null,
            "grid_auto_columns": null,
            "grid_auto_flow": null,
            "grid_auto_rows": null,
            "grid_column": null,
            "grid_gap": null,
            "grid_row": null,
            "grid_template_areas": null,
            "grid_template_columns": null,
            "grid_template_rows": null,
            "height": null,
            "justify_content": null,
            "justify_items": null,
            "left": null,
            "margin": null,
            "max_height": null,
            "max_width": null,
            "min_height": null,
            "min_width": null,
            "object_fit": null,
            "object_position": null,
            "order": null,
            "overflow": null,
            "overflow_x": null,
            "overflow_y": null,
            "padding": null,
            "right": null,
            "top": null,
            "visibility": null,
            "width": null
          }
        },
        "678c01c26fe5476db1e372812c5d89da": {
          "model_module": "@jupyter-widgets/controls",
          "model_name": "ProgressStyleModel",
          "model_module_version": "1.5.0",
          "state": {
            "_model_module": "@jupyter-widgets/controls",
            "_model_module_version": "1.5.0",
            "_model_name": "ProgressStyleModel",
            "_view_count": null,
            "_view_module": "@jupyter-widgets/base",
            "_view_module_version": "1.2.0",
            "_view_name": "StyleView",
            "bar_color": null,
            "description_width": ""
          }
        },
        "e22c4d1cc8f3413da865ef823c74c76a": {
          "model_module": "@jupyter-widgets/base",
          "model_name": "LayoutModel",
          "model_module_version": "1.2.0",
          "state": {
            "_model_module": "@jupyter-widgets/base",
            "_model_module_version": "1.2.0",
            "_model_name": "LayoutModel",
            "_view_count": null,
            "_view_module": "@jupyter-widgets/base",
            "_view_module_version": "1.2.0",
            "_view_name": "LayoutView",
            "align_content": null,
            "align_items": null,
            "align_self": null,
            "border": null,
            "bottom": null,
            "display": null,
            "flex": null,
            "flex_flow": null,
            "grid_area": null,
            "grid_auto_columns": null,
            "grid_auto_flow": null,
            "grid_auto_rows": null,
            "grid_column": null,
            "grid_gap": null,
            "grid_row": null,
            "grid_template_areas": null,
            "grid_template_columns": null,
            "grid_template_rows": null,
            "height": null,
            "justify_content": null,
            "justify_items": null,
            "left": null,
            "margin": null,
            "max_height": null,
            "max_width": null,
            "min_height": null,
            "min_width": null,
            "object_fit": null,
            "object_position": null,
            "order": null,
            "overflow": null,
            "overflow_x": null,
            "overflow_y": null,
            "padding": null,
            "right": null,
            "top": null,
            "visibility": null,
            "width": null
          }
        },
        "ee3c8816d51948b2bf5036858800243b": {
          "model_module": "@jupyter-widgets/controls",
          "model_name": "DescriptionStyleModel",
          "model_module_version": "1.5.0",
          "state": {
            "_model_module": "@jupyter-widgets/controls",
            "_model_module_version": "1.5.0",
            "_model_name": "DescriptionStyleModel",
            "_view_count": null,
            "_view_module": "@jupyter-widgets/base",
            "_view_module_version": "1.2.0",
            "_view_name": "StyleView",
            "description_width": ""
          }
        },
        "d6d1f709b3a949a49511e2d271ec6257": {
          "model_module": "@jupyter-widgets/controls",
          "model_name": "HBoxModel",
          "model_module_version": "1.5.0",
          "state": {
            "_dom_classes": [],
            "_model_module": "@jupyter-widgets/controls",
            "_model_module_version": "1.5.0",
            "_model_name": "HBoxModel",
            "_view_count": null,
            "_view_module": "@jupyter-widgets/controls",
            "_view_module_version": "1.5.0",
            "_view_name": "HBoxView",
            "box_style": "",
            "children": [
              "IPY_MODEL_24be0d6ebba94319abbee6a5126c3a02",
              "IPY_MODEL_7931364ee4ed45838f37b49f01a4ccbc",
              "IPY_MODEL_2ffc1d9ebde64c02b225485bb9591f0b"
            ],
            "layout": "IPY_MODEL_0b841a0c5cdc426cab2768de03d362f6"
          }
        },
        "24be0d6ebba94319abbee6a5126c3a02": {
          "model_module": "@jupyter-widgets/controls",
          "model_name": "HTMLModel",
          "model_module_version": "1.5.0",
          "state": {
            "_dom_classes": [],
            "_model_module": "@jupyter-widgets/controls",
            "_model_module_version": "1.5.0",
            "_model_name": "HTMLModel",
            "_view_count": null,
            "_view_module": "@jupyter-widgets/controls",
            "_view_module_version": "1.5.0",
            "_view_name": "HTMLView",
            "description": "",
            "description_tooltip": null,
            "layout": "IPY_MODEL_9f08b0a8f6dd48b0a2fea7db45f641e2",
            "placeholder": "​",
            "style": "IPY_MODEL_eb417123742141dfacf6d5a9ed6b6fcf",
            "value": "Validation DataLoader 0: 100%"
          }
        },
        "7931364ee4ed45838f37b49f01a4ccbc": {
          "model_module": "@jupyter-widgets/controls",
          "model_name": "FloatProgressModel",
          "model_module_version": "1.5.0",
          "state": {
            "_dom_classes": [],
            "_model_module": "@jupyter-widgets/controls",
            "_model_module_version": "1.5.0",
            "_model_name": "FloatProgressModel",
            "_view_count": null,
            "_view_module": "@jupyter-widgets/controls",
            "_view_module_version": "1.5.0",
            "_view_name": "ProgressView",
            "bar_style": "",
            "description": "",
            "description_tooltip": null,
            "layout": "IPY_MODEL_fcba566c87444f31a770aa847982a12c",
            "max": 12,
            "min": 0,
            "orientation": "horizontal",
            "style": "IPY_MODEL_db7dff156b8c493a81b789c608e7cda7",
            "value": 12
          }
        },
        "2ffc1d9ebde64c02b225485bb9591f0b": {
          "model_module": "@jupyter-widgets/controls",
          "model_name": "HTMLModel",
          "model_module_version": "1.5.0",
          "state": {
            "_dom_classes": [],
            "_model_module": "@jupyter-widgets/controls",
            "_model_module_version": "1.5.0",
            "_model_name": "HTMLModel",
            "_view_count": null,
            "_view_module": "@jupyter-widgets/controls",
            "_view_module_version": "1.5.0",
            "_view_name": "HTMLView",
            "description": "",
            "description_tooltip": null,
            "layout": "IPY_MODEL_2d26714f572d449c9b581cb66f3d6bb2",
            "placeholder": "​",
            "style": "IPY_MODEL_0d863b50efa14fb0bc5176f56d5ad242",
            "value": " 12/12 [00:02&lt;00:00,  4.06it/s]"
          }
        },
        "0b841a0c5cdc426cab2768de03d362f6": {
          "model_module": "@jupyter-widgets/base",
          "model_name": "LayoutModel",
          "model_module_version": "1.2.0",
          "state": {
            "_model_module": "@jupyter-widgets/base",
            "_model_module_version": "1.2.0",
            "_model_name": "LayoutModel",
            "_view_count": null,
            "_view_module": "@jupyter-widgets/base",
            "_view_module_version": "1.2.0",
            "_view_name": "LayoutView",
            "align_content": null,
            "align_items": null,
            "align_self": null,
            "border": null,
            "bottom": null,
            "display": "inline-flex",
            "flex": null,
            "flex_flow": "row wrap",
            "grid_area": null,
            "grid_auto_columns": null,
            "grid_auto_flow": null,
            "grid_auto_rows": null,
            "grid_column": null,
            "grid_gap": null,
            "grid_row": null,
            "grid_template_areas": null,
            "grid_template_columns": null,
            "grid_template_rows": null,
            "height": null,
            "justify_content": null,
            "justify_items": null,
            "left": null,
            "margin": null,
            "max_height": null,
            "max_width": null,
            "min_height": null,
            "min_width": null,
            "object_fit": null,
            "object_position": null,
            "order": null,
            "overflow": null,
            "overflow_x": null,
            "overflow_y": null,
            "padding": null,
            "right": null,
            "top": null,
            "visibility": "hidden",
            "width": "100%"
          }
        },
        "9f08b0a8f6dd48b0a2fea7db45f641e2": {
          "model_module": "@jupyter-widgets/base",
          "model_name": "LayoutModel",
          "model_module_version": "1.2.0",
          "state": {
            "_model_module": "@jupyter-widgets/base",
            "_model_module_version": "1.2.0",
            "_model_name": "LayoutModel",
            "_view_count": null,
            "_view_module": "@jupyter-widgets/base",
            "_view_module_version": "1.2.0",
            "_view_name": "LayoutView",
            "align_content": null,
            "align_items": null,
            "align_self": null,
            "border": null,
            "bottom": null,
            "display": null,
            "flex": null,
            "flex_flow": null,
            "grid_area": null,
            "grid_auto_columns": null,
            "grid_auto_flow": null,
            "grid_auto_rows": null,
            "grid_column": null,
            "grid_gap": null,
            "grid_row": null,
            "grid_template_areas": null,
            "grid_template_columns": null,
            "grid_template_rows": null,
            "height": null,
            "justify_content": null,
            "justify_items": null,
            "left": null,
            "margin": null,
            "max_height": null,
            "max_width": null,
            "min_height": null,
            "min_width": null,
            "object_fit": null,
            "object_position": null,
            "order": null,
            "overflow": null,
            "overflow_x": null,
            "overflow_y": null,
            "padding": null,
            "right": null,
            "top": null,
            "visibility": null,
            "width": null
          }
        },
        "eb417123742141dfacf6d5a9ed6b6fcf": {
          "model_module": "@jupyter-widgets/controls",
          "model_name": "DescriptionStyleModel",
          "model_module_version": "1.5.0",
          "state": {
            "_model_module": "@jupyter-widgets/controls",
            "_model_module_version": "1.5.0",
            "_model_name": "DescriptionStyleModel",
            "_view_count": null,
            "_view_module": "@jupyter-widgets/base",
            "_view_module_version": "1.2.0",
            "_view_name": "StyleView",
            "description_width": ""
          }
        },
        "fcba566c87444f31a770aa847982a12c": {
          "model_module": "@jupyter-widgets/base",
          "model_name": "LayoutModel",
          "model_module_version": "1.2.0",
          "state": {
            "_model_module": "@jupyter-widgets/base",
            "_model_module_version": "1.2.0",
            "_model_name": "LayoutModel",
            "_view_count": null,
            "_view_module": "@jupyter-widgets/base",
            "_view_module_version": "1.2.0",
            "_view_name": "LayoutView",
            "align_content": null,
            "align_items": null,
            "align_self": null,
            "border": null,
            "bottom": null,
            "display": null,
            "flex": "2",
            "flex_flow": null,
            "grid_area": null,
            "grid_auto_columns": null,
            "grid_auto_flow": null,
            "grid_auto_rows": null,
            "grid_column": null,
            "grid_gap": null,
            "grid_row": null,
            "grid_template_areas": null,
            "grid_template_columns": null,
            "grid_template_rows": null,
            "height": null,
            "justify_content": null,
            "justify_items": null,
            "left": null,
            "margin": null,
            "max_height": null,
            "max_width": null,
            "min_height": null,
            "min_width": null,
            "object_fit": null,
            "object_position": null,
            "order": null,
            "overflow": null,
            "overflow_x": null,
            "overflow_y": null,
            "padding": null,
            "right": null,
            "top": null,
            "visibility": null,
            "width": null
          }
        },
        "db7dff156b8c493a81b789c608e7cda7": {
          "model_module": "@jupyter-widgets/controls",
          "model_name": "ProgressStyleModel",
          "model_module_version": "1.5.0",
          "state": {
            "_model_module": "@jupyter-widgets/controls",
            "_model_module_version": "1.5.0",
            "_model_name": "ProgressStyleModel",
            "_view_count": null,
            "_view_module": "@jupyter-widgets/base",
            "_view_module_version": "1.2.0",
            "_view_name": "StyleView",
            "bar_color": null,
            "description_width": ""
          }
        },
        "2d26714f572d449c9b581cb66f3d6bb2": {
          "model_module": "@jupyter-widgets/base",
          "model_name": "LayoutModel",
          "model_module_version": "1.2.0",
          "state": {
            "_model_module": "@jupyter-widgets/base",
            "_model_module_version": "1.2.0",
            "_model_name": "LayoutModel",
            "_view_count": null,
            "_view_module": "@jupyter-widgets/base",
            "_view_module_version": "1.2.0",
            "_view_name": "LayoutView",
            "align_content": null,
            "align_items": null,
            "align_self": null,
            "border": null,
            "bottom": null,
            "display": null,
            "flex": null,
            "flex_flow": null,
            "grid_area": null,
            "grid_auto_columns": null,
            "grid_auto_flow": null,
            "grid_auto_rows": null,
            "grid_column": null,
            "grid_gap": null,
            "grid_row": null,
            "grid_template_areas": null,
            "grid_template_columns": null,
            "grid_template_rows": null,
            "height": null,
            "justify_content": null,
            "justify_items": null,
            "left": null,
            "margin": null,
            "max_height": null,
            "max_width": null,
            "min_height": null,
            "min_width": null,
            "object_fit": null,
            "object_position": null,
            "order": null,
            "overflow": null,
            "overflow_x": null,
            "overflow_y": null,
            "padding": null,
            "right": null,
            "top": null,
            "visibility": null,
            "width": null
          }
        },
        "0d863b50efa14fb0bc5176f56d5ad242": {
          "model_module": "@jupyter-widgets/controls",
          "model_name": "DescriptionStyleModel",
          "model_module_version": "1.5.0",
          "state": {
            "_model_module": "@jupyter-widgets/controls",
            "_model_module_version": "1.5.0",
            "_model_name": "DescriptionStyleModel",
            "_view_count": null,
            "_view_module": "@jupyter-widgets/base",
            "_view_module_version": "1.2.0",
            "_view_name": "StyleView",
            "description_width": ""
          }
        },
        "4cb564df882346feb96ff8b961134ac1": {
          "model_module": "@jupyter-widgets/controls",
          "model_name": "HBoxModel",
          "model_module_version": "1.5.0",
          "state": {
            "_dom_classes": [],
            "_model_module": "@jupyter-widgets/controls",
            "_model_module_version": "1.5.0",
            "_model_name": "HBoxModel",
            "_view_count": null,
            "_view_module": "@jupyter-widgets/controls",
            "_view_module_version": "1.5.0",
            "_view_name": "HBoxView",
            "box_style": "",
            "children": [
              "IPY_MODEL_31687719de6e40ee95dad2cda9cf1519",
              "IPY_MODEL_a1b4476c2f9145b4a39fd75a6a76dca4",
              "IPY_MODEL_51e46105db4b4766a37e6779753017d7"
            ],
            "layout": "IPY_MODEL_c04855f44d1c4903972be33a30808e47"
          }
        },
        "31687719de6e40ee95dad2cda9cf1519": {
          "model_module": "@jupyter-widgets/controls",
          "model_name": "HTMLModel",
          "model_module_version": "1.5.0",
          "state": {
            "_dom_classes": [],
            "_model_module": "@jupyter-widgets/controls",
            "_model_module_version": "1.5.0",
            "_model_name": "HTMLModel",
            "_view_count": null,
            "_view_module": "@jupyter-widgets/controls",
            "_view_module_version": "1.5.0",
            "_view_name": "HTMLView",
            "description": "",
            "description_tooltip": null,
            "layout": "IPY_MODEL_8d1e5b1cd6eb49819272919cec5bbf0d",
            "placeholder": "​",
            "style": "IPY_MODEL_df017fc69253484abcac7b25dad008c4",
            "value": "Validation DataLoader 0: 100%"
          }
        },
        "a1b4476c2f9145b4a39fd75a6a76dca4": {
          "model_module": "@jupyter-widgets/controls",
          "model_name": "FloatProgressModel",
          "model_module_version": "1.5.0",
          "state": {
            "_dom_classes": [],
            "_model_module": "@jupyter-widgets/controls",
            "_model_module_version": "1.5.0",
            "_model_name": "FloatProgressModel",
            "_view_count": null,
            "_view_module": "@jupyter-widgets/controls",
            "_view_module_version": "1.5.0",
            "_view_name": "ProgressView",
            "bar_style": "",
            "description": "",
            "description_tooltip": null,
            "layout": "IPY_MODEL_c29c7d18244a440693fe4ce9e8d8f253",
            "max": 12,
            "min": 0,
            "orientation": "horizontal",
            "style": "IPY_MODEL_179cac67a44646f4aaf694b36b077345",
            "value": 12
          }
        },
        "51e46105db4b4766a37e6779753017d7": {
          "model_module": "@jupyter-widgets/controls",
          "model_name": "HTMLModel",
          "model_module_version": "1.5.0",
          "state": {
            "_dom_classes": [],
            "_model_module": "@jupyter-widgets/controls",
            "_model_module_version": "1.5.0",
            "_model_name": "HTMLModel",
            "_view_count": null,
            "_view_module": "@jupyter-widgets/controls",
            "_view_module_version": "1.5.0",
            "_view_name": "HTMLView",
            "description": "",
            "description_tooltip": null,
            "layout": "IPY_MODEL_696700eec681424bbd500fed30bb4660",
            "placeholder": "​",
            "style": "IPY_MODEL_bceed34f0e414413b2c417c4e28ca7e2",
            "value": " 12/12 [00:02&lt;00:00,  5.69it/s]"
          }
        },
        "c04855f44d1c4903972be33a30808e47": {
          "model_module": "@jupyter-widgets/base",
          "model_name": "LayoutModel",
          "model_module_version": "1.2.0",
          "state": {
            "_model_module": "@jupyter-widgets/base",
            "_model_module_version": "1.2.0",
            "_model_name": "LayoutModel",
            "_view_count": null,
            "_view_module": "@jupyter-widgets/base",
            "_view_module_version": "1.2.0",
            "_view_name": "LayoutView",
            "align_content": null,
            "align_items": null,
            "align_self": null,
            "border": null,
            "bottom": null,
            "display": "inline-flex",
            "flex": null,
            "flex_flow": "row wrap",
            "grid_area": null,
            "grid_auto_columns": null,
            "grid_auto_flow": null,
            "grid_auto_rows": null,
            "grid_column": null,
            "grid_gap": null,
            "grid_row": null,
            "grid_template_areas": null,
            "grid_template_columns": null,
            "grid_template_rows": null,
            "height": null,
            "justify_content": null,
            "justify_items": null,
            "left": null,
            "margin": null,
            "max_height": null,
            "max_width": null,
            "min_height": null,
            "min_width": null,
            "object_fit": null,
            "object_position": null,
            "order": null,
            "overflow": null,
            "overflow_x": null,
            "overflow_y": null,
            "padding": null,
            "right": null,
            "top": null,
            "visibility": "hidden",
            "width": "100%"
          }
        },
        "8d1e5b1cd6eb49819272919cec5bbf0d": {
          "model_module": "@jupyter-widgets/base",
          "model_name": "LayoutModel",
          "model_module_version": "1.2.0",
          "state": {
            "_model_module": "@jupyter-widgets/base",
            "_model_module_version": "1.2.0",
            "_model_name": "LayoutModel",
            "_view_count": null,
            "_view_module": "@jupyter-widgets/base",
            "_view_module_version": "1.2.0",
            "_view_name": "LayoutView",
            "align_content": null,
            "align_items": null,
            "align_self": null,
            "border": null,
            "bottom": null,
            "display": null,
            "flex": null,
            "flex_flow": null,
            "grid_area": null,
            "grid_auto_columns": null,
            "grid_auto_flow": null,
            "grid_auto_rows": null,
            "grid_column": null,
            "grid_gap": null,
            "grid_row": null,
            "grid_template_areas": null,
            "grid_template_columns": null,
            "grid_template_rows": null,
            "height": null,
            "justify_content": null,
            "justify_items": null,
            "left": null,
            "margin": null,
            "max_height": null,
            "max_width": null,
            "min_height": null,
            "min_width": null,
            "object_fit": null,
            "object_position": null,
            "order": null,
            "overflow": null,
            "overflow_x": null,
            "overflow_y": null,
            "padding": null,
            "right": null,
            "top": null,
            "visibility": null,
            "width": null
          }
        },
        "df017fc69253484abcac7b25dad008c4": {
          "model_module": "@jupyter-widgets/controls",
          "model_name": "DescriptionStyleModel",
          "model_module_version": "1.5.0",
          "state": {
            "_model_module": "@jupyter-widgets/controls",
            "_model_module_version": "1.5.0",
            "_model_name": "DescriptionStyleModel",
            "_view_count": null,
            "_view_module": "@jupyter-widgets/base",
            "_view_module_version": "1.2.0",
            "_view_name": "StyleView",
            "description_width": ""
          }
        },
        "c29c7d18244a440693fe4ce9e8d8f253": {
          "model_module": "@jupyter-widgets/base",
          "model_name": "LayoutModel",
          "model_module_version": "1.2.0",
          "state": {
            "_model_module": "@jupyter-widgets/base",
            "_model_module_version": "1.2.0",
            "_model_name": "LayoutModel",
            "_view_count": null,
            "_view_module": "@jupyter-widgets/base",
            "_view_module_version": "1.2.0",
            "_view_name": "LayoutView",
            "align_content": null,
            "align_items": null,
            "align_self": null,
            "border": null,
            "bottom": null,
            "display": null,
            "flex": "2",
            "flex_flow": null,
            "grid_area": null,
            "grid_auto_columns": null,
            "grid_auto_flow": null,
            "grid_auto_rows": null,
            "grid_column": null,
            "grid_gap": null,
            "grid_row": null,
            "grid_template_areas": null,
            "grid_template_columns": null,
            "grid_template_rows": null,
            "height": null,
            "justify_content": null,
            "justify_items": null,
            "left": null,
            "margin": null,
            "max_height": null,
            "max_width": null,
            "min_height": null,
            "min_width": null,
            "object_fit": null,
            "object_position": null,
            "order": null,
            "overflow": null,
            "overflow_x": null,
            "overflow_y": null,
            "padding": null,
            "right": null,
            "top": null,
            "visibility": null,
            "width": null
          }
        },
        "179cac67a44646f4aaf694b36b077345": {
          "model_module": "@jupyter-widgets/controls",
          "model_name": "ProgressStyleModel",
          "model_module_version": "1.5.0",
          "state": {
            "_model_module": "@jupyter-widgets/controls",
            "_model_module_version": "1.5.0",
            "_model_name": "ProgressStyleModel",
            "_view_count": null,
            "_view_module": "@jupyter-widgets/base",
            "_view_module_version": "1.2.0",
            "_view_name": "StyleView",
            "bar_color": null,
            "description_width": ""
          }
        },
        "696700eec681424bbd500fed30bb4660": {
          "model_module": "@jupyter-widgets/base",
          "model_name": "LayoutModel",
          "model_module_version": "1.2.0",
          "state": {
            "_model_module": "@jupyter-widgets/base",
            "_model_module_version": "1.2.0",
            "_model_name": "LayoutModel",
            "_view_count": null,
            "_view_module": "@jupyter-widgets/base",
            "_view_module_version": "1.2.0",
            "_view_name": "LayoutView",
            "align_content": null,
            "align_items": null,
            "align_self": null,
            "border": null,
            "bottom": null,
            "display": null,
            "flex": null,
            "flex_flow": null,
            "grid_area": null,
            "grid_auto_columns": null,
            "grid_auto_flow": null,
            "grid_auto_rows": null,
            "grid_column": null,
            "grid_gap": null,
            "grid_row": null,
            "grid_template_areas": null,
            "grid_template_columns": null,
            "grid_template_rows": null,
            "height": null,
            "justify_content": null,
            "justify_items": null,
            "left": null,
            "margin": null,
            "max_height": null,
            "max_width": null,
            "min_height": null,
            "min_width": null,
            "object_fit": null,
            "object_position": null,
            "order": null,
            "overflow": null,
            "overflow_x": null,
            "overflow_y": null,
            "padding": null,
            "right": null,
            "top": null,
            "visibility": null,
            "width": null
          }
        },
        "bceed34f0e414413b2c417c4e28ca7e2": {
          "model_module": "@jupyter-widgets/controls",
          "model_name": "DescriptionStyleModel",
          "model_module_version": "1.5.0",
          "state": {
            "_model_module": "@jupyter-widgets/controls",
            "_model_module_version": "1.5.0",
            "_model_name": "DescriptionStyleModel",
            "_view_count": null,
            "_view_module": "@jupyter-widgets/base",
            "_view_module_version": "1.2.0",
            "_view_name": "StyleView",
            "description_width": ""
          }
        },
        "e891c738007349faa0bcc5afb520efb5": {
          "model_module": "@jupyter-widgets/controls",
          "model_name": "HBoxModel",
          "model_module_version": "1.5.0",
          "state": {
            "_dom_classes": [],
            "_model_module": "@jupyter-widgets/controls",
            "_model_module_version": "1.5.0",
            "_model_name": "HBoxModel",
            "_view_count": null,
            "_view_module": "@jupyter-widgets/controls",
            "_view_module_version": "1.5.0",
            "_view_name": "HBoxView",
            "box_style": "",
            "children": [
              "IPY_MODEL_a28529b434264bf1bf2d6f9bb3b0ca0a",
              "IPY_MODEL_4a28aa1d4a9d4f01ad59895a06b93b3c",
              "IPY_MODEL_9a0a5833ab3945aeb19222e9a0a12781"
            ],
            "layout": "IPY_MODEL_ca68946055b84a488bb1b9e43a1c9c15"
          }
        },
        "a28529b434264bf1bf2d6f9bb3b0ca0a": {
          "model_module": "@jupyter-widgets/controls",
          "model_name": "HTMLModel",
          "model_module_version": "1.5.0",
          "state": {
            "_dom_classes": [],
            "_model_module": "@jupyter-widgets/controls",
            "_model_module_version": "1.5.0",
            "_model_name": "HTMLModel",
            "_view_count": null,
            "_view_module": "@jupyter-widgets/controls",
            "_view_module_version": "1.5.0",
            "_view_name": "HTMLView",
            "description": "",
            "description_tooltip": null,
            "layout": "IPY_MODEL_79aa0690156c46baaa936524ac3ecaef",
            "placeholder": "​",
            "style": "IPY_MODEL_9e999173536b4d869240b002d7b15ce2",
            "value": "Validation DataLoader 0: 100%"
          }
        },
        "4a28aa1d4a9d4f01ad59895a06b93b3c": {
          "model_module": "@jupyter-widgets/controls",
          "model_name": "FloatProgressModel",
          "model_module_version": "1.5.0",
          "state": {
            "_dom_classes": [],
            "_model_module": "@jupyter-widgets/controls",
            "_model_module_version": "1.5.0",
            "_model_name": "FloatProgressModel",
            "_view_count": null,
            "_view_module": "@jupyter-widgets/controls",
            "_view_module_version": "1.5.0",
            "_view_name": "ProgressView",
            "bar_style": "",
            "description": "",
            "description_tooltip": null,
            "layout": "IPY_MODEL_217ac01e001b404ebbf148228ba2eebc",
            "max": 12,
            "min": 0,
            "orientation": "horizontal",
            "style": "IPY_MODEL_bd4e56ccfa204aa492186ecbd7bffb01",
            "value": 12
          }
        },
        "9a0a5833ab3945aeb19222e9a0a12781": {
          "model_module": "@jupyter-widgets/controls",
          "model_name": "HTMLModel",
          "model_module_version": "1.5.0",
          "state": {
            "_dom_classes": [],
            "_model_module": "@jupyter-widgets/controls",
            "_model_module_version": "1.5.0",
            "_model_name": "HTMLModel",
            "_view_count": null,
            "_view_module": "@jupyter-widgets/controls",
            "_view_module_version": "1.5.0",
            "_view_name": "HTMLView",
            "description": "",
            "description_tooltip": null,
            "layout": "IPY_MODEL_33d9ee6b10bf4224906668cbe4bea1f6",
            "placeholder": "​",
            "style": "IPY_MODEL_0b914c3e360a434488929a8df158989e",
            "value": " 12/12 [00:02&lt;00:00,  5.66it/s]"
          }
        },
        "ca68946055b84a488bb1b9e43a1c9c15": {
          "model_module": "@jupyter-widgets/base",
          "model_name": "LayoutModel",
          "model_module_version": "1.2.0",
          "state": {
            "_model_module": "@jupyter-widgets/base",
            "_model_module_version": "1.2.0",
            "_model_name": "LayoutModel",
            "_view_count": null,
            "_view_module": "@jupyter-widgets/base",
            "_view_module_version": "1.2.0",
            "_view_name": "LayoutView",
            "align_content": null,
            "align_items": null,
            "align_self": null,
            "border": null,
            "bottom": null,
            "display": "inline-flex",
            "flex": null,
            "flex_flow": "row wrap",
            "grid_area": null,
            "grid_auto_columns": null,
            "grid_auto_flow": null,
            "grid_auto_rows": null,
            "grid_column": null,
            "grid_gap": null,
            "grid_row": null,
            "grid_template_areas": null,
            "grid_template_columns": null,
            "grid_template_rows": null,
            "height": null,
            "justify_content": null,
            "justify_items": null,
            "left": null,
            "margin": null,
            "max_height": null,
            "max_width": null,
            "min_height": null,
            "min_width": null,
            "object_fit": null,
            "object_position": null,
            "order": null,
            "overflow": null,
            "overflow_x": null,
            "overflow_y": null,
            "padding": null,
            "right": null,
            "top": null,
            "visibility": "hidden",
            "width": "100%"
          }
        },
        "79aa0690156c46baaa936524ac3ecaef": {
          "model_module": "@jupyter-widgets/base",
          "model_name": "LayoutModel",
          "model_module_version": "1.2.0",
          "state": {
            "_model_module": "@jupyter-widgets/base",
            "_model_module_version": "1.2.0",
            "_model_name": "LayoutModel",
            "_view_count": null,
            "_view_module": "@jupyter-widgets/base",
            "_view_module_version": "1.2.0",
            "_view_name": "LayoutView",
            "align_content": null,
            "align_items": null,
            "align_self": null,
            "border": null,
            "bottom": null,
            "display": null,
            "flex": null,
            "flex_flow": null,
            "grid_area": null,
            "grid_auto_columns": null,
            "grid_auto_flow": null,
            "grid_auto_rows": null,
            "grid_column": null,
            "grid_gap": null,
            "grid_row": null,
            "grid_template_areas": null,
            "grid_template_columns": null,
            "grid_template_rows": null,
            "height": null,
            "justify_content": null,
            "justify_items": null,
            "left": null,
            "margin": null,
            "max_height": null,
            "max_width": null,
            "min_height": null,
            "min_width": null,
            "object_fit": null,
            "object_position": null,
            "order": null,
            "overflow": null,
            "overflow_x": null,
            "overflow_y": null,
            "padding": null,
            "right": null,
            "top": null,
            "visibility": null,
            "width": null
          }
        },
        "9e999173536b4d869240b002d7b15ce2": {
          "model_module": "@jupyter-widgets/controls",
          "model_name": "DescriptionStyleModel",
          "model_module_version": "1.5.0",
          "state": {
            "_model_module": "@jupyter-widgets/controls",
            "_model_module_version": "1.5.0",
            "_model_name": "DescriptionStyleModel",
            "_view_count": null,
            "_view_module": "@jupyter-widgets/base",
            "_view_module_version": "1.2.0",
            "_view_name": "StyleView",
            "description_width": ""
          }
        },
        "217ac01e001b404ebbf148228ba2eebc": {
          "model_module": "@jupyter-widgets/base",
          "model_name": "LayoutModel",
          "model_module_version": "1.2.0",
          "state": {
            "_model_module": "@jupyter-widgets/base",
            "_model_module_version": "1.2.0",
            "_model_name": "LayoutModel",
            "_view_count": null,
            "_view_module": "@jupyter-widgets/base",
            "_view_module_version": "1.2.0",
            "_view_name": "LayoutView",
            "align_content": null,
            "align_items": null,
            "align_self": null,
            "border": null,
            "bottom": null,
            "display": null,
            "flex": "2",
            "flex_flow": null,
            "grid_area": null,
            "grid_auto_columns": null,
            "grid_auto_flow": null,
            "grid_auto_rows": null,
            "grid_column": null,
            "grid_gap": null,
            "grid_row": null,
            "grid_template_areas": null,
            "grid_template_columns": null,
            "grid_template_rows": null,
            "height": null,
            "justify_content": null,
            "justify_items": null,
            "left": null,
            "margin": null,
            "max_height": null,
            "max_width": null,
            "min_height": null,
            "min_width": null,
            "object_fit": null,
            "object_position": null,
            "order": null,
            "overflow": null,
            "overflow_x": null,
            "overflow_y": null,
            "padding": null,
            "right": null,
            "top": null,
            "visibility": null,
            "width": null
          }
        },
        "bd4e56ccfa204aa492186ecbd7bffb01": {
          "model_module": "@jupyter-widgets/controls",
          "model_name": "ProgressStyleModel",
          "model_module_version": "1.5.0",
          "state": {
            "_model_module": "@jupyter-widgets/controls",
            "_model_module_version": "1.5.0",
            "_model_name": "ProgressStyleModel",
            "_view_count": null,
            "_view_module": "@jupyter-widgets/base",
            "_view_module_version": "1.2.0",
            "_view_name": "StyleView",
            "bar_color": null,
            "description_width": ""
          }
        },
        "33d9ee6b10bf4224906668cbe4bea1f6": {
          "model_module": "@jupyter-widgets/base",
          "model_name": "LayoutModel",
          "model_module_version": "1.2.0",
          "state": {
            "_model_module": "@jupyter-widgets/base",
            "_model_module_version": "1.2.0",
            "_model_name": "LayoutModel",
            "_view_count": null,
            "_view_module": "@jupyter-widgets/base",
            "_view_module_version": "1.2.0",
            "_view_name": "LayoutView",
            "align_content": null,
            "align_items": null,
            "align_self": null,
            "border": null,
            "bottom": null,
            "display": null,
            "flex": null,
            "flex_flow": null,
            "grid_area": null,
            "grid_auto_columns": null,
            "grid_auto_flow": null,
            "grid_auto_rows": null,
            "grid_column": null,
            "grid_gap": null,
            "grid_row": null,
            "grid_template_areas": null,
            "grid_template_columns": null,
            "grid_template_rows": null,
            "height": null,
            "justify_content": null,
            "justify_items": null,
            "left": null,
            "margin": null,
            "max_height": null,
            "max_width": null,
            "min_height": null,
            "min_width": null,
            "object_fit": null,
            "object_position": null,
            "order": null,
            "overflow": null,
            "overflow_x": null,
            "overflow_y": null,
            "padding": null,
            "right": null,
            "top": null,
            "visibility": null,
            "width": null
          }
        },
        "0b914c3e360a434488929a8df158989e": {
          "model_module": "@jupyter-widgets/controls",
          "model_name": "DescriptionStyleModel",
          "model_module_version": "1.5.0",
          "state": {
            "_model_module": "@jupyter-widgets/controls",
            "_model_module_version": "1.5.0",
            "_model_name": "DescriptionStyleModel",
            "_view_count": null,
            "_view_module": "@jupyter-widgets/base",
            "_view_module_version": "1.2.0",
            "_view_name": "StyleView",
            "description_width": ""
          }
        }
      }
    }
  },
  "cells": [
    {
      "cell_type": "markdown",
      "metadata": {
        "id": "view-in-github",
        "colab_type": "text"
      },
      "source": [
        "<a href=\"https://colab.research.google.com/github/subham73/depression_detection/blob/main/running.ipynb\" target=\"_parent\"><img src=\"https://colab.research.google.com/assets/colab-badge.svg\" alt=\"Open In Colab\"/></a>"
      ]
    },
    {
      "cell_type": "code",
      "source": [
        "from google.colab import drive\n",
        "drive.mount('/content/drive')"
      ],
      "metadata": {
        "colab": {
          "base_uri": "https://localhost:8080/"
        },
        "id": "auHNKDN12DjY",
        "outputId": "a7ef2941-6c3b-4965-f669-96e27b66d0d7"
      },
      "execution_count": 1,
      "outputs": [
        {
          "output_type": "stream",
          "name": "stdout",
          "text": [
            "Mounted at /content/drive\n"
          ]
        }
      ]
    },
    {
      "cell_type": "code",
      "source": [
        "!pip install pytorch-lightning\n",
        "!pip install fasttext"
      ],
      "metadata": {
        "colab": {
          "base_uri": "https://localhost:8080/"
        },
        "id": "sQX_xUZfn3pz",
        "outputId": "2c5fc4f4-7763-4d59-c65c-2bc2638768b5"
      },
      "execution_count": 2,
      "outputs": [
        {
          "output_type": "stream",
          "name": "stdout",
          "text": [
            "Collecting pytorch-lightning\n",
            "  Downloading pytorch_lightning-2.3.3-py3-none-any.whl (812 kB)\n",
            "\u001b[?25l     \u001b[90m━━━━━━━━━━━━━━━━━━━━━━━━━━━━━━━━━━━━━━━━\u001b[0m \u001b[32m0.0/812.3 kB\u001b[0m \u001b[31m?\u001b[0m eta \u001b[36m-:--:--\u001b[0m\r\u001b[2K     \u001b[91m━━━━━━━━\u001b[0m\u001b[91m╸\u001b[0m\u001b[90m━━━━━━━━━━━━━━━━━━━━━━━━━━━━━━━\u001b[0m \u001b[32m174.1/812.3 kB\u001b[0m \u001b[31m5.5 MB/s\u001b[0m eta \u001b[36m0:00:01\u001b[0m\r\u001b[2K     \u001b[90m━━━━━━━━━━━━━━━━━━━━━━━━━━━━━━━━━━━━━━━━\u001b[0m \u001b[32m812.3/812.3 kB\u001b[0m \u001b[31m12.3 MB/s\u001b[0m eta \u001b[36m0:00:00\u001b[0m\n",
            "\u001b[?25hRequirement already satisfied: numpy>=1.17.2 in /usr/local/lib/python3.10/dist-packages (from pytorch-lightning) (1.25.2)\n",
            "Requirement already satisfied: torch>=2.0.0 in /usr/local/lib/python3.10/dist-packages (from pytorch-lightning) (2.3.0+cu121)\n",
            "Requirement already satisfied: tqdm>=4.57.0 in /usr/local/lib/python3.10/dist-packages (from pytorch-lightning) (4.66.4)\n",
            "Requirement already satisfied: PyYAML>=5.4 in /usr/local/lib/python3.10/dist-packages (from pytorch-lightning) (6.0.1)\n",
            "Requirement already satisfied: fsspec[http]>=2022.5.0 in /usr/local/lib/python3.10/dist-packages (from pytorch-lightning) (2023.6.0)\n",
            "Collecting torchmetrics>=0.7.0 (from pytorch-lightning)\n",
            "  Downloading torchmetrics-1.4.0.post0-py3-none-any.whl (868 kB)\n",
            "\u001b[2K     \u001b[90m━━━━━━━━━━━━━━━━━━━━━━━━━━━━━━━━━━━━━━━━\u001b[0m \u001b[32m868.8/868.8 kB\u001b[0m \u001b[31m40.9 MB/s\u001b[0m eta \u001b[36m0:00:00\u001b[0m\n",
            "\u001b[?25hRequirement already satisfied: packaging>=20.0 in /usr/local/lib/python3.10/dist-packages (from pytorch-lightning) (24.1)\n",
            "Requirement already satisfied: typing-extensions>=4.4.0 in /usr/local/lib/python3.10/dist-packages (from pytorch-lightning) (4.12.2)\n",
            "Collecting lightning-utilities>=0.10.0 (from pytorch-lightning)\n",
            "  Downloading lightning_utilities-0.11.5-py3-none-any.whl (26 kB)\n",
            "Requirement already satisfied: requests in /usr/local/lib/python3.10/dist-packages (from fsspec[http]>=2022.5.0->pytorch-lightning) (2.31.0)\n",
            "Requirement already satisfied: aiohttp!=4.0.0a0,!=4.0.0a1 in /usr/local/lib/python3.10/dist-packages (from fsspec[http]>=2022.5.0->pytorch-lightning) (3.9.5)\n",
            "Requirement already satisfied: setuptools in /usr/local/lib/python3.10/dist-packages (from lightning-utilities>=0.10.0->pytorch-lightning) (67.7.2)\n",
            "Requirement already satisfied: filelock in /usr/local/lib/python3.10/dist-packages (from torch>=2.0.0->pytorch-lightning) (3.15.4)\n",
            "Requirement already satisfied: sympy in /usr/local/lib/python3.10/dist-packages (from torch>=2.0.0->pytorch-lightning) (1.13.0)\n",
            "Requirement already satisfied: networkx in /usr/local/lib/python3.10/dist-packages (from torch>=2.0.0->pytorch-lightning) (3.3)\n",
            "Requirement already satisfied: jinja2 in /usr/local/lib/python3.10/dist-packages (from torch>=2.0.0->pytorch-lightning) (3.1.4)\n",
            "Collecting nvidia-cuda-nvrtc-cu12==12.1.105 (from torch>=2.0.0->pytorch-lightning)\n",
            "  Using cached nvidia_cuda_nvrtc_cu12-12.1.105-py3-none-manylinux1_x86_64.whl (23.7 MB)\n",
            "Collecting nvidia-cuda-runtime-cu12==12.1.105 (from torch>=2.0.0->pytorch-lightning)\n",
            "  Using cached nvidia_cuda_runtime_cu12-12.1.105-py3-none-manylinux1_x86_64.whl (823 kB)\n",
            "Collecting nvidia-cuda-cupti-cu12==12.1.105 (from torch>=2.0.0->pytorch-lightning)\n",
            "  Using cached nvidia_cuda_cupti_cu12-12.1.105-py3-none-manylinux1_x86_64.whl (14.1 MB)\n",
            "Collecting nvidia-cudnn-cu12==8.9.2.26 (from torch>=2.0.0->pytorch-lightning)\n",
            "  Using cached nvidia_cudnn_cu12-8.9.2.26-py3-none-manylinux1_x86_64.whl (731.7 MB)\n",
            "Collecting nvidia-cublas-cu12==12.1.3.1 (from torch>=2.0.0->pytorch-lightning)\n",
            "  Using cached nvidia_cublas_cu12-12.1.3.1-py3-none-manylinux1_x86_64.whl (410.6 MB)\n",
            "Collecting nvidia-cufft-cu12==11.0.2.54 (from torch>=2.0.0->pytorch-lightning)\n",
            "  Using cached nvidia_cufft_cu12-11.0.2.54-py3-none-manylinux1_x86_64.whl (121.6 MB)\n",
            "Collecting nvidia-curand-cu12==10.3.2.106 (from torch>=2.0.0->pytorch-lightning)\n",
            "  Using cached nvidia_curand_cu12-10.3.2.106-py3-none-manylinux1_x86_64.whl (56.5 MB)\n",
            "Collecting nvidia-cusolver-cu12==11.4.5.107 (from torch>=2.0.0->pytorch-lightning)\n",
            "  Using cached nvidia_cusolver_cu12-11.4.5.107-py3-none-manylinux1_x86_64.whl (124.2 MB)\n",
            "Collecting nvidia-cusparse-cu12==12.1.0.106 (from torch>=2.0.0->pytorch-lightning)\n",
            "  Using cached nvidia_cusparse_cu12-12.1.0.106-py3-none-manylinux1_x86_64.whl (196.0 MB)\n",
            "Collecting nvidia-nccl-cu12==2.20.5 (from torch>=2.0.0->pytorch-lightning)\n",
            "  Using cached nvidia_nccl_cu12-2.20.5-py3-none-manylinux2014_x86_64.whl (176.2 MB)\n",
            "Collecting nvidia-nvtx-cu12==12.1.105 (from torch>=2.0.0->pytorch-lightning)\n",
            "  Using cached nvidia_nvtx_cu12-12.1.105-py3-none-manylinux1_x86_64.whl (99 kB)\n",
            "Requirement already satisfied: triton==2.3.0 in /usr/local/lib/python3.10/dist-packages (from torch>=2.0.0->pytorch-lightning) (2.3.0)\n",
            "Collecting nvidia-nvjitlink-cu12 (from nvidia-cusolver-cu12==11.4.5.107->torch>=2.0.0->pytorch-lightning)\n",
            "  Downloading nvidia_nvjitlink_cu12-12.5.82-py3-none-manylinux2014_x86_64.whl (21.3 MB)\n",
            "\u001b[2K     \u001b[90m━━━━━━━━━━━━━━━━━━━━━━━━━━━━━━━━━━━━━━━━\u001b[0m \u001b[32m21.3/21.3 MB\u001b[0m \u001b[31m53.7 MB/s\u001b[0m eta \u001b[36m0:00:00\u001b[0m\n",
            "\u001b[?25hRequirement already satisfied: aiosignal>=1.1.2 in /usr/local/lib/python3.10/dist-packages (from aiohttp!=4.0.0a0,!=4.0.0a1->fsspec[http]>=2022.5.0->pytorch-lightning) (1.3.1)\n",
            "Requirement already satisfied: attrs>=17.3.0 in /usr/local/lib/python3.10/dist-packages (from aiohttp!=4.0.0a0,!=4.0.0a1->fsspec[http]>=2022.5.0->pytorch-lightning) (23.2.0)\n",
            "Requirement already satisfied: frozenlist>=1.1.1 in /usr/local/lib/python3.10/dist-packages (from aiohttp!=4.0.0a0,!=4.0.0a1->fsspec[http]>=2022.5.0->pytorch-lightning) (1.4.1)\n",
            "Requirement already satisfied: multidict<7.0,>=4.5 in /usr/local/lib/python3.10/dist-packages (from aiohttp!=4.0.0a0,!=4.0.0a1->fsspec[http]>=2022.5.0->pytorch-lightning) (6.0.5)\n",
            "Requirement already satisfied: yarl<2.0,>=1.0 in /usr/local/lib/python3.10/dist-packages (from aiohttp!=4.0.0a0,!=4.0.0a1->fsspec[http]>=2022.5.0->pytorch-lightning) (1.9.4)\n",
            "Requirement already satisfied: async-timeout<5.0,>=4.0 in /usr/local/lib/python3.10/dist-packages (from aiohttp!=4.0.0a0,!=4.0.0a1->fsspec[http]>=2022.5.0->pytorch-lightning) (4.0.3)\n",
            "Requirement already satisfied: MarkupSafe>=2.0 in /usr/local/lib/python3.10/dist-packages (from jinja2->torch>=2.0.0->pytorch-lightning) (2.1.5)\n",
            "Requirement already satisfied: charset-normalizer<4,>=2 in /usr/local/lib/python3.10/dist-packages (from requests->fsspec[http]>=2022.5.0->pytorch-lightning) (3.3.2)\n",
            "Requirement already satisfied: idna<4,>=2.5 in /usr/local/lib/python3.10/dist-packages (from requests->fsspec[http]>=2022.5.0->pytorch-lightning) (3.7)\n",
            "Requirement already satisfied: urllib3<3,>=1.21.1 in /usr/local/lib/python3.10/dist-packages (from requests->fsspec[http]>=2022.5.0->pytorch-lightning) (2.0.7)\n",
            "Requirement already satisfied: certifi>=2017.4.17 in /usr/local/lib/python3.10/dist-packages (from requests->fsspec[http]>=2022.5.0->pytorch-lightning) (2024.7.4)\n",
            "Requirement already satisfied: mpmath<1.4,>=1.1.0 in /usr/local/lib/python3.10/dist-packages (from sympy->torch>=2.0.0->pytorch-lightning) (1.3.0)\n",
            "Installing collected packages: nvidia-nvtx-cu12, nvidia-nvjitlink-cu12, nvidia-nccl-cu12, nvidia-curand-cu12, nvidia-cufft-cu12, nvidia-cuda-runtime-cu12, nvidia-cuda-nvrtc-cu12, nvidia-cuda-cupti-cu12, nvidia-cublas-cu12, lightning-utilities, nvidia-cusparse-cu12, nvidia-cudnn-cu12, nvidia-cusolver-cu12, torchmetrics, pytorch-lightning\n",
            "Successfully installed lightning-utilities-0.11.5 nvidia-cublas-cu12-12.1.3.1 nvidia-cuda-cupti-cu12-12.1.105 nvidia-cuda-nvrtc-cu12-12.1.105 nvidia-cuda-runtime-cu12-12.1.105 nvidia-cudnn-cu12-8.9.2.26 nvidia-cufft-cu12-11.0.2.54 nvidia-curand-cu12-10.3.2.106 nvidia-cusolver-cu12-11.4.5.107 nvidia-cusparse-cu12-12.1.0.106 nvidia-nccl-cu12-2.20.5 nvidia-nvjitlink-cu12-12.5.82 nvidia-nvtx-cu12-12.1.105 pytorch-lightning-2.3.3 torchmetrics-1.4.0.post0\n",
            "Collecting fasttext\n",
            "  Downloading fasttext-0.9.3.tar.gz (73 kB)\n",
            "\u001b[2K     \u001b[90m━━━━━━━━━━━━━━━━━━━━━━━━━━━━━━━━━━━━━━━━\u001b[0m \u001b[32m73.4/73.4 kB\u001b[0m \u001b[31m2.6 MB/s\u001b[0m eta \u001b[36m0:00:00\u001b[0m\n",
            "\u001b[?25h  Installing build dependencies ... \u001b[?25l\u001b[?25hdone\n",
            "  Getting requirements to build wheel ... \u001b[?25l\u001b[?25hdone\n",
            "  Preparing metadata (pyproject.toml) ... \u001b[?25l\u001b[?25hdone\n",
            "Collecting pybind11>=2.2 (from fasttext)\n",
            "  Using cached pybind11-2.13.1-py3-none-any.whl (238 kB)\n",
            "Requirement already satisfied: setuptools>=0.7.0 in /usr/local/lib/python3.10/dist-packages (from fasttext) (67.7.2)\n",
            "Requirement already satisfied: numpy in /usr/local/lib/python3.10/dist-packages (from fasttext) (1.25.2)\n",
            "Building wheels for collected packages: fasttext\n",
            "  Building wheel for fasttext (pyproject.toml) ... \u001b[?25l\u001b[?25hdone\n",
            "  Created wheel for fasttext: filename=fasttext-0.9.3-cp310-cp310-linux_x86_64.whl size=4246764 sha256=fc113cc15ad24f18fb763ee0ab33f0fa06d5c46f3d73dbfa4c79a2f54ac929b7\n",
            "  Stored in directory: /root/.cache/pip/wheels/0d/a2/00/81db54d3e6a8199b829d58e02cec2ddb20ce3e59fad8d3c92a\n",
            "Successfully built fasttext\n",
            "Installing collected packages: pybind11, fasttext\n",
            "Successfully installed fasttext-0.9.3 pybind11-2.13.1\n"
          ]
        }
      ]
    },
    {
      "cell_type": "code",
      "source": [],
      "metadata": {
        "id": "folGl4raTzxQ"
      },
      "execution_count": null,
      "outputs": []
    },
    {
      "cell_type": "code",
      "source": [
        "import os\n",
        "import pytorch_lightning as pl"
      ],
      "metadata": {
        "id": "kBWj-uvebB8Q"
      },
      "execution_count": 3,
      "outputs": []
    },
    {
      "cell_type": "markdown",
      "source": [
        "## 1. Data Preparation\n",
        "\n",
        "Kaggle dataset = [Depression: Reddit Dataset (Cleaned)](https://www.kaggle.com/datasets/infamouscoder/depression-reddit-cleaned/data)\n",
        "\n",
        "Column : text | is_depression 1:*0*"
      ],
      "metadata": {
        "id": "1t-Um7HIiy0p"
      }
    },
    {
      "cell_type": "code",
      "source": [
        "# !unzip \"/content/drive/MyDrive/depression_classification/archive.zip\" -d \"/content/drive/MyDrive/depression_classification/\""
      ],
      "metadata": {
        "colab": {
          "base_uri": "https://localhost:8080/"
        },
        "id": "Tys46bVqjWHF",
        "outputId": "bb384fb5-62d1-4b46-fd51-215ae9eb6ad0"
      },
      "execution_count": null,
      "outputs": [
        {
          "output_type": "stream",
          "name": "stdout",
          "text": [
            "Archive:  /content/drive/MyDrive/depression_classification/archive.zip\n",
            "replace /content/drive/MyDrive/depression_classification/depression_dataset_reddit_cleaned.csv? [y]es, [n]o, [A]ll, [N]one, [r]ename: n\n"
          ]
        }
      ]
    },
    {
      "cell_type": "code",
      "source": [
        "\"\"\"Set the directory path inside your drive\"\"\"\n",
        "PROCESSED_DATA_DIR = \"/content/drive/MyDrive/depression_classification/data\""
      ],
      "metadata": {
        "id": "d1AzKkziW8xH"
      },
      "execution_count": 4,
      "outputs": []
    },
    {
      "cell_type": "code",
      "source": [
        "\"\"\"Util Functions\"\"\"\n",
        "\n",
        "import os\n",
        "\n",
        "def check_if_exists(path):\n",
        "  \"\"\"\n",
        "  Checks if a file or folder exists in the Google Drive.\n",
        "  Args:\n",
        "    path: The path to the file or folder.\n",
        "  Returns:\n",
        "    True if the file or folder exists, False otherwise.\n",
        "  \"\"\"\n",
        "  drive_path = \"/content/drive/MyDrive/\"\n",
        "  full_path = os.path.join(drive_path, path)\n",
        "  return os.path.exists(full_path)\n",
        "\n",
        "################################################################################\n",
        "\n",
        "import pandas as pd\n",
        "from sklearn.model_selection import train_test_split\n",
        "\n",
        "def make_dataset():\n",
        "  \"\"\"\n",
        "  Prepares train and test data.csv files, saves them to PROCESSED_DATA_DIR.\n",
        "  \"\"\"\n",
        "  data = pd.read_csv(\"/content/drive/MyDrive/depression_classification/depression_dataset_reddit_cleaned.csv\")\n",
        "  print(\"full dataset shape: \", data.shape)\n",
        "\n",
        "  data = data.sample(frac = 0.6, random_state=0)\n",
        "  print(\"sample dataset shape: \", data.shape)\n",
        "\n",
        "  train, test = train_test_split(data, test_size=0.2, random_state=0)\n",
        "  print(\"train dataset shape: \", train.shape)\n",
        "  print(\"test dataset shape: \", test.shape)\n",
        "\n",
        "  train.to_csv(os.path.join(PROCESSED_DATA_DIR, \"train.csv\"), index=False)\n",
        "  test.to_csv(os.path.join(PROCESSED_DATA_DIR, \"test.csv\"), index=False)\n",
        "  print(\"sample training and testing dataset created and saved at PROCESSED_DATA_DIR...\")\n",
        "\n",
        "################################################################################\n",
        "\n",
        "import re\n",
        "def preprocess(x):\n",
        "  \"\"\"\n",
        "  Preprocesses the text data.\n",
        "  Args:\n",
        "    x: The text data.\n",
        "  Returns:\n",
        "    The preprocessed text data.\n",
        "  \"\"\"\n",
        "  # Make text lower case\n",
        "  x = x.lower()\n",
        "\n",
        "  # Remove tags of other people\n",
        "  x = re.sub(r\"@\\w*\", \" \", x)\n",
        "\n",
        "  # Remove special characters\n",
        "  x = re.sub(r\"#|^\\*|\\*$|&quot;|&gt;|&lt;|&lt;3\", \" \", x)\n",
        "  x = x.replace(\"&amp;\", \" and \")\n",
        "\n",
        "  # Remove links\n",
        "  x = re.sub(r\"ht+p+s?://\\S*\", \" \", x)\n",
        "\n",
        "  # Remove non-ascii\n",
        "  x = re.sub(r\"[^\\x00-\\x7F]\", \" \", x)\n",
        "\n",
        "  # Remove time\n",
        "  x = re.sub(r\"((a|p).?m)?\\s?(\\d+(:|.)?\\d+)\\s?((a|p).?m)?\", \" \", x)\n",
        "\n",
        "  # Remove brackets if left after removing time\n",
        "  x = re.sub(r\"\\(\\)|\\[\\]|\\{\\}\", \" \", x)\n",
        "\n",
        "  # For words we want to keep at least two occurences of\n",
        "  #  each word(e.g not change good to god)\n",
        "  # x = re.sub(r\"([a-z])\\1+\", r\"\\1\\1\", x)\n",
        "\n",
        "  # Remove any string that starts with number\n",
        "  x = re.sub(r\"\\d[\\w]*\", \" \", x)\n",
        "\n",
        "  # Remove all special characters left\n",
        "  x = re.sub(r\"[^a-zA-Z0-9 ]\", \"\", x)\n",
        "\n",
        "  # Remove single letters that left except i and a\n",
        "  x = re.sub(r\"\\s[b-gj-z]\\s\", \" \", x)\n",
        "\n",
        "  # Remove multiple space chars\n",
        "  x = \" \".join(x.split()).strip()\n",
        "\n",
        "  return x"
      ],
      "metadata": {
        "id": "_bJXDuoqj4IA"
      },
      "execution_count": 5,
      "outputs": []
    },
    {
      "cell_type": "code",
      "source": [
        "\"\"\"Managing All Data Operation\"\"\"\n",
        "\n",
        "from torch.utils.data import Dataset, DataLoader\n",
        "\n",
        "class CustomDataset(Dataset):\n",
        "  def __init__(self, data: pd.DataFrame):\n",
        "    self.data = data\n",
        "    self.texts = list(data.clean_text)\n",
        "    self.labels = list(data.is_depression)\n",
        "\n",
        "  def __len__(self):\n",
        "    \"\"\"Denotes the total number of samples\"\"\"\n",
        "    return len(self.data)\n",
        "\n",
        "  def __getitem__(self, index):\n",
        "    return {'text': self.texts[index],\n",
        "            'label': self.labels[index]}\n",
        "\n",
        "################################################################################\n",
        "\n",
        "from tqdm.auto import tqdm\n",
        "tqdm.pandas()\n",
        "\n",
        "class CustomDataModule(pl.LightningDataModule):\n",
        "  def __init__(self,\n",
        "                batch_size: int = 32,\n",
        "                split: float = 0.1,\n",
        "                recreate_data: bool = False):\n",
        "    super().__init__()\n",
        "\n",
        "    self.batch_size = batch_size\n",
        "    self.split = split\n",
        "    self.recreate_data = recreate_data\n",
        "    self.has_setup = False\n",
        "\n",
        "  def prepare_data(self):\n",
        "    if self.recreate_data or not check_if_exists(PROCESSED_DATA_DIR) or os.listdir(PROCESSED_DATA_DIR) == 0:\n",
        "      make_dataset()\n",
        "\n",
        "  def setup(self, stage: str):\n",
        "    \"\"\"\n",
        "    Assign train/val datasets for use in dataloaders\n",
        "    \"\"\"\n",
        "    if stage == \"fit\":\n",
        "      if not self.has_setup:\n",
        "        self.has_setup = True\n",
        "\n",
        "        data = self.process_data(stage)\n",
        "        # split data\n",
        "        self.train_data, self.val_data = train_test_split(data, test_size=self.split, random_state=0)\n",
        "\n",
        "        self.train_dataset = CustomDataset(self.train_data)\n",
        "        self.val_dataset = CustomDataset(self.val_data)\n",
        "\n",
        "      if stage in (None, \"test\", \"predict\"):\n",
        "        self.test_data = self.process_data(stage)\n",
        "        self.test_dataset = CustomDataset(self.test_data)\n",
        "\n",
        "  def train_dataloader(self):\n",
        "    return DataLoader(self.train_dataset, batch_size=self.batch_size, shuffle=True)\n",
        "\n",
        "  def val_dataloader(self):\n",
        "    return DataLoader(self.val_dataset, batch_size=self.batch_size)\n",
        "\n",
        "  def test_dataloader(self):\n",
        "    return DataLoader(self.test_dataset, batch_size=self.batch_size)\n",
        "\n",
        "  def predict_dataloader(self):\n",
        "    return DataLoader(self.test_dataset, batch_size=self.batch_size)\n",
        "\n",
        "  def process_data(self, stage: str):\n",
        "    \"\"\"\n",
        "    Help setup process by providing required data after preprocessing it\n",
        "    \"\"\"\n",
        "    file_name = None\n",
        "\n",
        "    if stage == \"fit\":\n",
        "      file_name = \"train.csv\"\n",
        "\n",
        "    if stage in (None, \"test\", \"predict\"):\n",
        "      file_name = \"test.csv\"\n",
        "\n",
        "    if file_name is None:\n",
        "      raise ValueError(f\"Stage {stage} is not valid.\")\n",
        "\n",
        "    data = pd.read_csv(os.path.join(PROCESSED_DATA_DIR, file_name))\n",
        "    print(\"process_Data runned with data shape\", data.shape)\n",
        "    data[\"clean_text\"] = data.clean_text.progress_apply(lambda x: preprocess(x))\n",
        "    return data"
      ],
      "metadata": {
        "id": "FdPc7KRdjqNp"
      },
      "execution_count": 6,
      "outputs": []
    },
    {
      "cell_type": "markdown",
      "source": [
        "## 2. Building Model"
      ],
      "metadata": {
        "id": "Ylo1eGZUCLZp"
      }
    },
    {
      "cell_type": "code",
      "source": [
        "\n",
        "import torch\n",
        "import torch.nn.functional as F\n",
        "from torch import nn\n",
        "\n",
        "class FCL(nn.Module):\n",
        "  def __init__( self, embeddings_matrix: torch.Tensor, ):\n",
        "    super().__init__()\n",
        "    self.embeddings_matrix = embeddings_matrix.float()\n",
        "    self.embedding = nn.Embedding.from_pretrained(torch.FloatTensor(embeddings_matrix))\n",
        "    self.embedding_dim = embeddings_matrix.shape[1]\n",
        "    # self.linear1_length = 0\n",
        "\n",
        "    self.cnn1 = nn.Conv1d(in_channels=self.embedding_dim, out_channels=128, kernel_size=3)\n",
        "        # nn.ReLU(),\n",
        "    self.pool = nn.MaxPool1d(kernel_size= 2)\n",
        "    self.drop = nn.Dropout(0.25)\n",
        "    self.cnn2 = nn.Conv1d(in_channels=128, out_channels=64, kernel_size=3)\n",
        "        # nn.ReLU(),\n",
        "        # nn.MaxPool1d(kernel_size= 2),\n",
        "        # nn.Flatten(),\n",
        "    self.fc1 = None\n",
        "        # nn.ReLU(),\n",
        "    self.lstm = nn.LSTM(input_size=64, hidden_size=64, num_layers=1, batch_first=True)\n",
        "\n",
        "    self.fc2 = nn.Linear(64, 1)\n",
        "    self.relu = nn.ReLU()\n",
        "\n",
        "  def forward(self, x):\n",
        "    seq, mask, lengths = x[0], x[1], x[2]\n",
        "    # print(\"before\", seq.shape)\n",
        "    emb_seq = self.embedding(seq)\n",
        "    # print(\"after\", emb_seq.shape)\n",
        "    emb_seq = emb_seq.transpose(1, 2)\n",
        "    # print(\"after transpose\", emb_seq.shape)\n",
        "    # self.linear1_length = lengths\n",
        "    x = self.relu(self.cnn1(emb_seq))\n",
        "    x = self.drop(self.pool(x))\n",
        "    x = self.relu(self.cnn2(x))\n",
        "    x = self.pool(x)\n",
        "\n",
        "    x_flattened_size = x.size(1) * x.size(2)\n",
        "    if self.fc1 is None:\n",
        "      self.fc1 = nn.Linear(x_flattened_size, 64)\n",
        "\n",
        "    x = x.view(x.size(0), -1)\n",
        "    x = self.relu(self.fc1(x))\n",
        "    x, (hidden, _)= self.lstm(x)\n",
        "    x = self.relu(x)\n",
        "    return self.fc2(x)\n",
        "\n",
        "\n",
        "  @property\n",
        "  def name(self):\n",
        "    return self.__class__.__name__\n"
      ],
      "metadata": {
        "id": "gWG-GUiUCPkD"
      },
      "execution_count": 200,
      "outputs": []
    },
    {
      "cell_type": "code",
      "source": [
        "fcl_model = FCL(embeddings_matrix)"
      ],
      "metadata": {
        "id": "Wm0CKcWpRC2I"
      },
      "execution_count": 156,
      "outputs": []
    },
    {
      "cell_type": "code",
      "source": [
        "input2[0].shape"
      ],
      "metadata": {
        "id": "ylk-dL--QOIh",
        "outputId": "b82d2212-0a70-47c1-e6ba-a85c915ebba7",
        "colab": {
          "base_uri": "https://localhost:8080/"
        }
      },
      "execution_count": 145,
      "outputs": [
        {
          "output_type": "execute_result",
          "data": {
            "text/plain": [
              "torch.Size([32, 1000])"
            ]
          },
          "metadata": {},
          "execution_count": 145
        }
      ]
    },
    {
      "cell_type": "code",
      "source": [
        "fcl_model.forward(input2)"
      ],
      "metadata": {
        "id": "WtOBuq7COkgx",
        "outputId": "9f2743c8-d96a-47fa-e209-bad2b99d2291",
        "colab": {
          "base_uri": "https://localhost:8080/"
        }
      },
      "execution_count": 157,
      "outputs": [
        {
          "output_type": "stream",
          "name": "stdout",
          "text": [
            "before torch.Size([32, 1000])\n",
            "after torch.Size([32, 1000, 300])\n",
            "after transpose torch.Size([32, 300, 1000])\n"
          ]
        },
        {
          "output_type": "execute_result",
          "data": {
            "text/plain": [
              "tensor([[-0.0679],\n",
              "        [-0.0630],\n",
              "        [-0.0615],\n",
              "        [-0.0610],\n",
              "        [-0.0611],\n",
              "        [-0.0613],\n",
              "        [-0.0613],\n",
              "        [-0.0614],\n",
              "        [-0.0614],\n",
              "        [-0.0614],\n",
              "        [-0.0615],\n",
              "        [-0.0614],\n",
              "        [-0.0613],\n",
              "        [-0.0614],\n",
              "        [-0.0615],\n",
              "        [-0.0613],\n",
              "        [-0.0613],\n",
              "        [-0.0610],\n",
              "        [-0.0613],\n",
              "        [-0.0612],\n",
              "        [-0.0615],\n",
              "        [-0.0614],\n",
              "        [-0.0614],\n",
              "        [-0.0612],\n",
              "        [-0.0613],\n",
              "        [-0.0612],\n",
              "        [-0.0612],\n",
              "        [-0.0611],\n",
              "        [-0.0612],\n",
              "        [-0.0611],\n",
              "        [-0.0615],\n",
              "        [-0.0614]], grad_fn=<AddmmBackward0>)"
            ]
          },
          "metadata": {},
          "execution_count": 157
        }
      ]
    },
    {
      "cell_type": "code",
      "source": [],
      "metadata": {
        "id": "_XyS5bl5iP3I"
      },
      "execution_count": null,
      "outputs": []
    },
    {
      "cell_type": "code",
      "source": [
        "input[0]"
      ],
      "metadata": {
        "colab": {
          "base_uri": "https://localhost:8080/"
        },
        "id": "IfDaNR5DQ8lp",
        "outputId": "f48a15a9-0b9f-426f-c903-370a35bde004"
      },
      "execution_count": 57,
      "outputs": [
        {
          "output_type": "execute_result",
          "data": {
            "text/plain": [
              "tensor([[   2,   62,  404,  ...,    0,    0,    0],\n",
              "        [   2,   64,  136,  ...,    0,    0,    0],\n",
              "        [   2,   64,  172,  ...,    0,    0,    0],\n",
              "        ...,\n",
              "        [   2,   41,  125,  ...,   10, 1396,    3],\n",
              "        [   2,    1,  584,  ...,    0,    0,    0],\n",
              "        [   2,    1,    1,  ...,    0,    0,    0]])"
            ]
          },
          "metadata": {},
          "execution_count": 57
        }
      ]
    },
    {
      "cell_type": "code",
      "source": [],
      "metadata": {
        "id": "ika4UdkSMh_j",
        "outputId": "ba262d90-7027-4cd1-fe3b-9207801f82bd",
        "colab": {
          "base_uri": "https://localhost:8080/",
          "height": 141
        }
      },
      "execution_count": 48,
      "outputs": [
        {
          "output_type": "error",
          "ename": "NameError",
          "evalue": "name 'fcl_model' is not defined",
          "traceback": [
            "\u001b[0;31m---------------------------------------------------------------------------\u001b[0m",
            "\u001b[0;31mNameError\u001b[0m                                 Traceback (most recent call last)",
            "\u001b[0;32m<ipython-input-48-8679718f66b0>\u001b[0m in \u001b[0;36m<cell line: 1>\u001b[0;34m()\u001b[0m\n\u001b[0;32m----> 1\u001b[0;31m \u001b[0moutput\u001b[0m\u001b[0;34m=\u001b[0m \u001b[0mfcl_model\u001b[0m\u001b[0;34m(\u001b[0m\u001b[0minput2\u001b[0m\u001b[0;34m)\u001b[0m\u001b[0;34m\u001b[0m\u001b[0;34m\u001b[0m\u001b[0m\n\u001b[0m",
            "\u001b[0;31mNameError\u001b[0m: name 'fcl_model' is not defined"
          ]
        }
      ]
    },
    {
      "cell_type": "code",
      "source": [
        "import torch\n",
        "from torchtext.data import get_tokenizer\n",
        "from tqdm import tqdm\n",
        "import json\n",
        "\n",
        "\n",
        "class Tokenizer:\n",
        "    def __init__(self):\n",
        "        self.vocab = {}\n",
        "        self.inv_vocab = {}\n",
        "        self.tokenizer = get_tokenizer('basic_english')\n",
        "        self.special_tokens = ['<pad>', '<unk>', '<sos>', '<eos>']\n",
        "\n",
        "    def fit_on_texts_and_embeddings(self, sentences: list[str], embeddings):\n",
        "        # Add special tokens to the start of the vocab\n",
        "        for special_token in self.special_tokens:\n",
        "            self.vocab[special_token] = len(self.vocab)\n",
        "\n",
        "        # Add each unique word in the sentences to the vocab if there is also an embedding for it\n",
        "        for sentence in tqdm(sentences):\n",
        "            for word in self.tokenizer(sentence):\n",
        "                if word not in self.vocab and word in embeddings.words:\n",
        "                    self.vocab[word] = len(self.vocab)\n",
        "\n",
        "        self.inv_vocab = {v: k for k, v in self.vocab.items()}\n",
        "\n",
        "    # create an embbeding matrix from a set of pretrained embeddings based on the vocab\n",
        "    def get_embeddings_matrix(self, embeddings):\n",
        "        # Create a matrix of zeroes of the shape of the vocab size\n",
        "        embeddings_matrix = torch.zeros((len(self.vocab), embeddings.get_dimension()))\n",
        "\n",
        "        # For each word in the vocab get its index and add its embedding to the matrix\n",
        "        for word, idx in self.vocab.items():\n",
        "            if word in self.special_tokens:\n",
        "                continue\n",
        "            if word in embeddings.words:\n",
        "                embeddings_matrix[idx] = torch.tensor(embeddings.get_word_vector(word))\n",
        "            else:\n",
        "                raise KeyError(f\"Word {word} not in embeddings. Please create tokenizer based on embeddings\")\n",
        "\n",
        "        # Initialize the <pad> token with the mean of the embeddings of the vocab\n",
        "        embeddings_matrix[1] = torch.mean(embeddings_matrix[len(self.special_tokens):], dim=0)\n",
        "\n",
        "        # Initialize the <sos> and <eos> tokens with the mean of the embeddings of the vocab\n",
        "        # plus or minus a small amount of noise to avoid them matching the <unk> token\n",
        "        # and avoiding having identical embeddings which the model can not distinguish\n",
        "        noise = torch.normal(mean=0, std=0.1, size=(embeddings.get_dimension(),))\n",
        "        embeddings_matrix[2] = torch.mean(embeddings_matrix[len(self.special_tokens):] + noise, dim=0)\n",
        "        embeddings_matrix[3] = torch.mean(embeddings_matrix[len(self.special_tokens):] - noise, dim=0)\n",
        "\n",
        "        return embeddings_matrix\n",
        "\n",
        "    # add start of sentence and end of sentence tokens to the tokenizer sentence\n",
        "    def add_special_tokens(self, tokens):\n",
        "        return [\"<sos>\"] + tokens + [\"<eos>\"]\n",
        "\n",
        "    # convert a sequence of words to a sequence of indices based on the vocab\n",
        "    def convert_tokens_to_ids(self, tokens):\n",
        "        return [self.vocab.get(token, self.vocab['<unk>']) for token in tokens]\n",
        "\n",
        "\n",
        "    def pad_sequences(self, sequences, max_length=None):\n",
        "        # Pads the vectorized sequences\n",
        "\n",
        "        # If max_length is not specified, pad to the length of the longest sequence\n",
        "        if not max_length:\n",
        "            max_length = max(len(seq) for seq in sequences)\n",
        "\n",
        "        # Create a tensor for the lengths of the sequences\n",
        "        sequence_lengths = torch.LongTensor([min(len(seq), max_length) for seq in sequences])\n",
        "\n",
        "        # Create a tensor for the sequences with zeros\n",
        "        seq_tensor = torch.zeros((len(sequences), max_length)).long()\n",
        "\n",
        "        # Create a tensor for the masks with zeros\n",
        "        seq_mask = torch.zeros((len(sequences), max_length)).long()\n",
        "\n",
        "        # For each sequence add the values to the seq_tensor\n",
        "        #  and add 1s to the seq_mask according to its length\n",
        "        for idx, (seq, seq_len) in enumerate(zip(sequences, sequence_lengths)):\n",
        "            # truncate the sequence if it exceeds the max length\n",
        "            seq = seq[:seq_len]\n",
        "\n",
        "            seq_tensor[idx, :seq_len] = torch.LongTensor(seq)\n",
        "            seq_mask[idx, :seq_len] = torch.LongTensor([1])\n",
        "\n",
        "        return seq_tensor, seq_mask, sequence_lengths\n",
        "\n",
        "    # split the text into tokens\n",
        "    def tokenize(self, text):\n",
        "        return self.tokenizer(text)\n",
        "\n",
        "    def encode(self, texts, max_length=None):\n",
        "        if isinstance(texts, str):\n",
        "            texts = [texts]\n",
        "\n",
        "        sequences = []\n",
        "        for text in texts:\n",
        "            tokens = self.tokenize(text)\n",
        "            # print(\"first line:\", tokens)\n",
        "            tokens = self.add_special_tokens(tokens)\n",
        "            # print(\"second line:\", tokens)\n",
        "            ids = self.convert_tokens_to_ids(tokens)\n",
        "            # print(\"third line:\", ids)\n",
        "            sequences.append(ids)\n",
        "\n",
        "        seq_tensor, seq_mask, sequence_lengths = self.pad_sequences(sequences, max_length)\n",
        "\n",
        "        return seq_tensor, seq_mask, sequence_lengths\n",
        "\n",
        "    # save the tokenizer to a json file\n",
        "    def save(self, file_path: str, filename: str = \"tokenizer.json\"):\n",
        "        if not os.path.exists(file_path):\n",
        "            os.makedirs(file_path, exist_ok=True)\n",
        "        json_data = {}\n",
        "        with open(os.path.join(file_path, filename), 'w') as tokenizer_file:\n",
        "            json_data[\"vocab\"] = self.vocab\n",
        "            json_data[\"inv_vocab\"] = self.inv_vocab\n",
        "            json_data[\"special_tokens\"] = self.special_tokens\n",
        "            json.dump(json_data, tokenizer_file)\n",
        "            # logger.info(f\"Successfully saved tokenizer {os.path.join(file_path, filename)}\")\n",
        "\n",
        "    # load the tokenizer from a json file\n",
        "    def load(self, file_path: str, filename: str = \"tokenizer.json\"):\n",
        "        if os.path.exists(file_path):\n",
        "            with open(os.path.join(file_path, filename)) as tokenizer_file:\n",
        "                json_data = json.load(tokenizer_file)\n",
        "                self.vocab = json_data[\"vocab\"]\n",
        "                self.inv_vocab = json_data[\"inv_vocab\"]\n",
        "                self.special_tokens = json_data[\"special_tokens\"]\n",
        "                # logger.info(f\"Successfully loaded tokenizer from {os.path.join(file_path, filename)}\")\n",
        "        else:\n",
        "            raise FileNotFoundError(\"The file path does not exist\")\n",
        "\n",
        "    def __call__(self, texts, max_length=None):\n",
        "        return self.encode(texts, max_length = 1000)"
      ],
      "metadata": {
        "id": "7yrCBCbj95hG"
      },
      "execution_count": 163,
      "outputs": []
    },
    {
      "cell_type": "code",
      "source": [
        "import fasttext\n",
        "from huggingface_hub import hf_hub_download\n",
        "model_path = hf_hub_download(repo_id=\"facebook/fasttext-et-vectors\", filename=\"model.bin\")\n",
        "pretrained_embeddings = fasttext.load_model(model_path)"
      ],
      "metadata": {
        "colab": {
          "base_uri": "https://localhost:8080/",
          "height": 173,
          "referenced_widgets": [
            "f851eb43d7cb43aaac45789fd74aed67",
            "46cf1e9265194c7bbcc8933a2b42f44c",
            "ad4176eee8ad45f1b7a9d9ea997ba71a",
            "1ec9e1bde54841818f29f06f12420fcd",
            "c2cb174e7102485da17800a585004870",
            "157ffa72b4f74d899f8cfa9889655ae3",
            "6d9f5f5c101443c5b5842ebefa6bb98e",
            "b4041c43361141d7b7eddbdb04338564",
            "04102165c85d410092fa8b38aa617e19",
            "3fbe8bb56be043b3a2c012af50e1da19",
            "96efa7408b774dd79e488265de7759f9"
          ]
        },
        "id": "oOHT3K31-KFc",
        "outputId": "0c90bf33-e19e-4c62-f6ef-efb87b3d01a8"
      },
      "execution_count": 8,
      "outputs": [
        {
          "output_type": "stream",
          "name": "stderr",
          "text": [
            "/usr/local/lib/python3.10/dist-packages/huggingface_hub/utils/_token.py:89: UserWarning: \n",
            "The secret `HF_TOKEN` does not exist in your Colab secrets.\n",
            "To authenticate with the Hugging Face Hub, create a token in your settings tab (https://huggingface.co/settings/tokens), set it as secret in your Google Colab and restart your session.\n",
            "You will be able to reuse this secret in all of your notebooks.\n",
            "Please note that authentication is recommended but still optional to access public models or datasets.\n",
            "  warnings.warn(\n"
          ]
        },
        {
          "output_type": "display_data",
          "data": {
            "text/plain": [
              "model.bin:   0%|          | 0.00/7.24G [00:00<?, ?B/s]"
            ],
            "application/vnd.jupyter.widget-view+json": {
              "version_major": 2,
              "version_minor": 0,
              "model_id": "f851eb43d7cb43aaac45789fd74aed67"
            }
          },
          "metadata": {}
        }
      ]
    },
    {
      "cell_type": "code",
      "source": [],
      "metadata": {
        "id": "NBUZk5dyrsyq"
      },
      "execution_count": null,
      "outputs": []
    },
    {
      "cell_type": "code",
      "source": [
        "train_load = textDataMoudle.train_dataloader()\n",
        "cnt = 0\n",
        "sam = None\n",
        "for batch in train_load:\n",
        "    cnt = cnt+1\n",
        "    texts = batch['text']\n",
        "    labels = batch['label']\n",
        "    sam = texts\n",
        "    # print(texts[0])\n",
        "    # print(labels[0])\n",
        "    break\n",
        "# print(\"numberr of lines\", cnt)"
      ],
      "metadata": {
        "id": "Htf4SMgYU5RA"
      },
      "execution_count": null,
      "outputs": []
    },
    {
      "cell_type": "code",
      "source": [
        "pretrained_embeddings = model\n",
        "tokenizer = Tokenizer()\n",
        "# tokenizer.fit_on_texts_and_embeddings(textDataMoudle.train_data.clean_text, pretrained_embeddings)\n",
        "# tokenizer.save(\"/content/drive/MyDrive/depression_classification/\")"
      ],
      "metadata": {
        "id": "HvmazrLEOAXE"
      },
      "execution_count": null,
      "outputs": []
    },
    {
      "cell_type": "code",
      "source": [
        "tokenizer.load(\"/content/drive/MyDrive/depression_classification/\")\n",
        "embeddings_matrix = tokenizer.get_embeddings_matrix(pretrained_embeddings)"
      ],
      "metadata": {
        "id": "PZ2_ESBfASpF"
      },
      "execution_count": null,
      "outputs": []
    },
    {
      "cell_type": "code",
      "source": [
        "print(sam)\n",
        "print(len(sam))\n",
        "it = tokenizer(sam)\n",
        "print(type(it))\n",
        "print(len(it))\n",
        "print(it[0].shape)\n",
        "print(it[1].shape)\n",
        "print(it[2].shape)"
      ],
      "metadata": {
        "colab": {
          "base_uri": "https://localhost:8080/"
        },
        "id": "LmoPJjeLOq2E",
        "outputId": "ca9cba87-6eca-41d7-a6c0-3c7743ee4d82"
      },
      "execution_count": null,
      "outputs": [
        {
          "output_type": "stream",
          "name": "stdout",
          "text": [
            "['i can tell you how many time i ve hoped for someone to show up to a place i at and shoot me maybe then i ll make it onto the news maybe then someone will give a damn maybe', 'idk what it is with depression but it always make you feel like the bad guy me breath me right after what a po always breathing wrong', 'went to the doctor today and my blood sugar level wa', 'my night went to the bar felt up a marred woman went home hard and alone', 'poor sock luvvvvv the golden retriever i want one sighhhh', 'ok wonder why twitpix isn an option for this new phone i got i can win i ll leave the photo to my cuz i guess', 'pilvlp my luck i probably get stopped by a cop or something stupid', 'imohumoren that where i have a problem not knowing who is who till i got con of usd con another neighbour of sold the gen in my family house now have till april end before i get kicked out all i have now is depression desperation without smoking', 'wwwicked i think i have tried everything but feel free to try to crack it i am at a loss', 'twitter woke me up', 'ha tonsilitis on my birthday', 'caregiving i couldn bear to watch it and i thought the ua loss wa embarrassing', 'my lifestyle and world view for sure seem like a depressed person no motivation almost everything i do is anxiety driven privately my life is a mess and who doesn feel like we re all screwed nowadays however i usually feel happy or content at any given moment i kinda just don think about the problem and vibe i usually having a pretty decent time i not often sad or cry thinking about the future is upsetting and overwhelming but i try not to i keep getting diagnosed with depression i can kinda see it but usually when i see depression represented it either with sadness or with no feeling and talk like not enjoying music or anything i still enjoy stuff though is this a thing do others feel this way edit i started lexapro today and went searching for ppl to relate to but i feel kinda alienated from others who are depressed i feel like bringing my energy to other depressed folk would just make them feel worse about feeling bad', 'i trying to fine friend on twitter no luck so far', 'archiving project file to sharepoint this is not fun', 'darylsws kid are on holiday', 'i ve been going to therapy on and off for year to help me with anxiety depression and difficult life event i trying to learn tool on my own to educate myself i aware of self care and coping strategy but i having a hard time with self awareness of my own anxiety symptom and trigger doe anyone recommend any resource to learn in this area thank you', 'my man crush jake peavy let me down gayforpeavy', 'wer mit einem depressiven menschen zu tun hat st unweigerlich an seine grenzen denn der umgang mit ihnen ist anstrengend in great depression schreibt unsere kolumnistin ber psychische erkrankungen http co pb wfwnglf', 'yeah once i alone i get so so depressed i ve only been at home for a day because it my off day and i already feeling like shit like there nothing to look forward to i would opt to go out but i don have money for it to be a good day with friend i know that there are thing we can do that doesn require money but food is a necessity and i can really go out without spending on food i go to a friend house but i only have one friend who house is always available but she life too far away it really hard to realise that the only thing keeping me sane is distraction like work i try to be more involved with my family but they always make me feel like shit i try to reach out to my friend but they re always busy signing up for cool class like yoga or pottery or whatever would help me meet new people but it cost money and plus i work hr day a week it hard to spare time and my adhd causing me time blindness doe not help at all like yeah i have free day but when you count in the hour i spend having executive dysfunction or procrastinating it basically nothing i can relax for shit when i on my own it hard to reach out to people when they don take whatever i feel seriously i just wish they cared enough to reach out and be willing to spend some time with me even if we don have money i hate being alone so much fyi i am on an internship and i being paid a month and my family is not financially stable', 'can sleep need to talk to someone', 'some people with anxiety experience loneliness and deeply understand it so i am posting on this forum i have plant allll over my apartment to make me feel le lonely since plant are a form of life it doesn do the trick though oh well although it doe give off a feeling that i would not have of there were no plant so question do plant make you feel le lonely', 'i am not i don believe or respect myself enough to do it i am extremely pathetic lazy and bad person that the truth a simple fact and this will probably never change because thats how i am', 'so lately i been dealing with a pretty tense situation which involves trying to get myself out of a pretty big rut caused by my depression and lack of motivation basically a lot ha gone to shit now i trying to fix it but there is this thing that happens whenever there is something difficult uncomfortable i have to do in my life in the hour leading up to waking up fully in those moment when i tossing and turning my body feel terrible especially in my stomach abdominal area my thought are anxious and i feel terrible when i wake up fully all i think about is the thing making me anxious and the symptom i described feel like time worse and i feel extremely high stung and filled with dread i feel like i want to fade away because it feel so bad after about an hour or two the physical symptom lessen and my anxiety reduces to more manageable level doe anyone else feel this and what have you done to cope', 'worldofnc i do a digital fast every so often it where i stop watching the news or looking at social medium just music reading and netflix it may be sticking my head in the sand but it give me a firebreak from the stress and depression that is modern life stay sane', 'had anyone tried luvox i know it for ocd but i wa given that for said ocd and panic disorder i bipolar and am already on medication i just wan na know about side effect and if it ha either worked or given anyone trouble', 'arlenecd please tell me that somewhere close to california lol', 'choclatdrop he not paying me any attn', 'i tired of living the one thing that kept me alive just weaponozed my mental health about week ago and left i tired of being stressed about everything bill and not knowing of i can feed myself i ve given up how much oxy is lethal asking for well myself', 'supplement to help fight depression http co tc tkc abj', 'gossipmail i make people forget they have problem i depress depression', 'dianaisabela markus lanz nataklitschko vitvitska jakluge fiedelseb wir ssen darauf achten das wir im herzen den sonnenschein nicht verlieren dauerhafte traurigkeit depression aggression macht krank und dann kriegen die un am ende doch noch hab sonne im herzen ob st rmt oder schneit']\n",
            "32\n",
            "<class 'tuple'>\n",
            "3\n",
            "torch.Size([32, 298])\n",
            "torch.Size([32, 298])\n",
            "torch.Size([32])\n"
          ]
        }
      ]
    },
    {
      "cell_type": "code",
      "source": [
        "  textDataMoudle = CustomDataModule()\n",
        "  textDataMoudle.prepare_data()\n",
        "  textDataMoudle.setup(stage = \"fit\")"
      ],
      "metadata": {
        "id": "uqvmaWJQ4GDc",
        "outputId": "a1b28f1b-6240-4ab9-f632-8c342462889f",
        "colab": {
          "base_uri": "https://localhost:8080/",
          "height": 66,
          "referenced_widgets": [
            "3115f2cc41c74c1c966d492626e73562",
            "34b3377cf2ae48cba3f160a00d62b141",
            "a4c73ea07bfd45e4acb4e1462efbdd34",
            "876363d999f1463e88c9d2cb619cd9df",
            "c40ad48146124d648a32e43b62fb9391",
            "5d5c6ae37f714a989a48b8e6a772923c",
            "895eec8e0816488a9a1dfd0a046a8f3b",
            "188c8ba2b57f4d41b3c4fff8f0d046bc",
            "3e2a669c2d884f14a8ef09cb07fa3e0c",
            "a1066f472252407a9a3fe9c9109b402a",
            "290f12e128a84c289419675ef6763311"
          ]
        }
      },
      "execution_count": 9,
      "outputs": [
        {
          "output_type": "stream",
          "name": "stdout",
          "text": [
            "process_Data runned with data shape (3711, 2)\n"
          ]
        },
        {
          "output_type": "display_data",
          "data": {
            "text/plain": [
              "  0%|          | 0/3711 [00:00<?, ?it/s]"
            ],
            "application/vnd.jupyter.widget-view+json": {
              "version_major": 2,
              "version_minor": 0,
              "model_id": "3115f2cc41c74c1c966d492626e73562"
            }
          },
          "metadata": {}
        }
      ]
    },
    {
      "cell_type": "code",
      "source": [
        "train_loader = textDataMoudle.train_dataloader()"
      ],
      "metadata": {
        "id": "jtvZh3IJ4VY8"
      },
      "execution_count": 10,
      "outputs": []
    },
    {
      "cell_type": "code",
      "source": [
        "batch_data = next(iter(train_loader))\n",
        "print(batch_data)\n",
        "print(\"Test data shape:\", len(batch_data))"
      ],
      "metadata": {
        "id": "VciojVzU656m",
        "outputId": "20ba92f7-42ef-4122-c8d1-f63fb51de8cb",
        "colab": {
          "base_uri": "https://localhost:8080/"
        }
      },
      "execution_count": 18,
      "outputs": [
        {
          "output_type": "stream",
          "name": "stdout",
          "text": [
            "{'text': ['not sure if actually anxiety related tbh recently during spring break my stress got the best of me and i ended up isolating myself and feeling unempathetic towards those who tried to contact me so i gave up on trying to express my feeling over text and wa really struggling with messaging and stuff today i realized that i wa having trouble getting any word out while speaking to those at school and my best friend yet i could talk to my family fine it making my friend uncomfortable and i believe they are upset with me yet i can even get my word out over text not sure what to expect putting this out there hoping for any explanation or help', 'it one thing to feel bad mentally but when i constantly feeling physically ill a well it make trying to get myself to do positive thing so much harder i can never just feel okay not mentally or physically always in some sort of pain and always feeling like shit then when you ask for help you just get out on a month waiting list', 'it been five year and a couple day now since my first major attempt i not too sure how i feel to be honest ha life improved well not really of course after that first attempt i tried a couple more time i think if we look at the net value i relatively in the same spot a i wa five year ago vibing on the bridge thankfully i not too upset about that i think sadness and my inability to get out of said sadness is something that i will have to live with i getting better at fighting it that for sure are some day tiring and fucking unbearable of course but now i just content with existing sad day are hard some day are easy i think i just shocked that i still alive well i definitely know that younger me would be shocked i still kicking around maybe he be happy that i stayed for this long there really isn any point to this post just a bit of selfish self congratulation and the ability to say i still alive guy i hope everyone ha a good day it raining where i am but it really nice to look at', 'it so exhausting waking up every morning instantly with a wave of sadness and discontent then the whole day is filled with me trying to keep my mind off of my own thought and trying to chase little happiness i tired of this why can i just wake up happy and in a good mood like everyone else i so exhausted and tired of living like this nothing help and nothing sustains it i try to workout but that doesn help i at a loss of thing to do about it this isn how i want to live life and it exhausting and more of a burden', 'my man crush jake peavy let me down gayforpeavy', 'maybe not just empty but part of me is absolutely devastated and the other part of me is aware that it for the best and the rest of me is split between hate and love my emotion are so disconnected like mismatched puzzle piece nothing feel right not just because i seeing a puzzle but because some piece are from another making it impossible to solve internally i want to go back and be babied by him and feel helpless in a good way but ha that ever happened no it wa an illusion he doesn actually love me he never did all that talk of soulmates and staying into the end i don know if i should even believed it or not i haven believed in soulmates for year and this might be another reason why all because he said i love you wa i even loved', 'my paronychia hurt', 'kal penn i will miss you on the show you were awesome what a shock', 'therealsir ambassador dick go legend during the depression when all else suck ish', 'i should ve died it been a year since my last suicide attempt a year since the closest i ve gotten to dying a year since my greatest mistake of life see people talk ab leading up to the attempt or their life before that but after the failed attempt they just say they wanted to live and everything got better nah bro that not this story a year later i worst than before i just don live alone anymore and there more thing stopping me i still hate my life i still wan na die and honestly my depression got worst i just feel like i can express it le since then i had a brief period of being okay then again it all went to shit i no longer play college sport i dropped out of school time i fucked yo everything i cared about and apart from that i in debt i self harm way more than i used to probably every day now i catch myself switching the knife i used to use for my bare hand a it easier to play off and i just beat myself up every night until i can barely breath pounding at my chest or rib until it hurt to be straight and i need to curl up in my ball of sweat and blood and cut from the pounding i do to myself i feel invivible like no one give a fuck and neither do i i have to fake every emotion i have because i don feel anything just complete numbness and pain i failed at everything i set out to do and i ve hurt people who didn deserve my pain everyone who try to help find it too much and therapy seems too impersonal so it doesn really help and i can open up it really just feel like everything went to shit after that it feel like my rock bottom opened up and created a newer harder level called hell for me to play since i escaped from the real one when the pill didn work and i catch myself holding my stomach half beaten sore and hungry from the day of starving myself due to lack of motivation and thinking god damn it i should ve died that day god fuckikg damn it those pill should ve killed me if they did i wouldn have hurt who i have if they did i wouldn have become this failure if they didn i wouldn have to fake if they did i wouldn have to beat if they did i wouldn have to pretend i okay being alive when all i ever wan na do is die if they did i would finally rest i can talk ab my feeling i undeserving of that privilege i can explain why i do the thing i do that hurt people the word just don come out the feeling is unexplainable i can explain why i just wan na die because if i did then i would be told i taking thing for granted and i can kill myself because it hurt to hurt people all i want is to be dead happiness stoped being an option for me long ago', 'ugh can sleep wish i had a good cuddle to make me as out', 'sarahsaturday i sorry your gift card ran out that suck', 'theekween depression and anxiety thelmasherbs', 'i really need to fcking end it i can take it anymore here', 'mizzzidc but move out soon swettie you sound like a breadwinner so have your own place to avoid sinking into depression over sneaker', 'it still suck that ha a job that a lot of people wish they had hr showed me that they received over application for my position i moved to a new city for this job right before covid took over can seem to make friend or meaningful connection with anyone in just over year i don really have hobby and dread coming home to an empty house every night i ve always struggled with self esteem and this crushing loneliness ha me struggling yo get out of bed nobody call or even sends me text message i have no one that care about me i already hiding so much including my emotion just desperately hoping someone i know reach out to me life is hard i get that and i know it not easy for anyone but so many people i know have it so much easier their constant smile and laughter hurt but i hurt even more pretending to smile and laugh with them i ve ended up losing the passion and drive i once had got my career and am truly lost no friend no family no career no future fml', 'a serait cool si notre soci s int ressait beaucoup plus sur la psychologie ex le cause de malady mentales pression trouble bipolaires ect anatomie du corp humain ex le diff rences du veloppement sexuelle http co tvixyi d', 'i know that sound weird but i wa talking to my therapist yesterday about how i usually don realize i am in a bad place until i am out of it and look back at that time long story short we talked about getting better at recognizing it and today i have been feeling really down and sluggish and angry wa i depressed yesterday but just didn realize it not sure if this ramble make sense but yeah i thought i wa fine yesterday now i am not even though nothing in my life changed', 'got ta calm the weekend down monday blue carrying on into tuesday', 'in high school i wa quiet mind my business didn talk to many people i noticed that certain people just didn like me one time a teacher moved a girl to sit next to me and she made this weird face like annoyed and when she sat next to me she wa slightly turned ti the direction i wasn in and not facing straight another occasion i wa sitting in a table with other people and none of them would bother to talk to me even when i tried to make a convo or ask a question and one of them actually cut hair now and my brother and dad cut their hair with her and they re always saying she talk a lot etc she friendly today i went to that place to cut my hair and she wa completely quiet just asked me what hair type i wanted and the price of the cut i didn want to start a convo cause i knew that back then she wouldn even want to talk i just feel like i have something that just make people dislike me for no reason', 'silverlines tadi di pim udah sempet lirik mesra tapi baru abis makan definitely putting it in my agenda next time i go to pim', 'smokey robinson you fell off my list did i offend you', 'someone understanding please if you re not i sorry it ll only make it worse i don want to vent about my problem because it ll make me break down i hope you understand', 'i ve had anxiety since i wa that wa year after my brother death amp my dad assent into abusive alcoholism year after my discovery of oxycontin the year of my mom diagnosis of breast cancer they were all dead by the time i wa i ve been addicted to damn near everything in my lifetime iv user of heroin amp amphetamine but nothing wa ever a bad a the xanax era my mom wa dying in front of my eye just wasting away we were homeless for a while we slept in the same bed smoking meth and taking any rx med that took out of the moment i now i married living in a shitty basement apartment i developed epilepsy last year amp have been out of work since my husband work a lot so i just alone a lot of the time been on so many psych med spent month in a top ranked trauma center in baltimore got round of electro convulsive therapy ketamine treatment just completed my rd inpatient drug rehab on friday back to drinking by sunday i can not take this anymore what do i fucking do like can anybody help i ve done recovery program worked the step been in therapy once a week for the last year nothing is working and i just don want to be here anymore somebody please help please', 'life seems to be so unfair how come i am mentally struggling and unwell more compared to people who abuse substance or i guess sometimes to people who just drink a lot smoke a lot of weed etc it doesn seem to affevt them negatively meanwhile i am completely sober but seems to be going through so much shit sleep issue regardless of no substance abuse i jusy don understand', 'just a head up site being wonky so will like probably post late today flippin technical issue', 'i miserable most of the time but life is only bearable when i with my cat but i don think i her favourite person anymore she stopped cuddling with me and never sleep with me now instead she spends most of her time with my brother and only come to me when she need food it been like this for a few month and it really hurt i don know what to do i thinking of getting a dog when i eventually move out but that so far from now', 'i ve been feeling pretty even consistently which is good i missed a dose the other night i usually take them before bed i fell asleep on the couch by the time i woke up at am i felt it wa too late before the next dose so just halved the dose today i truly felt the difference and realized the importance of this medication i do find that now that i know what it like to live like someone with a more normal brain wave thanks to the med when anxious start do enter my mind now it much more frightening than it wa before even though i ve lived with gad for a long time i wa diagnosed with it a couple of month ago and still i having difficulty accepting it doe anyone else have the experience of anxious thought now more pronounced and frightening when they are experienced upon missing a dose', 'i always scared of getting dvt but usually tell myself it not it and move on i do get leg pain from working a desk job and have had leg ultrasound in the last year that were clear i usually tell myself if it a symptom i ve felt before i fine just started a work from home job where walk le i get up every hour but walking around the house is very different than a large office building and my leg ha been hurting which isn new but i happened to look at where it hurt and it the area right below my knee cap on the inner part of my leg aka the part that could touch the other leg when i standing i noticed there is slight swelling there idk if swelling is even the right term since it not hot or red but def stick out more than the other side maybe about half an inch more which is new considering i ve in the past looked for swelling a i mentioned before it not hot or red but i am worried yet don want to cry wolf and get a rd ultrasound in the last year i should mention i have an autoimmune disease that can put me at risk for blood clot but thankfully have had no issue prior i don want to bother my dr again but also don want this to be the time i actually have it since i ve never seen swelling on my leg before', 'i at a very weird place in my life right now i a year old male in college i failing my college class a i have no motivation to do well in them i have a very poor relationship with my parent and family the one organization in my college that i extremely involved with ha cut tie with me over accusation that are not true i have a leadership role in this organization and being a leader in the organization with no prior experience ha brought me a ton of hater and people that just want to see my downfall i literally have no future a i supposed to graduate this semester and get a job but i am nowhere near both i can pursue my real passion and to top it all of and what really might put me over the edge is problem with this woman in my life we met through this organization that i wa talking about earlier in this text a a captain i have my own committee of people that i oversee and she wa one of my committee member the first time we hung out in october she took me out to a bar after i turned it wa just me and her we quickly started to develop this really cool friendship where we hangout and talk almost daily a a young man hopeless in love i started to develop feeling but nothing crazy because i almost always saw her a a best friend first and i sure she felt the same way then we were at a bar about a month ago she wa talking to some guy at the bar and i wa having a funny conversation with my friend but i could see from the corner of my eye that she wa talking to this man and that when i first started feeling these feeling of jealousy but i could tell she wa looking at me too talking to my friend and she came to me and we embraced and i hugged her almost all night had my arm around her and everything and she had her hand over mine too and we just kept feeling each other this wa the first time we ever moved into this phase of our friendship and i think we both felt something brewing in our heart for one another a few day went by and i wa out yet again talking to this other chick i met at the bar and we ended up almost hooking up back at my place but i couldn go through with it because all i could think about wa my best friend who i really liked i an introvert at heart and will always keep my feeling inside because i scared to tell people how i feel and i suppress those feeling but literally the next day after this hookup that didn happen i wa at a friend st birthday party and got hammered myself and i had this urge of wanting to tell my best friend how i truly felt about her and that exactly what i did it wa a thursday night she always go to this one specific club on thursday night so i ditched my friend and went to that club to see her and it literally played out like a romantic film she wa the first person i saw when i walked in and went up to her and for the first time in my life i poured my heart out to her and told her how i felt about her and how she make me feel and at first she wa shocked and then she said she felt the same way and we kissed for a long time at this moment i wa on cloud i had never had a girlfriend before had never been in a relationship before but in this moment it wa just me and her against the world and i loved it we started to head back to my apartment but the alcohol wa kicking in for me and i passed out once i got back to my apartment i woke up the next day and saw her heel on the floor but she wa nowhere to be found so i texted her and told her that i wa sorry for passing out from the alcohol but i meant every word i told her last night she didn text me back till later that day and she said that she wa thinking about it all day and night and she didn want to fuck up our friendship a it one of the few good thing in her life right now and i totally get that wa i disappointed hearing this yeah of course i wa but i texted her back saying that we can talk about this in person another time but for right now enjoy your weekend the next day we saw each other at a party and i talked to her outside and told her that i rather say we tried to make it work and it didn rather than not giving a chance at all and she never gave me a clear answer she texted me later that night saying that she needed a break and some time to think so i said okay a few day later we had our last committee meeting and it wa so awkward cause we hadn talked before and we were on this so called break and after the meeting ended she immediately left even though she usually wait for me i got a text from her later that night around am saying that this letter i wrote for everyone on my committee wa very sweet and cute and i asked her how long this break should last and she said she wasn sure a she didn want me to think that she wa leading me on which i thought she wa doing so we hopped on this facetime call and had a really nice long conversation about all the stuff we had to catch up on and then after an hour i switched the topic back to our relationship and she basically said that she didn feel the same way i wa so hurt when she said this because all the sign pointed to her liking me too and i really felt like i knew what her heart wa saying we both went to sleep cry that night for each other the next day i sent her a text this time saying that i do need some space to figure thing out and we can talk after spring break so for the next week we didn talk she didn view my story like any of my social medium post and just simply didn communicate with each other and it wa one of the worst thing for me to go through a she wa someone i really looked forward to talking to and to not be able to do that just sucked the sunday before we came back to college i texted her and asked if she be down to hangout that first week we got back and she said she wa down to do so and i wa so happy because it felt like i wa getting my friend back again but then a few day later she angrily text me asking if i told anyone that we hooked up which isn true and i told her that i didn which is true there were rumor going around about from people that saw hangout a lot that saw embrace at the bar that saw kiss at the club and saw walk back to my apartment together so people could only assume that we were a thing and i kept telling her that but she wasn having it she facetimed me saying that she regretted ever kissing me she didn want to be friend anymore and all this shit i wa extremely hurt hearing this and just wanted my friend back and wanted to forget ever opening up my feeling for her so i sent her a really long text explaining that i never said anything that i really cared about her and just wanted my best friend back she responded by saying that she appreciated me reaching out and that she wa over the situation and that she not ready to move forward with me and doesn think our friendship will ever be the same so i texted her this morning and i said i get it and if there wa any way we could meet in person and just talk she responded back by saying that she potentially open to it but not now maybe next week so i said i just genuinely need someone to talk to but i understand her the last text she sent me wa i don think i can be that person for you anymore i sorry i am heartbroken devastated and hopeless angry at myself angry at this world and i just want to leave i have no direction in life no one to turn to anymore and i just want to end it all a soon a possible', 'itsdawns thank rmilana don like it hehe but it very easy and well i just a danish dude', 'juzley yaaaay maybe i should ve gone'], 'label': tensor([1, 1, 1, 1, 0, 1, 0, 0, 1, 1, 0, 0, 1, 1, 1, 1, 1, 1, 0, 1, 0, 0, 1, 1,\n",
            "        1, 0, 1, 1, 1, 1, 0, 0])}\n",
            "Test data shape: 2\n"
          ]
        }
      ]
    },
    {
      "cell_type": "code",
      "source": [
        "print(len(batch_data['text']))\n",
        "for sentence in batch_data['text'] :\n",
        "  print(len(sentence))"
      ],
      "metadata": {
        "id": "BWAhAhcW_FD9",
        "outputId": "07bccb59-3a46-473f-bf04-102e526ed2bc",
        "colab": {
          "base_uri": "https://localhost:8080/"
        }
      },
      "execution_count": 22,
      "outputs": [
        {
          "output_type": "stream",
          "name": "stdout",
          "text": [
            "32\n",
            "643\n",
            "329\n",
            "993\n",
            "517\n",
            "47\n",
            "739\n",
            "18\n",
            "66\n",
            "81\n",
            "2586\n",
            "56\n",
            "54\n",
            "45\n",
            "57\n",
            "132\n",
            "962\n",
            "220\n",
            "473\n",
            "65\n",
            "907\n",
            "125\n",
            "53\n",
            "166\n",
            "1166\n",
            "373\n",
            "93\n",
            "423\n",
            "791\n",
            "1217\n",
            "7348\n",
            "86\n",
            "36\n"
          ]
        }
      ]
    },
    {
      "cell_type": "code",
      "source": [
        "embeddings_matrix"
      ],
      "metadata": {
        "id": "fVmCVl3ePzkF",
        "outputId": "5d7e94f5-45eb-441e-dc7f-0ad17d4f51ba",
        "colab": {
          "base_uri": "https://localhost:8080/"
        }
      },
      "execution_count": 72,
      "outputs": [
        {
          "output_type": "execute_result",
          "data": {
            "text/plain": [
              "tensor([[ 0.0000e+00,  0.0000e+00,  0.0000e+00,  ...,  0.0000e+00,\n",
              "          0.0000e+00,  0.0000e+00],\n",
              "        [-8.7387e-03,  7.2767e-03,  2.4668e-02,  ..., -1.2901e-02,\n",
              "         -7.5833e-03,  1.1581e-03],\n",
              "        [-5.6565e-02, -1.6594e-01, -1.1204e-03,  ...,  1.1236e-01,\n",
              "         -1.0972e-01,  2.1834e-01],\n",
              "        ...,\n",
              "        [-1.9998e-02,  1.4106e-02,  4.4227e-02,  ..., -1.6429e-02,\n",
              "         -1.4284e-02, -2.7754e-02],\n",
              "        [ 4.5684e-02,  2.3541e-02,  4.2600e-02,  ..., -1.3993e-02,\n",
              "          9.2478e-05, -2.8274e-03],\n",
              "        [-8.8838e-03, -2.7286e-03,  2.9893e-02,  ...,  5.9561e-03,\n",
              "         -6.4476e-02,  3.0811e-02]])"
            ]
          },
          "metadata": {},
          "execution_count": 72
        }
      ]
    },
    {
      "cell_type": "code",
      "source": [
        "  tokenizer = Tokenizer()\n",
        "  # tokenizer.fit_on_texts_and_embeddings(textDataMoudle.train_data.clean_text, pretrained_embeddings)\n",
        "  tokenizer.load(\"/content/drive/MyDrive/depression_classification/\")\n",
        "  # embeddings_matrix = tokenizer.get_embeddings_matrix(pretrained_embeddings)  # already created"
      ],
      "metadata": {
        "id": "Wk3WqLYh_nsp"
      },
      "execution_count": 133,
      "outputs": []
    },
    {
      "cell_type": "code",
      "source": [
        "tokenzied_batch_data = tokenizer(batch_data['text'])"
      ],
      "metadata": {
        "id": "QVq1TMcj_uRo",
        "outputId": "ebd35ce2-96ea-4e72-8228-e81584fb0398",
        "colab": {
          "base_uri": "https://localhost:8080/"
        }
      },
      "execution_count": 134,
      "outputs": [
        {
          "output_type": "stream",
          "name": "stdout",
          "text": [
            "first line: ['not', 'sure', 'if', 'actually', 'anxiety', 'related', 'tbh', 'recently', 'during', 'spring', 'break', 'my', 'stress', 'got', 'the', 'best', 'of', 'me', 'and', 'i', 'ended', 'up', 'isolating', 'myself', 'and', 'feeling', 'unempathetic', 'towards', 'those', 'who', 'tried', 'to', 'contact', 'me', 'so', 'i', 'gave', 'up', 'on', 'trying', 'to', 'express', 'my', 'feeling', 'over', 'text', 'and', 'wa', 'really', 'struggling', 'with', 'messaging', 'and', 'stuff', 'today', 'i', 'realized', 'that', 'i', 'wa', 'having', 'trouble', 'getting', 'any', 'word', 'out', 'while', 'speaking', 'to', 'those', 'at', 'school', 'and', 'my', 'best', 'friend', 'yet', 'i', 'could', 'talk', 'to', 'my', 'family', 'fine', 'it', 'making', 'my', 'friend', 'uncomfortable', 'and', 'i', 'believe', 'they', 'are', 'upset', 'with', 'me', 'yet', 'i', 'can', 'even', 'get', 'my', 'word', 'out', 'over', 'text', 'not', 'sure', 'what', 'to', 'expect', 'putting', 'this', 'out', 'there', 'hoping', 'for', 'any', 'explanation', 'or', 'help']\n",
            "second line: ['<sos>', 'not', 'sure', 'if', 'actually', 'anxiety', 'related', 'tbh', 'recently', 'during', 'spring', 'break', 'my', 'stress', 'got', 'the', 'best', 'of', 'me', 'and', 'i', 'ended', 'up', 'isolating', 'myself', 'and', 'feeling', 'unempathetic', 'towards', 'those', 'who', 'tried', 'to', 'contact', 'me', 'so', 'i', 'gave', 'up', 'on', 'trying', 'to', 'express', 'my', 'feeling', 'over', 'text', 'and', 'wa', 'really', 'struggling', 'with', 'messaging', 'and', 'stuff', 'today', 'i', 'realized', 'that', 'i', 'wa', 'having', 'trouble', 'getting', 'any', 'word', 'out', 'while', 'speaking', 'to', 'those', 'at', 'school', 'and', 'my', 'best', 'friend', 'yet', 'i', 'could', 'talk', 'to', 'my', 'family', 'fine', 'it', 'making', 'my', 'friend', 'uncomfortable', 'and', 'i', 'believe', 'they', 'are', 'upset', 'with', 'me', 'yet', 'i', 'can', 'even', 'get', 'my', 'word', 'out', 'over', 'text', 'not', 'sure', 'what', 'to', 'expect', 'putting', 'this', 'out', 'there', 'hoping', 'for', 'any', 'explanation', 'or', 'help', '<eos>']\n",
            "third line: [2, 62, 404, 224, 539, 365, 1523, 1, 177, 808, 2970, 134, 4, 260, 32, 38, 620, 18, 74, 29, 41, 699, 204, 1, 191, 29, 264, 1, 902, 1005, 96, 405, 20, 515, 74, 40, 41, 1423, 204, 50, 535, 20, 850, 4, 264, 597, 555, 29, 48, 269, 1, 75, 5157, 29, 681, 57, 41, 2017, 25, 41, 48, 376, 1891, 118, 241, 267, 8, 327, 326, 20, 1005, 125, 195, 29, 4, 620, 282, 721, 41, 221, 437, 20, 4, 130, 391, 64, 638, 4, 282, 1, 29, 41, 613, 247, 156, 1, 75, 74, 721, 41, 190, 104, 21, 4, 267, 8, 597, 555, 62, 404, 106, 20, 2520, 538, 67, 8, 112, 1, 9, 241, 1389, 101, 430, 3]\n",
            "first line: ['it', 'one', 'thing', 'to', 'feel', 'bad', 'mentally', 'but', 'when', 'i', 'constantly', 'feeling', 'physically', 'ill', 'a', 'well', 'it', 'make', 'trying', 'to', 'get', 'myself', 'to', 'do', 'positive', 'thing', 'so', 'much', 'harder', 'i', 'can', 'never', 'just', 'feel', 'okay', 'not', 'mentally', 'or', 'physically', 'always', 'in', 'some', 'sort', 'of', 'pain', 'and', 'always', 'feeling', 'like', 'shit', 'then', 'when', 'you', 'ask', 'for', 'help', 'you', 'just', 'get', 'out', 'on', 'a', 'month', 'waiting', 'list']\n",
            "second line: ['<sos>', 'it', 'one', 'thing', 'to', 'feel', 'bad', 'mentally', 'but', 'when', 'i', 'constantly', 'feeling', 'physically', 'ill', 'a', 'well', 'it', 'make', 'trying', 'to', 'get', 'myself', 'to', 'do', 'positive', 'thing', 'so', 'much', 'harder', 'i', 'can', 'never', 'just', 'feel', 'okay', 'not', 'mentally', 'or', 'physically', 'always', 'in', 'some', 'sort', 'of', 'pain', 'and', 'always', 'feeling', 'like', 'shit', 'then', 'when', 'you', 'ask', 'for', 'help', 'you', 'just', 'get', 'out', 'on', 'a', 'month', 'waiting', 'list', '<eos>']\n",
            "third line: [2, 64, 136, 122, 20, 85, 309, 1, 14, 58, 41, 1, 264, 917, 1526, 10, 255, 64, 84, 535, 20, 21, 191, 20, 209, 1147, 122, 40, 410, 3242, 41, 190, 49, 109, 85, 1193, 62, 1, 101, 917, 261, 66, 425, 828, 18, 627, 29, 261, 264, 45, 486, 147, 58, 439, 413, 9, 430, 439, 109, 21, 8, 50, 10, 46, 644, 1187, 3]\n",
            "first line: ['it', 'been', 'five', 'year', 'and', 'a', 'couple', 'day', 'now', 'since', 'my', 'first', 'major', 'attempt', 'i', 'not', 'too', 'sure', 'how', 'i', 'feel', 'to', 'be', 'honest', 'ha', 'life', 'improved', 'well', 'not', 'really', 'of', 'course', 'after', 'that', 'first', 'attempt', 'i', 'tried', 'a', 'couple', 'more', 'time', 'i', 'think', 'if', 'we', 'look', 'at', 'the', 'net', 'value', 'i', 'relatively', 'in', 'the', 'same', 'spot', 'a', 'i', 'wa', 'five', 'year', 'ago', 'vibing', 'on', 'the', 'bridge', 'thankfully', 'i', 'not', 'too', 'upset', 'about', 'that', 'i', 'think', 'sadness', 'and', 'my', 'inability', 'to', 'get', 'out', 'of', 'said', 'sadness', 'is', 'something', 'that', 'i', 'will', 'have', 'to', 'live', 'with', 'i', 'getting', 'better', 'at', 'fighting', 'it', 'that', 'for', 'sure', 'are', 'some', 'day', 'tiring', 'and', 'fucking', 'unbearable', 'of', 'course', 'but', 'now', 'i', 'just', 'content', 'with', 'existing', 'sad', 'day', 'are', 'hard', 'some', 'day', 'are', 'easy', 'i', 'think', 'i', 'just', 'shocked', 'that', 'i', 'still', 'alive', 'well', 'i', 'definitely', 'know', 'that', 'younger', 'me', 'would', 'be', 'shocked', 'i', 'still', 'kicking', 'around', 'maybe', 'he', 'be', 'happy', 'that', 'i', 'stayed', 'for', 'this', 'long', 'there', 'really', 'isn', 'any', 'point', 'to', 'this', 'post', 'just', 'a', 'bit', 'of', 'selfish', 'self', 'congratulation', 'and', 'the', 'ability', 'to', 'say', 'i', 'still', 'alive', 'guy', 'i', 'hope', 'everyone', 'ha', 'a', 'good', 'day', 'it', 'raining', 'where', 'i', 'am', 'but', 'it', 'really', 'nice', 'to', 'look', 'at']\n",
            "second line: ['<sos>', 'it', 'been', 'five', 'year', 'and', 'a', 'couple', 'day', 'now', 'since', 'my', 'first', 'major', 'attempt', 'i', 'not', 'too', 'sure', 'how', 'i', 'feel', 'to', 'be', 'honest', 'ha', 'life', 'improved', 'well', 'not', 'really', 'of', 'course', 'after', 'that', 'first', 'attempt', 'i', 'tried', 'a', 'couple', 'more', 'time', 'i', 'think', 'if', 'we', 'look', 'at', 'the', 'net', 'value', 'i', 'relatively', 'in', 'the', 'same', 'spot', 'a', 'i', 'wa', 'five', 'year', 'ago', 'vibing', 'on', 'the', 'bridge', 'thankfully', 'i', 'not', 'too', 'upset', 'about', 'that', 'i', 'think', 'sadness', 'and', 'my', 'inability', 'to', 'get', 'out', 'of', 'said', 'sadness', 'is', 'something', 'that', 'i', 'will', 'have', 'to', 'live', 'with', 'i', 'getting', 'better', 'at', 'fighting', 'it', 'that', 'for', 'sure', 'are', 'some', 'day', 'tiring', 'and', 'fucking', 'unbearable', 'of', 'course', 'but', 'now', 'i', 'just', 'content', 'with', 'existing', 'sad', 'day', 'are', 'hard', 'some', 'day', 'are', 'easy', 'i', 'think', 'i', 'just', 'shocked', 'that', 'i', 'still', 'alive', 'well', 'i', 'definitely', 'know', 'that', 'younger', 'me', 'would', 'be', 'shocked', 'i', 'still', 'kicking', 'around', 'maybe', 'he', 'be', 'happy', 'that', 'i', 'stayed', 'for', 'this', 'long', 'there', 'really', 'isn', 'any', 'point', 'to', 'this', 'post', 'just', 'a', 'bit', 'of', 'selfish', 'self', 'congratulation', 'and', 'the', 'ability', 'to', 'say', 'i', 'still', 'alive', 'guy', 'i', 'hope', 'everyone', 'ha', 'a', 'good', 'day', 'it', 'raining', 'where', 'i', 'am', 'but', 'it', 'really', 'nice', 'to', 'look', 'at', '<eos>']\n",
            "third line: [2, 64, 172, 1655, 219, 29, 10, 512, 146, 117, 771, 4, 356, 381, 947, 41, 62, 301, 404, 152, 41, 85, 20, 65, 2131, 28, 280, 2840, 255, 62, 269, 18, 197, 373, 25, 356, 947, 41, 405, 10, 512, 157, 179, 41, 244, 224, 90, 230, 125, 38, 2555, 696, 41, 2500, 66, 38, 483, 1327, 10, 41, 48, 1655, 219, 47, 1, 50, 38, 757, 1, 41, 62, 301, 1, 202, 25, 41, 244, 265, 29, 4, 2841, 20, 21, 8, 18, 631, 265, 94, 102, 25, 41, 226, 16, 20, 91, 75, 41, 118, 222, 125, 2842, 64, 25, 9, 404, 156, 425, 146, 1, 29, 153, 1, 18, 197, 14, 117, 41, 109, 679, 75, 843, 1114, 146, 156, 540, 425, 146, 156, 891, 41, 244, 41, 109, 874, 25, 41, 15, 1304, 255, 41, 1814, 105, 25, 973, 74, 228, 65, 874, 41, 15, 2843, 217, 478, 726, 65, 767, 25, 41, 1328, 9, 67, 203, 112, 269, 1046, 241, 79, 20, 67, 11, 109, 10, 706, 18, 1, 292, 1, 29, 38, 2342, 20, 254, 41, 15, 1304, 273, 41, 472, 792, 28, 10, 316, 146, 64, 1514, 459, 41, 182, 14, 64, 269, 302, 20, 230, 125, 3]\n",
            "first line: ['it', 'so', 'exhausting', 'waking', 'up', 'every', 'morning', 'instantly', 'with', 'a', 'wave', 'of', 'sadness', 'and', 'discontent', 'then', 'the', 'whole', 'day', 'is', 'filled', 'with', 'me', 'trying', 'to', 'keep', 'my', 'mind', 'off', 'of', 'my', 'own', 'thought', 'and', 'trying', 'to', 'chase', 'little', 'happiness', 'i', 'tired', 'of', 'this', 'why', 'can', 'i', 'just', 'wake', 'up', 'happy', 'and', 'in', 'a', 'good', 'mood', 'like', 'everyone', 'else', 'i', 'so', 'exhausted', 'and', 'tired', 'of', 'living', 'like', 'this', 'nothing', 'help', 'and', 'nothing', 'sustains', 'it', 'i', 'try', 'to', 'workout', 'but', 'that', 'doesn', 'help', 'i', 'at', 'a', 'loss', 'of', 'thing', 'to', 'do', 'about', 'it', 'this', 'isn', 'how', 'i', 'want', 'to', 'live', 'life', 'and', 'it', 'exhausting', 'and', 'more', 'of', 'a', 'burden']\n",
            "second line: ['<sos>', 'it', 'so', 'exhausting', 'waking', 'up', 'every', 'morning', 'instantly', 'with', 'a', 'wave', 'of', 'sadness', 'and', 'discontent', 'then', 'the', 'whole', 'day', 'is', 'filled', 'with', 'me', 'trying', 'to', 'keep', 'my', 'mind', 'off', 'of', 'my', 'own', 'thought', 'and', 'trying', 'to', 'chase', 'little', 'happiness', 'i', 'tired', 'of', 'this', 'why', 'can', 'i', 'just', 'wake', 'up', 'happy', 'and', 'in', 'a', 'good', 'mood', 'like', 'everyone', 'else', 'i', 'so', 'exhausted', 'and', 'tired', 'of', 'living', 'like', 'this', 'nothing', 'help', 'and', 'nothing', 'sustains', 'it', 'i', 'try', 'to', 'workout', 'but', 'that', 'doesn', 'help', 'i', 'at', 'a', 'loss', 'of', 'thing', 'to', 'do', 'about', 'it', 'this', 'isn', 'how', 'i', 'want', 'to', 'live', 'life', 'and', 'it', 'exhausting', 'and', 'more', 'of', 'a', 'burden', '<eos>']\n",
            "third line: [2, 64, 40, 1, 1, 204, 126, 193, 2376, 75, 10, 1556, 18, 265, 29, 1, 147, 38, 178, 146, 94, 2926, 75, 74, 535, 20, 392, 4, 1192, 37, 18, 4, 854, 529, 29, 535, 20, 1894, 654, 1478, 41, 113, 18, 67, 414, 190, 41, 109, 352, 204, 767, 29, 66, 10, 316, 331, 45, 792, 500, 41, 40, 1, 29, 113, 18, 329, 45, 67, 286, 430, 29, 286, 1, 64, 41, 504, 20, 1955, 14, 25, 801, 430, 41, 125, 10, 1216, 18, 122, 20, 209, 202, 64, 67, 1046, 152, 41, 120, 20, 91, 280, 29, 64, 1, 29, 157, 18, 10, 1394, 3]\n",
            "first line: ['my', 'man', 'crush', 'jake', 'peavy', 'let', 'me', 'down', 'gayforpeavy']\n",
            "second line: ['<sos>', 'my', 'man', 'crush', 'jake', 'peavy', 'let', 'me', 'down', 'gayforpeavy', '<eos>']\n",
            "third line: [2, 4, 1562, 2533, 1, 1, 712, 74, 724, 1, 3]\n",
            "first line: ['maybe', 'not', 'just', 'empty', 'but', 'part', 'of', 'me', 'is', 'absolutely', 'devastated', 'and', 'the', 'other', 'part', 'of', 'me', 'is', 'aware', 'that', 'it', 'for', 'the', 'best', 'and', 'the', 'rest', 'of', 'me', 'is', 'split', 'between', 'hate', 'and', 'love', 'my', 'emotion', 'are', 'so', 'disconnected', 'like', 'mismatched', 'puzzle', 'piece', 'nothing', 'feel', 'right', 'not', 'just', 'because', 'i', 'seeing', 'a', 'puzzle', 'but', 'because', 'some', 'piece', 'are', 'from', 'another', 'making', 'it', 'impossible', 'to', 'solve', 'internally', 'i', 'want', 'to', 'go', 'back', 'and', 'be', 'babied', 'by', 'him', 'and', 'feel', 'helpless', 'in', 'a', 'good', 'way', 'but', 'ha', 'that', 'ever', 'happened', 'no', 'it', 'wa', 'an', 'illusion', 'he', 'doesn', 'actually', 'love', 'me', 'he', 'never', 'did', 'all', 'that', 'talk', 'of', 'soulmates', 'and', 'staying', 'into', 'the', 'end', 'i', 'don', 'know', 'if', 'i', 'should', 'even', 'believed', 'it', 'or', 'not', 'i', 'haven', 'believed', 'in', 'soulmates', 'for', 'year', 'and', 'this', 'might', 'be', 'another', 'reason', 'why', 'all', 'because', 'he', 'said', 'i', 'love', 'you', 'wa', 'i', 'even', 'loved']\n",
            "second line: ['<sos>', 'maybe', 'not', 'just', 'empty', 'but', 'part', 'of', 'me', 'is', 'absolutely', 'devastated', 'and', 'the', 'other', 'part', 'of', 'me', 'is', 'aware', 'that', 'it', 'for', 'the', 'best', 'and', 'the', 'rest', 'of', 'me', 'is', 'split', 'between', 'hate', 'and', 'love', 'my', 'emotion', 'are', 'so', 'disconnected', 'like', 'mismatched', 'puzzle', 'piece', 'nothing', 'feel', 'right', 'not', 'just', 'because', 'i', 'seeing', 'a', 'puzzle', 'but', 'because', 'some', 'piece', 'are', 'from', 'another', 'making', 'it', 'impossible', 'to', 'solve', 'internally', 'i', 'want', 'to', 'go', 'back', 'and', 'be', 'babied', 'by', 'him', 'and', 'feel', 'helpless', 'in', 'a', 'good', 'way', 'but', 'ha', 'that', 'ever', 'happened', 'no', 'it', 'wa', 'an', 'illusion', 'he', 'doesn', 'actually', 'love', 'me', 'he', 'never', 'did', 'all', 'that', 'talk', 'of', 'soulmates', 'and', 'staying', 'into', 'the', 'end', 'i', 'don', 'know', 'if', 'i', 'should', 'even', 'believed', 'it', 'or', 'not', 'i', 'haven', 'believed', 'in', 'soulmates', 'for', 'year', 'and', 'this', 'might', 'be', 'another', 'reason', 'why', 'all', 'because', 'he', 'said', 'i', 'love', 'you', 'wa', 'i', 'even', 'loved', '<eos>']\n",
            "third line: [2, 478, 62, 109, 1363, 14, 1253, 18, 74, 94, 1255, 1, 29, 38, 741, 1253, 18, 74, 94, 2275, 25, 64, 9, 38, 620, 29, 38, 149, 18, 74, 94, 3231, 2002, 564, 29, 492, 4, 357, 156, 40, 1, 45, 1, 4274, 3514, 286, 85, 116, 62, 109, 238, 41, 675, 10, 4274, 14, 238, 425, 3514, 156, 33, 407, 638, 64, 663, 20, 3405, 4275, 41, 120, 20, 123, 80, 29, 65, 1, 218, 728, 29, 85, 2965, 66, 10, 316, 550, 14, 28, 25, 475, 753, 24, 64, 48, 184, 4276, 726, 801, 539, 492, 74, 726, 49, 978, 216, 25, 437, 18, 1, 29, 1828, 836, 38, 435, 41, 103, 105, 224, 41, 595, 104, 1973, 64, 101, 62, 41, 846, 1973, 66, 1, 9, 219, 29, 67, 1252, 65, 407, 481, 414, 216, 238, 726, 631, 41, 492, 439, 48, 41, 104, 704, 3]\n",
            "first line: ['my', 'paronychia', 'hurt']\n",
            "second line: ['<sos>', 'my', 'paronychia', 'hurt', '<eos>']\n",
            "third line: [2, 4, 1, 614, 3]\n",
            "first line: ['kal', 'penn', 'i', 'will', 'miss', 'you', 'on', 'the', 'show', 'you', 'were', 'awesome', 'what', 'a', 'shock']\n",
            "second line: ['<sos>', 'kal', 'penn', 'i', 'will', 'miss', 'you', 'on', 'the', 'show', 'you', 'were', 'awesome', 'what', 'a', 'shock', '<eos>']\n",
            "third line: [2, 963, 964, 41, 226, 448, 439, 50, 38, 965, 439, 457, 140, 106, 10, 966, 3]\n",
            "first line: ['therealsir', 'ambassador', 'dick', 'go', 'legend', 'during', 'the', 'depression', 'when', 'all', 'else', 'suck', 'ish']\n",
            "second line: ['<sos>', 'therealsir', 'ambassador', 'dick', 'go', 'legend', 'during', 'the', 'depression', 'when', 'all', 'else', 'suck', 'ish', '<eos>']\n",
            "third line: [2, 1, 5906, 2846, 123, 5907, 808, 38, 44, 58, 216, 500, 26, 5496, 3]\n",
            "first line: ['i', 'should', 've', 'died', 'it', 'been', 'a', 'year', 'since', 'my', 'last', 'suicide', 'attempt', 'a', 'year', 'since', 'the', 'closest', 'i', 've', 'gotten', 'to', 'dying', 'a', 'year', 'since', 'my', 'greatest', 'mistake', 'of', 'life', 'see', 'people', 'talk', 'ab', 'leading', 'up', 'to', 'the', 'attempt', 'or', 'their', 'life', 'before', 'that', 'but', 'after', 'the', 'failed', 'attempt', 'they', 'just', 'say', 'they', 'wanted', 'to', 'live', 'and', 'everything', 'got', 'better', 'nah', 'bro', 'that', 'not', 'this', 'story', 'a', 'year', 'later', 'i', 'worst', 'than', 'before', 'i', 'just', 'don', 'live', 'alone', 'anymore', 'and', 'there', 'more', 'thing', 'stopping', 'me', 'i', 'still', 'hate', 'my', 'life', 'i', 'still', 'wan', 'na', 'die', 'and', 'honestly', 'my', 'depression', 'got', 'worst', 'i', 'just', 'feel', 'like', 'i', 'can', 'express', 'it', 'le', 'since', 'then', 'i', 'had', 'a', 'brief', 'period', 'of', 'being', 'okay', 'then', 'again', 'it', 'all', 'went', 'to', 'shit', 'i', 'no', 'longer', 'play', 'college', 'sport', 'i', 'dropped', 'out', 'of', 'school', 'time', 'i', 'fucked', 'yo', 'everything', 'i', 'cared', 'about', 'and', 'apart', 'from', 'that', 'i', 'in', 'debt', 'i', 'self', 'harm', 'way', 'more', 'than', 'i', 'used', 'to', 'probably', 'every', 'day', 'now', 'i', 'catch', 'myself', 'switching', 'the', 'knife', 'i', 'used', 'to', 'use', 'for', 'my', 'bare', 'hand', 'a', 'it', 'easier', 'to', 'play', 'off', 'and', 'i', 'just', 'beat', 'myself', 'up', 'every', 'night', 'until', 'i', 'can', 'barely', 'breath', 'pounding', 'at', 'my', 'chest', 'or', 'rib', 'until', 'it', 'hurt', 'to', 'be', 'straight', 'and', 'i', 'need', 'to', 'curl', 'up', 'in', 'my', 'ball', 'of', 'sweat', 'and', 'blood', 'and', 'cut', 'from', 'the', 'pounding', 'i', 'do', 'to', 'myself', 'i', 'feel', 'invivible', 'like', 'no', 'one', 'give', 'a', 'fuck', 'and', 'neither', 'do', 'i', 'i', 'have', 'to', 'fake', 'every', 'emotion', 'i', 'have', 'because', 'i', 'don', 'feel', 'anything', 'just', 'complete', 'numbness', 'and', 'pain', 'i', 'failed', 'at', 'everything', 'i', 'set', 'out', 'to', 'do', 'and', 'i', 've', 'hurt', 'people', 'who', 'didn', 'deserve', 'my', 'pain', 'everyone', 'who', 'try', 'to', 'help', 'find', 'it', 'too', 'much', 'and', 'therapy', 'seems', 'too', 'impersonal', 'so', 'it', 'doesn', 'really', 'help', 'and', 'i', 'can', 'open', 'up', 'it', 'really', 'just', 'feel', 'like', 'everything', 'went', 'to', 'shit', 'after', 'that', 'it', 'feel', 'like', 'my', 'rock', 'bottom', 'opened', 'up', 'and', 'created', 'a', 'newer', 'harder', 'level', 'called', 'hell', 'for', 'me', 'to', 'play', 'since', 'i', 'escaped', 'from', 'the', 'real', 'one', 'when', 'the', 'pill', 'didn', 'work', 'and', 'i', 'catch', 'myself', 'holding', 'my', 'stomach', 'half', 'beaten', 'sore', 'and', 'hungry', 'from', 'the', 'day', 'of', 'starving', 'myself', 'due', 'to', 'lack', 'of', 'motivation', 'and', 'thinking', 'god', 'damn', 'it', 'i', 'should', 've', 'died', 'that', 'day', 'god', 'fuckikg', 'damn', 'it', 'those', 'pill', 'should', 've', 'killed', 'me', 'if', 'they', 'did', 'i', 'wouldn', 'have', 'hurt', 'who', 'i', 'have', 'if', 'they', 'did', 'i', 'wouldn', 'have', 'become', 'this', 'failure', 'if', 'they', 'didn', 'i', 'wouldn', 'have', 'to', 'fake', 'if', 'they', 'did', 'i', 'wouldn', 'have', 'to', 'beat', 'if', 'they', 'did', 'i', 'wouldn', 'have', 'to', 'pretend', 'i', 'okay', 'being', 'alive', 'when', 'all', 'i', 'ever', 'wan', 'na', 'do', 'is', 'die', 'if', 'they', 'did', 'i', 'would', 'finally', 'rest', 'i', 'can', 'talk', 'ab', 'my', 'feeling', 'i', 'undeserving', 'of', 'that', 'privilege', 'i', 'can', 'explain', 'why', 'i', 'do', 'the', 'thing', 'i', 'do', 'that', 'hurt', 'people', 'the', 'word', 'just', 'don', 'come', 'out', 'the', 'feeling', 'is', 'unexplainable', 'i', 'can', 'explain', 'why', 'i', 'just', 'wan', 'na', 'die', 'because', 'if', 'i', 'did', 'then', 'i', 'would', 'be', 'told', 'i', 'taking', 'thing', 'for', 'granted', 'and', 'i', 'can', 'kill', 'myself', 'because', 'it', 'hurt', 'to', 'hurt', 'people', 'all', 'i', 'want', 'is', 'to', 'be', 'dead', 'happiness', 'stoped', 'being', 'an', 'option', 'for', 'me', 'long', 'ago']\n",
            "second line: ['<sos>', 'i', 'should', 've', 'died', 'it', 'been', 'a', 'year', 'since', 'my', 'last', 'suicide', 'attempt', 'a', 'year', 'since', 'the', 'closest', 'i', 've', 'gotten', 'to', 'dying', 'a', 'year', 'since', 'my', 'greatest', 'mistake', 'of', 'life', 'see', 'people', 'talk', 'ab', 'leading', 'up', 'to', 'the', 'attempt', 'or', 'their', 'life', 'before', 'that', 'but', 'after', 'the', 'failed', 'attempt', 'they', 'just', 'say', 'they', 'wanted', 'to', 'live', 'and', 'everything', 'got', 'better', 'nah', 'bro', 'that', 'not', 'this', 'story', 'a', 'year', 'later', 'i', 'worst', 'than', 'before', 'i', 'just', 'don', 'live', 'alone', 'anymore', 'and', 'there', 'more', 'thing', 'stopping', 'me', 'i', 'still', 'hate', 'my', 'life', 'i', 'still', 'wan', 'na', 'die', 'and', 'honestly', 'my', 'depression', 'got', 'worst', 'i', 'just', 'feel', 'like', 'i', 'can', 'express', 'it', 'le', 'since', 'then', 'i', 'had', 'a', 'brief', 'period', 'of', 'being', 'okay', 'then', 'again', 'it', 'all', 'went', 'to', 'shit', 'i', 'no', 'longer', 'play', 'college', 'sport', 'i', 'dropped', 'out', 'of', 'school', 'time', 'i', 'fucked', 'yo', 'everything', 'i', 'cared', 'about', 'and', 'apart', 'from', 'that', 'i', 'in', 'debt', 'i', 'self', 'harm', 'way', 'more', 'than', 'i', 'used', 'to', 'probably', 'every', 'day', 'now', 'i', 'catch', 'myself', 'switching', 'the', 'knife', 'i', 'used', 'to', 'use', 'for', 'my', 'bare', 'hand', 'a', 'it', 'easier', 'to', 'play', 'off', 'and', 'i', 'just', 'beat', 'myself', 'up', 'every', 'night', 'until', 'i', 'can', 'barely', 'breath', 'pounding', 'at', 'my', 'chest', 'or', 'rib', 'until', 'it', 'hurt', 'to', 'be', 'straight', 'and', 'i', 'need', 'to', 'curl', 'up', 'in', 'my', 'ball', 'of', 'sweat', 'and', 'blood', 'and', 'cut', 'from', 'the', 'pounding', 'i', 'do', 'to', 'myself', 'i', 'feel', 'invivible', 'like', 'no', 'one', 'give', 'a', 'fuck', 'and', 'neither', 'do', 'i', 'i', 'have', 'to', 'fake', 'every', 'emotion', 'i', 'have', 'because', 'i', 'don', 'feel', 'anything', 'just', 'complete', 'numbness', 'and', 'pain', 'i', 'failed', 'at', 'everything', 'i', 'set', 'out', 'to', 'do', 'and', 'i', 've', 'hurt', 'people', 'who', 'didn', 'deserve', 'my', 'pain', 'everyone', 'who', 'try', 'to', 'help', 'find', 'it', 'too', 'much', 'and', 'therapy', 'seems', 'too', 'impersonal', 'so', 'it', 'doesn', 'really', 'help', 'and', 'i', 'can', 'open', 'up', 'it', 'really', 'just', 'feel', 'like', 'everything', 'went', 'to', 'shit', 'after', 'that', 'it', 'feel', 'like', 'my', 'rock', 'bottom', 'opened', 'up', 'and', 'created', 'a', 'newer', 'harder', 'level', 'called', 'hell', 'for', 'me', 'to', 'play', 'since', 'i', 'escaped', 'from', 'the', 'real', 'one', 'when', 'the', 'pill', 'didn', 'work', 'and', 'i', 'catch', 'myself', 'holding', 'my', 'stomach', 'half', 'beaten', 'sore', 'and', 'hungry', 'from', 'the', 'day', 'of', 'starving', 'myself', 'due', 'to', 'lack', 'of', 'motivation', 'and', 'thinking', 'god', 'damn', 'it', 'i', 'should', 've', 'died', 'that', 'day', 'god', 'fuckikg', 'damn', 'it', 'those', 'pill', 'should', 've', 'killed', 'me', 'if', 'they', 'did', 'i', 'wouldn', 'have', 'hurt', 'who', 'i', 'have', 'if', 'they', 'did', 'i', 'wouldn', 'have', 'become', 'this', 'failure', 'if', 'they', 'didn', 'i', 'wouldn', 'have', 'to', 'fake', 'if', 'they', 'did', 'i', 'wouldn', 'have', 'to', 'beat', 'if', 'they', 'did', 'i', 'wouldn', 'have', 'to', 'pretend', 'i', 'okay', 'being', 'alive', 'when', 'all', 'i', 'ever', 'wan', 'na', 'do', 'is', 'die', 'if', 'they', 'did', 'i', 'would', 'finally', 'rest', 'i', 'can', 'talk', 'ab', 'my', 'feeling', 'i', 'undeserving', 'of', 'that', 'privilege', 'i', 'can', 'explain', 'why', 'i', 'do', 'the', 'thing', 'i', 'do', 'that', 'hurt', 'people', 'the', 'word', 'just', 'don', 'come', 'out', 'the', 'feeling', 'is', 'unexplainable', 'i', 'can', 'explain', 'why', 'i', 'just', 'wan', 'na', 'die', 'because', 'if', 'i', 'did', 'then', 'i', 'would', 'be', 'told', 'i', 'taking', 'thing', 'for', 'granted', 'and', 'i', 'can', 'kill', 'myself', 'because', 'it', 'hurt', 'to', 'hurt', 'people', 'all', 'i', 'want', 'is', 'to', 'be', 'dead', 'happiness', 'stoped', 'being', 'an', 'option', 'for', 'me', 'long', 'ago', '<eos>']\n",
            "third line: [2, 41, 595, 171, 6, 64, 172, 10, 219, 771, 4, 465, 576, 947, 10, 219, 771, 38, 1381, 41, 171, 1, 20, 1383, 10, 219, 771, 4, 349, 989, 18, 280, 59, 60, 437, 2047, 3622, 204, 20, 38, 947, 101, 76, 280, 372, 25, 14, 373, 38, 687, 947, 247, 109, 254, 247, 428, 20, 91, 29, 114, 32, 222, 3787, 1111, 25, 62, 67, 1248, 10, 219, 769, 41, 735, 159, 372, 41, 109, 103, 91, 464, 608, 29, 112, 157, 122, 3293, 74, 41, 15, 564, 4, 280, 41, 15, 110, 111, 547, 29, 1, 4, 44, 32, 735, 41, 109, 85, 45, 41, 190, 850, 64, 770, 771, 147, 41, 368, 10, 3528, 2184, 18, 452, 1193, 147, 499, 64, 216, 131, 20, 486, 41, 24, 463, 2087, 276, 3204, 41, 723, 8, 18, 195, 179, 41, 722, 1983, 114, 41, 1, 202, 29, 1290, 33, 25, 41, 66, 1545, 41, 292, 838, 550, 157, 159, 41, 53, 20, 251, 126, 146, 117, 41, 1350, 191, 4718, 38, 3690, 41, 53, 20, 1357, 9, 4, 4198, 847, 10, 64, 1599, 20, 2087, 37, 29, 41, 109, 1772, 191, 204, 126, 524, 600, 41, 190, 1, 1278, 1, 125, 4, 1280, 101, 4188, 600, 64, 614, 20, 65, 1817, 29, 41, 423, 20, 2277, 204, 66, 4, 2278, 18, 388, 29, 1637, 29, 678, 33, 38, 1, 41, 209, 20, 191, 41, 85, 1, 45, 24, 136, 804, 10, 227, 29, 2186, 209, 41, 41, 16, 20, 3247, 126, 357, 41, 16, 238, 41, 103, 85, 210, 109, 1713, 1, 29, 627, 41, 687, 125, 114, 41, 517, 8, 20, 209, 29, 41, 171, 614, 60, 96, 415, 594, 4, 627, 792, 96, 504, 20, 430, 82, 64, 301, 410, 29, 342, 121, 301, 1, 40, 64, 801, 269, 430, 29, 41, 190, 862, 204, 64, 269, 109, 85, 45, 114, 131, 20, 486, 373, 25, 64, 85, 45, 4, 1312, 1858, 3354, 204, 29, 4221, 10, 3171, 3242, 1400, 1331, 294, 9, 74, 20, 2087, 771, 41, 6332, 33, 38, 281, 136, 58, 38, 959, 415, 19, 29, 41, 1350, 191, 2806, 4, 383, 151, 2784, 1056, 29, 3587, 33, 38, 146, 18, 1, 191, 1060, 20, 2863, 18, 2085, 29, 1520, 563, 449, 64, 41, 595, 171, 6, 25, 146, 563, 1, 449, 64, 1005, 959, 595, 171, 1068, 74, 224, 247, 978, 41, 169, 16, 614, 96, 41, 16, 224, 247, 978, 41, 169, 16, 2103, 67, 660, 224, 247, 415, 41, 169, 16, 20, 3247, 224, 247, 978, 41, 169, 16, 20, 1772, 224, 247, 978, 41, 169, 16, 20, 2940, 41, 1193, 452, 1304, 58, 216, 41, 475, 110, 111, 209, 94, 547, 224, 247, 978, 41, 228, 514, 149, 41, 190, 437, 2047, 4, 264, 41, 1, 18, 25, 5340, 41, 190, 1038, 414, 41, 209, 38, 122, 41, 209, 25, 614, 60, 38, 267, 109, 103, 894, 8, 38, 264, 94, 1, 41, 190, 1038, 414, 41, 109, 110, 111, 547, 238, 224, 41, 978, 147, 41, 228, 65, 544, 41, 974, 122, 9, 6296, 29, 41, 190, 1016, 191, 238, 64, 614, 20, 614, 60, 216, 41, 120, 94, 20, 65, 206, 1478, 1, 452, 184, 341, 9, 74, 203, 47, 3]\n",
            "first line: ['ugh', 'can', 'sleep', 'wish', 'i', 'had', 'a', 'good', 'cuddle', 'to', 'make', 'me', 'as', 'out']\n",
            "second line: ['<sos>', 'ugh', 'can', 'sleep', 'wish', 'i', 'had', 'a', 'good', 'cuddle', 'to', 'make', 'me', 'as', 'out', '<eos>']\n",
            "third line: [2, 1924, 190, 348, 429, 41, 368, 10, 316, 1, 20, 84, 74, 2015, 8, 3]\n",
            "first line: ['sarahsaturday', 'i', 'sorry', 'your', 'gift', 'card', 'ran', 'out', 'that', 'suck']\n",
            "second line: ['<sos>', 'sarahsaturday', 'i', 'sorry', 'your', 'gift', 'card', 'ran', 'out', 'that', 'suck', '<eos>']\n",
            "third line: [2, 1, 41, 344, 865, 1424, 3486, 1625, 8, 25, 26, 3]\n",
            "first line: ['theekween', 'depression', 'and', 'anxiety', 'thelmasherbs']\n",
            "second line: ['<sos>', 'theekween', 'depression', 'and', 'anxiety', 'thelmasherbs', '<eos>']\n",
            "third line: [2, 1, 44, 29, 365, 1, 3]\n",
            "first line: ['i', 'really', 'need', 'to', 'fcking', 'end', 'it', 'i', 'can', 'take', 'it', 'anymore', 'here']\n",
            "second line: ['<sos>', 'i', 'really', 'need', 'to', 'fcking', 'end', 'it', 'i', 'can', 'take', 'it', 'anymore', 'here', '<eos>']\n",
            "third line: [2, 41, 269, 423, 20, 1, 435, 64, 41, 190, 604, 64, 608, 688, 3]\n",
            "first line: ['mizzzidc', 'but', 'move', 'out', 'soon', 'swettie', 'you', 'sound', 'like', 'a', 'breadwinner', 'so', 'have', 'your', 'own', 'place', 'to', 'avoid', 'sinking', 'into', 'depression', 'over', 'sneaker']\n",
            "second line: ['<sos>', 'mizzzidc', 'but', 'move', 'out', 'soon', 'swettie', 'you', 'sound', 'like', 'a', 'breadwinner', 'so', 'have', 'your', 'own', 'place', 'to', 'avoid', 'sinking', 'into', 'depression', 'over', 'sneaker', '<eos>']\n",
            "third line: [2, 1, 14, 691, 8, 1920, 1, 439, 1246, 45, 10, 1, 40, 16, 865, 854, 496, 20, 1373, 3154, 836, 44, 597, 1, 3]\n",
            "first line: ['it', 'still', 'suck', 'that', 'ha', 'a', 'job', 'that', 'a', 'lot', 'of', 'people', 'wish', 'they', 'had', 'hr', 'showed', 'me', 'that', 'they', 'received', 'over', 'application', 'for', 'my', 'position', 'i', 'moved', 'to', 'a', 'new', 'city', 'for', 'this', 'job', 'right', 'before', 'covid', 'took', 'over', 'can', 'seem', 'to', 'make', 'friend', 'or', 'meaningful', 'connection', 'with', 'anyone', 'in', 'just', 'over', 'year', 'i', 'don', 'really', 'have', 'hobby', 'and', 'dread', 'coming', 'home', 'to', 'an', 'empty', 'house', 'every', 'night', 'i', 've', 'always', 'struggled', 'with', 'self', 'esteem', 'and', 'this', 'crushing', 'loneliness', 'ha', 'me', 'struggling', 'yo', 'get', 'out', 'of', 'bed', 'nobody', 'call', 'or', 'even', 'sends', 'me', 'text', 'message', 'i', 'have', 'no', 'one', 'that', 'care', 'about', 'me', 'i', 'already', 'hiding', 'so', 'much', 'including', 'my', 'emotion', 'just', 'desperately', 'hoping', 'someone', 'i', 'know', 'reach', 'out', 'to', 'me', 'life', 'is', 'hard', 'i', 'get', 'that', 'and', 'i', 'know', 'it', 'not', 'easy', 'for', 'anyone', 'but', 'so', 'many', 'people', 'i', 'know', 'have', 'it', 'so', 'much', 'easier', 'their', 'constant', 'smile', 'and', 'laughter', 'hurt', 'but', 'i', 'hurt', 'even', 'more', 'pretending', 'to', 'smile', 'and', 'laugh', 'with', 'them', 'i', 've', 'ended', 'up', 'losing', 'the', 'passion', 'and', 'drive', 'i', 'once', 'had', 'got', 'my', 'career', 'and', 'am', 'truly', 'lost', 'no', 'friend', 'no', 'family', 'no', 'career', 'no', 'future', 'fml']\n",
            "second line: ['<sos>', 'it', 'still', 'suck', 'that', 'ha', 'a', 'job', 'that', 'a', 'lot', 'of', 'people', 'wish', 'they', 'had', 'hr', 'showed', 'me', 'that', 'they', 'received', 'over', 'application', 'for', 'my', 'position', 'i', 'moved', 'to', 'a', 'new', 'city', 'for', 'this', 'job', 'right', 'before', 'covid', 'took', 'over', 'can', 'seem', 'to', 'make', 'friend', 'or', 'meaningful', 'connection', 'with', 'anyone', 'in', 'just', 'over', 'year', 'i', 'don', 'really', 'have', 'hobby', 'and', 'dread', 'coming', 'home', 'to', 'an', 'empty', 'house', 'every', 'night', 'i', 've', 'always', 'struggled', 'with', 'self', 'esteem', 'and', 'this', 'crushing', 'loneliness', 'ha', 'me', 'struggling', 'yo', 'get', 'out', 'of', 'bed', 'nobody', 'call', 'or', 'even', 'sends', 'me', 'text', 'message', 'i', 'have', 'no', 'one', 'that', 'care', 'about', 'me', 'i', 'already', 'hiding', 'so', 'much', 'including', 'my', 'emotion', 'just', 'desperately', 'hoping', 'someone', 'i', 'know', 'reach', 'out', 'to', 'me', 'life', 'is', 'hard', 'i', 'get', 'that', 'and', 'i', 'know', 'it', 'not', 'easy', 'for', 'anyone', 'but', 'so', 'many', 'people', 'i', 'know', 'have', 'it', 'so', 'much', 'easier', 'their', 'constant', 'smile', 'and', 'laughter', 'hurt', 'but', 'i', 'hurt', 'even', 'more', 'pretending', 'to', 'smile', 'and', 'laugh', 'with', 'them', 'i', 've', 'ended', 'up', 'losing', 'the', 'passion', 'and', 'drive', 'i', 'once', 'had', 'got', 'my', 'career', 'and', 'am', 'truly', 'lost', 'no', 'friend', 'no', 'family', 'no', 'career', 'no', 'future', 'fml', '<eos>']\n",
            "third line: [2, 64, 15, 26, 25, 28, 10, 274, 25, 10, 194, 18, 60, 429, 247, 368, 1977, 1978, 74, 25, 247, 1979, 597, 420, 9, 4, 1980, 41, 1244, 20, 10, 480, 685, 9, 67, 274, 116, 372, 1, 1204, 597, 190, 1928, 20, 84, 282, 101, 1981, 1055, 75, 321, 66, 109, 597, 219, 41, 103, 269, 16, 335, 29, 1982, 73, 155, 20, 184, 1363, 710, 126, 524, 41, 171, 261, 1, 75, 292, 313, 29, 67, 1, 1, 28, 74, 1, 1983, 21, 8, 18, 192, 242, 648, 101, 104, 1463, 74, 555, 513, 41, 16, 24, 136, 25, 477, 202, 74, 41, 252, 886, 40, 410, 1984, 4, 357, 109, 1, 1, 100, 41, 105, 1110, 8, 20, 74, 280, 94, 540, 41, 21, 25, 29, 41, 105, 64, 62, 891, 9, 321, 14, 40, 458, 60, 41, 105, 16, 64, 40, 410, 1599, 76, 661, 1985, 29, 1986, 614, 14, 41, 614, 104, 157, 1, 20, 1985, 29, 1987, 75, 72, 41, 171, 699, 204, 1988, 38, 1593, 29, 239, 41, 548, 368, 32, 4, 1552, 29, 182, 811, 443, 24, 282, 24, 130, 24, 1552, 24, 1220, 1, 3]\n",
            "first line: ['a', 'serait', 'cool', 'si', 'notre', 'soci', 's', 'int', 'ressait', 'beaucoup', 'plus', 'sur', 'la', 'psychologie', 'ex', 'le', 'cause', 'de', 'malady', 'mentales', 'pression', 'trouble', 'bipolaires', 'ect', 'anatomie', 'du', 'corp', 'humain', 'ex', 'le', 'diff', 'rences', 'du', 'veloppement', 'sexuelle', 'http', 'co', 'tvixyi', 'd']\n",
            "second line: ['<sos>', 'a', 'serait', 'cool', 'si', 'notre', 'soci', 's', 'int', 'ressait', 'beaucoup', 'plus', 'sur', 'la', 'psychologie', 'ex', 'le', 'cause', 'de', 'malady', 'mentales', 'pression', 'trouble', 'bipolaires', 'ect', 'anatomie', 'du', 'corp', 'humain', 'ex', 'le', 'diff', 'rences', 'du', 'veloppement', 'sexuelle', 'http', 'co', 'tvixyi', 'd', '<eos>']\n",
            "third line: [2, 10, 1, 557, 1171, 1169, 1, 1654, 6237, 1, 6238, 1284, 5804, 1164, 6239, 700, 770, 89, 1168, 1, 1, 1, 1891, 1, 5807, 1, 1160, 6240, 6241, 700, 770, 617, 1, 1160, 1, 6242, 1456, 1457, 1, 3520, 3]\n",
            "first line: ['i', 'know', 'that', 'sound', 'weird', 'but', 'i', 'wa', 'talking', 'to', 'my', 'therapist', 'yesterday', 'about', 'how', 'i', 'usually', 'don', 'realize', 'i', 'am', 'in', 'a', 'bad', 'place', 'until', 'i', 'am', 'out', 'of', 'it', 'and', 'look', 'back', 'at', 'that', 'time', 'long', 'story', 'short', 'we', 'talked', 'about', 'getting', 'better', 'at', 'recognizing', 'it', 'and', 'today', 'i', 'have', 'been', 'feeling', 'really', 'down', 'and', 'sluggish', 'and', 'angry', 'wa', 'i', 'depressed', 'yesterday', 'but', 'just', 'didn', 'realize', 'it', 'not', 'sure', 'if', 'this', 'ramble', 'make', 'sense', 'but', 'yeah', 'i', 'thought', 'i', 'wa', 'fine', 'yesterday', 'now', 'i', 'am', 'not', 'even', 'though', 'nothing', 'in', 'my', 'life', 'changed']\n",
            "second line: ['<sos>', 'i', 'know', 'that', 'sound', 'weird', 'but', 'i', 'wa', 'talking', 'to', 'my', 'therapist', 'yesterday', 'about', 'how', 'i', 'usually', 'don', 'realize', 'i', 'am', 'in', 'a', 'bad', 'place', 'until', 'i', 'am', 'out', 'of', 'it', 'and', 'look', 'back', 'at', 'that', 'time', 'long', 'story', 'short', 'we', 'talked', 'about', 'getting', 'better', 'at', 'recognizing', 'it', 'and', 'today', 'i', 'have', 'been', 'feeling', 'really', 'down', 'and', 'sluggish', 'and', 'angry', 'wa', 'i', 'depressed', 'yesterday', 'but', 'just', 'didn', 'realize', 'it', 'not', 'sure', 'if', 'this', 'ramble', 'make', 'sense', 'but', 'yeah', 'i', 'thought', 'i', 'wa', 'fine', 'yesterday', 'now', 'i', 'am', 'not', 'even', 'though', 'nothing', 'in', 'my', 'life', 'changed', '<eos>']\n",
            "third line: [2, 41, 105, 25, 1246, 389, 14, 41, 48, 493, 20, 4, 543, 1247, 202, 152, 41, 470, 103, 783, 41, 182, 66, 10, 309, 496, 600, 41, 182, 8, 18, 64, 29, 230, 80, 125, 25, 179, 203, 1248, 506, 90, 1249, 202, 118, 222, 125, 1, 64, 29, 57, 41, 16, 172, 264, 269, 724, 29, 1, 29, 530, 48, 41, 328, 1247, 14, 109, 415, 783, 64, 62, 404, 224, 67, 1, 84, 878, 14, 451, 41, 529, 41, 48, 391, 1247, 117, 41, 182, 62, 104, 211, 286, 66, 4, 280, 461, 3]\n",
            "first line: ['got', 'ta', 'calm', 'the', 'weekend', 'down', 'monday', 'blue', 'carrying', 'on', 'into', 'tuesday']\n",
            "second line: ['<sos>', 'got', 'ta', 'calm', 'the', 'weekend', 'down', 'monday', 'blue', 'carrying', 'on', 'into', 'tuesday', '<eos>']\n",
            "third line: [2, 32, 2093, 1347, 38, 635, 724, 30, 2930, 2805, 50, 836, 1, 3]\n",
            "first line: ['in', 'high', 'school', 'i', 'wa', 'quiet', 'mind', 'my', 'business', 'didn', 'talk', 'to', 'many', 'people', 'i', 'noticed', 'that', 'certain', 'people', 'just', 'didn', 'like', 'me', 'one', 'time', 'a', 'teacher', 'moved', 'a', 'girl', 'to', 'sit', 'next', 'to', 'me', 'and', 'she', 'made', 'this', 'weird', 'face', 'like', 'annoyed', 'and', 'when', 'she', 'sat', 'next', 'to', 'me', 'she', 'wa', 'slightly', 'turned', 'ti', 'the', 'direction', 'i', 'wasn', 'in', 'and', 'not', 'facing', 'straight', 'another', 'occasion', 'i', 'wa', 'sitting', 'in', 'a', 'table', 'with', 'other', 'people', 'and', 'none', 'of', 'them', 'would', 'bother', 'to', 'talk', 'to', 'me', 'even', 'when', 'i', 'tried', 'to', 'make', 'a', 'convo', 'or', 'ask', 'a', 'question', 'and', 'one', 'of', 'them', 'actually', 'cut', 'hair', 'now', 'and', 'my', 'brother', 'and', 'dad', 'cut', 'their', 'hair', 'with', 'her', 'and', 'they', 're', 'always', 'saying', 'she', 'talk', 'a', 'lot', 'etc', 'she', 'friendly', 'today', 'i', 'went', 'to', 'that', 'place', 'to', 'cut', 'my', 'hair', 'and', 'she', 'wa', 'completely', 'quiet', 'just', 'asked', 'me', 'what', 'hair', 'type', 'i', 'wanted', 'and', 'the', 'price', 'of', 'the', 'cut', 'i', 'didn', 'want', 'to', 'start', 'a', 'convo', 'cause', 'i', 'knew', 'that', 'back', 'then', 'she', 'wouldn', 'even', 'want', 'to', 'talk', 'i', 'just', 'feel', 'like', 'i', 'have', 'something', 'that', 'just', 'make', 'people', 'dislike', 'me', 'for', 'no', 'reason']\n",
            "second line: ['<sos>', 'in', 'high', 'school', 'i', 'wa', 'quiet', 'mind', 'my', 'business', 'didn', 'talk', 'to', 'many', 'people', 'i', 'noticed', 'that', 'certain', 'people', 'just', 'didn', 'like', 'me', 'one', 'time', 'a', 'teacher', 'moved', 'a', 'girl', 'to', 'sit', 'next', 'to', 'me', 'and', 'she', 'made', 'this', 'weird', 'face', 'like', 'annoyed', 'and', 'when', 'she', 'sat', 'next', 'to', 'me', 'she', 'wa', 'slightly', 'turned', 'ti', 'the', 'direction', 'i', 'wasn', 'in', 'and', 'not', 'facing', 'straight', 'another', 'occasion', 'i', 'wa', 'sitting', 'in', 'a', 'table', 'with', 'other', 'people', 'and', 'none', 'of', 'them', 'would', 'bother', 'to', 'talk', 'to', 'me', 'even', 'when', 'i', 'tried', 'to', 'make', 'a', 'convo', 'or', 'ask', 'a', 'question', 'and', 'one', 'of', 'them', 'actually', 'cut', 'hair', 'now', 'and', 'my', 'brother', 'and', 'dad', 'cut', 'their', 'hair', 'with', 'her', 'and', 'they', 're', 'always', 'saying', 'she', 'talk', 'a', 'lot', 'etc', 'she', 'friendly', 'today', 'i', 'went', 'to', 'that', 'place', 'to', 'cut', 'my', 'hair', 'and', 'she', 'wa', 'completely', 'quiet', 'just', 'asked', 'me', 'what', 'hair', 'type', 'i', 'wanted', 'and', 'the', 'price', 'of', 'the', 'cut', 'i', 'didn', 'want', 'to', 'start', 'a', 'convo', 'cause', 'i', 'knew', 'that', 'back', 'then', 'she', 'wouldn', 'even', 'want', 'to', 'talk', 'i', 'just', 'feel', 'like', 'i', 'have', 'something', 'that', 'just', 'make', 'people', 'dislike', 'me', 'for', 'no', 'reason', '<eos>']\n",
            "third line: [2, 66, 474, 195, 41, 48, 849, 1192, 4, 2898, 415, 437, 20, 458, 60, 41, 746, 25, 1274, 60, 109, 415, 45, 74, 136, 179, 10, 825, 1244, 10, 279, 20, 213, 537, 20, 74, 29, 416, 882, 67, 389, 235, 45, 1, 29, 58, 416, 768, 537, 20, 74, 416, 48, 1918, 215, 4693, 38, 2139, 41, 519, 66, 29, 62, 189, 1817, 407, 1494, 41, 48, 718, 66, 10, 4317, 75, 741, 60, 29, 236, 18, 72, 228, 240, 20, 437, 20, 74, 104, 58, 41, 405, 20, 84, 10, 1, 101, 413, 10, 777, 29, 136, 18, 72, 539, 678, 2573, 117, 29, 4, 323, 29, 642, 678, 76, 2573, 75, 531, 29, 247, 440, 261, 1459, 416, 437, 10, 194, 340, 416, 4483, 57, 41, 131, 20, 25, 496, 20, 678, 4, 2573, 29, 416, 48, 88, 849, 109, 1259, 74, 106, 2573, 1142, 41, 428, 29, 38, 2143, 18, 38, 678, 41, 415, 120, 20, 379, 10, 1, 89, 41, 916, 25, 80, 147, 416, 169, 104, 120, 20, 437, 41, 109, 85, 45, 41, 16, 102, 25, 109, 84, 60, 3548, 74, 9, 24, 481, 3]\n",
            "first line: ['silverlines', 'tadi', 'di', 'pim', 'udah', 'sempet', 'lirik', 'mesra', 'tapi', 'baru', 'abis', 'makan', 'definitely', 'putting', 'it', 'in', 'my', 'agenda', 'next', 'time', 'i', 'go', 'to', 'pim']\n",
            "second line: ['<sos>', 'silverlines', 'tadi', 'di', 'pim', 'udah', 'sempet', 'lirik', 'mesra', 'tapi', 'baru', 'abis', 'makan', 'definitely', 'putting', 'it', 'in', 'my', 'agenda', 'next', 'time', 'i', 'go', 'to', 'pim', '<eos>']\n",
            "third line: [2, 1, 2468, 2702, 5467, 1, 1, 1, 1, 5468, 1, 5469, 1, 1814, 538, 64, 66, 4, 3565, 537, 179, 41, 123, 20, 5467, 3]\n",
            "first line: ['smokey', 'robinson', 'you', 'fell', 'off', 'my', 'list', 'did', 'i', 'offend', 'you']\n",
            "second line: ['<sos>', 'smokey', 'robinson', 'you', 'fell', 'off', 'my', 'list', 'did', 'i', 'offend', 'you', '<eos>']\n",
            "third line: [2, 1, 1, 439, 2761, 37, 4, 1187, 978, 41, 1, 439, 3]\n",
            "first line: ['someone', 'understanding', 'please', 'if', 'you', 're', 'not', 'i', 'sorry', 'it', 'll', 'only', 'make', 'it', 'worse', 'i', 'don', 'want', 'to', 'vent', 'about', 'my', 'problem', 'because', 'it', 'll', 'make', 'me', 'break', 'down', 'i', 'hope', 'you', 'understand']\n",
            "second line: ['<sos>', 'someone', 'understanding', 'please', 'if', 'you', 're', 'not', 'i', 'sorry', 'it', 'll', 'only', 'make', 'it', 'worse', 'i', 'don', 'want', 'to', 'vent', 'about', 'my', 'problem', 'because', 'it', 'll', 'make', 'me', 'break', 'down', 'i', 'hope', 'you', 'understand', '<eos>']\n",
            "third line: [2, 100, 1343, 1245, 224, 439, 440, 62, 41, 344, 64, 212, 175, 84, 64, 1288, 41, 103, 120, 20, 1179, 202, 4, 359, 238, 64, 212, 84, 74, 134, 724, 41, 472, 439, 570, 3]\n",
            "first line: ['i', 've', 'had', 'anxiety', 'since', 'i', 'wa', 'that', 'wa', 'year', 'after', 'my', 'brother', 'death', 'amp', 'my', 'dad', 'assent', 'into', 'abusive', 'alcoholism', 'year', 'after', 'my', 'discovery', 'of', 'oxycontin', 'the', 'year', 'of', 'my', 'mom', 'diagnosis', 'of', 'breast', 'cancer', 'they', 'were', 'all', 'dead', 'by', 'the', 'time', 'i', 'wa', 'i', 've', 'been', 'addicted', 'to', 'damn', 'near', 'everything', 'in', 'my', 'lifetime', 'iv', 'user', 'of', 'heroin', 'amp', 'amphetamine', 'but', 'nothing', 'wa', 'ever', 'a', 'bad', 'a', 'the', 'xanax', 'era', 'my', 'mom', 'wa', 'dying', 'in', 'front', 'of', 'my', 'eye', 'just', 'wasting', 'away', 'we', 'were', 'homeless', 'for', 'a', 'while', 'we', 'slept', 'in', 'the', 'same', 'bed', 'smoking', 'meth', 'and', 'taking', 'any', 'rx', 'med', 'that', 'took', 'out', 'of', 'the', 'moment', 'i', 'now', 'i', 'married', 'living', 'in', 'a', 'shitty', 'basement', 'apartment', 'i', 'developed', 'epilepsy', 'last', 'year', 'amp', 'have', 'been', 'out', 'of', 'work', 'since', 'my', 'husband', 'work', 'a', 'lot', 'so', 'i', 'just', 'alone', 'a', 'lot', 'of', 'the', 'time', 'been', 'on', 'so', 'many', 'psych', 'med', 'spent', 'month', 'in', 'a', 'top', 'ranked', 'trauma', 'center', 'in', 'baltimore', 'got', 'round', 'of', 'electro', 'convulsive', 'therapy', 'ketamine', 'treatment', 'just', 'completed', 'my', 'rd', 'inpatient', 'drug', 'rehab', 'on', 'friday', 'back', 'to', 'drinking', 'by', 'sunday', 'i', 'can', 'not', 'take', 'this', 'anymore', 'what', 'do', 'i', 'fucking', 'do', 'like', 'can', 'anybody', 'help', 'i', 've', 'done', 'recovery', 'program', 'worked', 'the', 'step', 'been', 'in', 'therapy', 'once', 'a', 'week', 'for', 'the', 'last', 'year', 'nothing', 'is', 'working', 'and', 'i', 'just', 'don', 'want', 'to', 'be', 'here', 'anymore', 'somebody', 'please', 'help', 'please']\n",
            "second line: ['<sos>', 'i', 've', 'had', 'anxiety', 'since', 'i', 'wa', 'that', 'wa', 'year', 'after', 'my', 'brother', 'death', 'amp', 'my', 'dad', 'assent', 'into', 'abusive', 'alcoholism', 'year', 'after', 'my', 'discovery', 'of', 'oxycontin', 'the', 'year', 'of', 'my', 'mom', 'diagnosis', 'of', 'breast', 'cancer', 'they', 'were', 'all', 'dead', 'by', 'the', 'time', 'i', 'wa', 'i', 've', 'been', 'addicted', 'to', 'damn', 'near', 'everything', 'in', 'my', 'lifetime', 'iv', 'user', 'of', 'heroin', 'amp', 'amphetamine', 'but', 'nothing', 'wa', 'ever', 'a', 'bad', 'a', 'the', 'xanax', 'era', 'my', 'mom', 'wa', 'dying', 'in', 'front', 'of', 'my', 'eye', 'just', 'wasting', 'away', 'we', 'were', 'homeless', 'for', 'a', 'while', 'we', 'slept', 'in', 'the', 'same', 'bed', 'smoking', 'meth', 'and', 'taking', 'any', 'rx', 'med', 'that', 'took', 'out', 'of', 'the', 'moment', 'i', 'now', 'i', 'married', 'living', 'in', 'a', 'shitty', 'basement', 'apartment', 'i', 'developed', 'epilepsy', 'last', 'year', 'amp', 'have', 'been', 'out', 'of', 'work', 'since', 'my', 'husband', 'work', 'a', 'lot', 'so', 'i', 'just', 'alone', 'a', 'lot', 'of', 'the', 'time', 'been', 'on', 'so', 'many', 'psych', 'med', 'spent', 'month', 'in', 'a', 'top', 'ranked', 'trauma', 'center', 'in', 'baltimore', 'got', 'round', 'of', 'electro', 'convulsive', 'therapy', 'ketamine', 'treatment', 'just', 'completed', 'my', 'rd', 'inpatient', 'drug', 'rehab', 'on', 'friday', 'back', 'to', 'drinking', 'by', 'sunday', 'i', 'can', 'not', 'take', 'this', 'anymore', 'what', 'do', 'i', 'fucking', 'do', 'like', 'can', 'anybody', 'help', 'i', 've', 'done', 'recovery', 'program', 'worked', 'the', 'step', 'been', 'in', 'therapy', 'once', 'a', 'week', 'for', 'the', 'last', 'year', 'nothing', 'is', 'working', 'and', 'i', 'just', 'don', 'want', 'to', 'be', 'here', 'anymore', 'somebody', 'please', 'help', 'please', '<eos>']\n",
            "third line: [2, 41, 171, 368, 365, 771, 41, 48, 25, 48, 219, 373, 4, 323, 637, 285, 4, 642, 1, 836, 1, 1, 219, 373, 4, 2753, 18, 1, 38, 219, 18, 4, 322, 374, 18, 3955, 2508, 247, 457, 216, 206, 218, 38, 179, 41, 48, 41, 171, 172, 2444, 20, 449, 1712, 114, 66, 4, 2082, 5006, 3372, 18, 5007, 285, 5008, 14, 286, 48, 475, 10, 309, 10, 38, 4742, 1855, 4, 322, 48, 1383, 66, 70, 18, 4, 2008, 109, 1782, 658, 90, 457, 914, 9, 10, 327, 90, 2741, 66, 38, 483, 192, 1222, 5009, 29, 974, 241, 5010, 51, 25, 1204, 8, 18, 38, 497, 41, 117, 41, 748, 329, 66, 10, 1, 2175, 800, 41, 1728, 5011, 465, 219, 285, 16, 172, 8, 18, 19, 771, 4, 701, 19, 10, 194, 40, 41, 109, 464, 10, 194, 18, 38, 179, 172, 50, 40, 458, 1, 51, 433, 46, 66, 10, 141, 5012, 98, 4160, 66, 1, 32, 3549, 18, 5013, 5014, 342, 1, 788, 109, 2005, 4, 1730, 2007, 2161, 1, 50, 34, 80, 20, 1725, 218, 809, 41, 190, 62, 604, 67, 608, 106, 209, 41, 153, 209, 45, 190, 245, 430, 41, 171, 534, 4279, 3628, 1271, 38, 655, 172, 66, 342, 548, 10, 137, 9, 38, 465, 219, 286, 94, 730, 29, 41, 109, 103, 120, 20, 65, 688, 608, 2209, 1245, 430, 1245, 3]\n",
            "first line: ['life', 'seems', 'to', 'be', 'so', 'unfair', 'how', 'come', 'i', 'am', 'mentally', 'struggling', 'and', 'unwell', 'more', 'compared', 'to', 'people', 'who', 'abuse', 'substance', 'or', 'i', 'guess', 'sometimes', 'to', 'people', 'who', 'just', 'drink', 'a', 'lot', 'smoke', 'a', 'lot', 'of', 'weed', 'etc', 'it', 'doesn', 'seem', 'to', 'affevt', 'them', 'negatively', 'meanwhile', 'i', 'am', 'completely', 'sober', 'but', 'seems', 'to', 'be', 'going', 'through', 'so', 'much', 'shit', 'sleep', 'issue', 'regardless', 'of', 'no', 'substance', 'abuse', 'i', 'jusy', 'don', 'understand']\n",
            "second line: ['<sos>', 'life', 'seems', 'to', 'be', 'so', 'unfair', 'how', 'come', 'i', 'am', 'mentally', 'struggling', 'and', 'unwell', 'more', 'compared', 'to', 'people', 'who', 'abuse', 'substance', 'or', 'i', 'guess', 'sometimes', 'to', 'people', 'who', 'just', 'drink', 'a', 'lot', 'smoke', 'a', 'lot', 'of', 'weed', 'etc', 'it', 'doesn', 'seem', 'to', 'affevt', 'them', 'negatively', 'meanwhile', 'i', 'am', 'completely', 'sober', 'but', 'seems', 'to', 'be', 'going', 'through', 'so', 'much', 'shit', 'sleep', 'issue', 'regardless', 'of', 'no', 'substance', 'abuse', 'i', 'jusy', 'don', 'understand', '<eos>']\n",
            "third line: [2, 280, 121, 20, 65, 40, 1, 152, 894, 41, 182, 1, 1, 29, 1, 157, 3282, 20, 60, 96, 920, 919, 101, 41, 144, 468, 20, 60, 96, 109, 934, 10, 194, 2160, 10, 194, 18, 715, 340, 64, 801, 1928, 20, 1, 72, 3306, 1, 41, 182, 88, 1731, 14, 121, 20, 65, 7, 22, 40, 410, 486, 348, 77, 1822, 18, 24, 919, 920, 41, 1, 103, 570, 3]\n",
            "first line: ['just', 'a', 'head', 'up', 'site', 'being', 'wonky', 'so', 'will', 'like', 'probably', 'post', 'late', 'today', 'flippin', 'technical', 'issue']\n",
            "second line: ['<sos>', 'just', 'a', 'head', 'up', 'site', 'being', 'wonky', 'so', 'will', 'like', 'probably', 'post', 'late', 'today', 'flippin', 'technical', 'issue', '<eos>']\n",
            "third line: [2, 109, 10, 1041, 204, 999, 452, 1, 40, 226, 45, 251, 11, 911, 57, 1, 4232, 77, 3]\n",
            "first line: ['i', 'miserable', 'most', 'of', 'the', 'time', 'but', 'life', 'is', 'only', 'bearable', 'when', 'i', 'with', 'my', 'cat', 'but', 'i', 'don', 'think', 'i', 'her', 'favourite', 'person', 'anymore', 'she', 'stopped', 'cuddling', 'with', 'me', 'and', 'never', 'sleep', 'with', 'me', 'now', 'instead', 'she', 'spends', 'most', 'of', 'her', 'time', 'with', 'my', 'brother', 'and', 'only', 'come', 'to', 'me', 'when', 'she', 'need', 'food', 'it', 'been', 'like', 'this', 'for', 'a', 'few', 'month', 'and', 'it', 'really', 'hurt', 'i', 'don', 'know', 'what', 'to', 'do', 'i', 'thinking', 'of', 'getting', 'a', 'dog', 'when', 'i', 'eventually', 'move', 'out', 'but', 'that', 'so', 'far', 'from', 'now']\n",
            "second line: ['<sos>', 'i', 'miserable', 'most', 'of', 'the', 'time', 'but', 'life', 'is', 'only', 'bearable', 'when', 'i', 'with', 'my', 'cat', 'but', 'i', 'don', 'think', 'i', 'her', 'favourite', 'person', 'anymore', 'she', 'stopped', 'cuddling', 'with', 'me', 'and', 'never', 'sleep', 'with', 'me', 'now', 'instead', 'she', 'spends', 'most', 'of', 'her', 'time', 'with', 'my', 'brother', 'and', 'only', 'come', 'to', 'me', 'when', 'she', 'need', 'food', 'it', 'been', 'like', 'this', 'for', 'a', 'few', 'month', 'and', 'it', 'really', 'hurt', 'i', 'don', 'know', 'what', 'to', 'do', 'i', 'thinking', 'of', 'getting', 'a', 'dog', 'when', 'i', 'eventually', 'move', 'out', 'but', 'that', 'so', 'far', 'from', 'now', '<eos>']\n",
            "third line: [2, 41, 1, 283, 18, 38, 179, 14, 280, 94, 175, 1, 58, 41, 75, 4, 1413, 14, 41, 103, 244, 41, 531, 2686, 93, 608, 416, 471, 2176, 75, 74, 29, 49, 348, 75, 74, 117, 711, 416, 5978, 283, 18, 531, 179, 75, 4, 323, 29, 175, 894, 20, 74, 58, 416, 423, 1519, 64, 172, 45, 67, 9, 10, 375, 46, 29, 64, 269, 614, 41, 103, 105, 106, 20, 209, 41, 1520, 18, 118, 10, 961, 58, 41, 867, 691, 8, 14, 25, 40, 366, 33, 117, 3]\n",
            "first line: ['i', 've', 'been', 'feeling', 'pretty', 'even', 'consistently', 'which', 'is', 'good', 'i', 'missed', 'a', 'dose', 'the', 'other', 'night', 'i', 'usually', 'take', 'them', 'before', 'bed', 'i', 'fell', 'asleep', 'on', 'the', 'couch', 'by', 'the', 'time', 'i', 'woke', 'up', 'at', 'am', 'i', 'felt', 'it', 'wa', 'too', 'late', 'before', 'the', 'next', 'dose', 'so', 'just', 'halved', 'the', 'dose', 'today', 'i', 'truly', 'felt', 'the', 'difference', 'and', 'realized', 'the', 'importance', 'of', 'this', 'medication', 'i', 'do', 'find', 'that', 'now', 'that', 'i', 'know', 'what', 'it', 'like', 'to', 'live', 'like', 'someone', 'with', 'a', 'more', 'normal', 'brain', 'wave', 'thanks', 'to', 'the', 'med', 'when', 'anxious', 'start', 'do', 'enter', 'my', 'mind', 'now', 'it', 'much', 'more', 'frightening', 'than', 'it', 'wa', 'before', 'even', 'though', 'i', 've', 'lived', 'with', 'gad', 'for', 'a', 'long', 'time', 'i', 'wa', 'diagnosed', 'with', 'it', 'a', 'couple', 'of', 'month', 'ago', 'and', 'still', 'i', 'having', 'difficulty', 'accepting', 'it', 'doe', 'anyone', 'else', 'have', 'the', 'experience', 'of', 'anxious', 'thought', 'now', 'more', 'pronounced', 'and', 'frightening', 'when', 'they', 'are', 'experienced', 'upon', 'missing', 'a', 'dose']\n",
            "second line: ['<sos>', 'i', 've', 'been', 'feeling', 'pretty', 'even', 'consistently', 'which', 'is', 'good', 'i', 'missed', 'a', 'dose', 'the', 'other', 'night', 'i', 'usually', 'take', 'them', 'before', 'bed', 'i', 'fell', 'asleep', 'on', 'the', 'couch', 'by', 'the', 'time', 'i', 'woke', 'up', 'at', 'am', 'i', 'felt', 'it', 'wa', 'too', 'late', 'before', 'the', 'next', 'dose', 'so', 'just', 'halved', 'the', 'dose', 'today', 'i', 'truly', 'felt', 'the', 'difference', 'and', 'realized', 'the', 'importance', 'of', 'this', 'medication', 'i', 'do', 'find', 'that', 'now', 'that', 'i', 'know', 'what', 'it', 'like', 'to', 'live', 'like', 'someone', 'with', 'a', 'more', 'normal', 'brain', 'wave', 'thanks', 'to', 'the', 'med', 'when', 'anxious', 'start', 'do', 'enter', 'my', 'mind', 'now', 'it', 'much', 'more', 'frightening', 'than', 'it', 'wa', 'before', 'even', 'though', 'i', 've', 'lived', 'with', 'gad', 'for', 'a', 'long', 'time', 'i', 'wa', 'diagnosed', 'with', 'it', 'a', 'couple', 'of', 'month', 'ago', 'and', 'still', 'i', 'having', 'difficulty', 'accepting', 'it', 'doe', 'anyone', 'else', 'have', 'the', 'experience', 'of', 'anxious', 'thought', 'now', 'more', 'pronounced', 'and', 'frightening', 'when', 'they', 'are', 'experienced', 'upon', 'missing', 'a', 'dose', '<eos>']\n",
            "third line: [2, 41, 171, 172, 264, 288, 104, 2506, 78, 94, 316, 41, 150, 10, 991, 38, 741, 524, 41, 470, 604, 72, 372, 192, 41, 2761, 1, 50, 38, 3211, 218, 38, 179, 41, 1231, 204, 125, 182, 41, 1258, 64, 48, 301, 911, 372, 38, 537, 991, 40, 109, 1, 38, 991, 57, 41, 811, 1258, 38, 1306, 29, 2017, 38, 4383, 18, 67, 1, 41, 209, 82, 25, 117, 25, 41, 105, 106, 64, 45, 20, 91, 45, 100, 75, 10, 157, 606, 307, 1556, 901, 20, 38, 51, 58, 305, 379, 209, 3859, 4, 1192, 117, 64, 410, 157, 4065, 159, 64, 48, 372, 104, 211, 41, 171, 2528, 75, 2410, 9, 10, 203, 179, 41, 48, 364, 75, 64, 10, 512, 18, 46, 47, 29, 15, 41, 376, 1, 4384, 64, 793, 321, 500, 16, 38, 670, 18, 305, 529, 117, 157, 4385, 29, 4065, 58, 247, 156, 839, 1887, 200, 10, 991, 3]\n",
            "first line: ['i', 'always', 'scared', 'of', 'getting', 'dvt', 'but', 'usually', 'tell', 'myself', 'it', 'not', 'it', 'and', 'move', 'on', 'i', 'do', 'get', 'leg', 'pain', 'from', 'working', 'a', 'desk', 'job', 'and', 'have', 'had', 'leg', 'ultrasound', 'in', 'the', 'last', 'year', 'that', 'were', 'clear', 'i', 'usually', 'tell', 'myself', 'if', 'it', 'a', 'symptom', 'i', 've', 'felt', 'before', 'i', 'fine', 'just', 'started', 'a', 'work', 'from', 'home', 'job', 'where', 'walk', 'le', 'i', 'get', 'up', 'every', 'hour', 'but', 'walking', 'around', 'the', 'house', 'is', 'very', 'different', 'than', 'a', 'large', 'office', 'building', 'and', 'my', 'leg', 'ha', 'been', 'hurting', 'which', 'isn', 'new', 'but', 'i', 'happened', 'to', 'look', 'at', 'where', 'it', 'hurt', 'and', 'it', 'the', 'area', 'right', 'below', 'my', 'knee', 'cap', 'on', 'the', 'inner', 'part', 'of', 'my', 'leg', 'aka', 'the', 'part', 'that', 'could', 'touch', 'the', 'other', 'leg', 'when', 'i', 'standing', 'i', 'noticed', 'there', 'is', 'slight', 'swelling', 'there', 'idk', 'if', 'swelling', 'is', 'even', 'the', 'right', 'term', 'since', 'it', 'not', 'hot', 'or', 'red', 'but', 'def', 'stick', 'out', 'more', 'than', 'the', 'other', 'side', 'maybe', 'about', 'half', 'an', 'inch', 'more', 'which', 'is', 'new', 'considering', 'i', 've', 'in', 'the', 'past', 'looked', 'for', 'swelling', 'a', 'i', 'mentioned', 'before', 'it', 'not', 'hot', 'or', 'red', 'but', 'i', 'am', 'worried', 'yet', 'don', 'want', 'to', 'cry', 'wolf', 'and', 'get', 'a', 'rd', 'ultrasound', 'in', 'the', 'last', 'year', 'i', 'should', 'mention', 'i', 'have', 'an', 'autoimmune', 'disease', 'that', 'can', 'put', 'me', 'at', 'risk', 'for', 'blood', 'clot', 'but', 'thankfully', 'have', 'had', 'no', 'issue', 'prior', 'i', 'don', 'want', 'to', 'bother', 'my', 'dr', 'again', 'but', 'also', 'don', 'want', 'this', 'to', 'be', 'the', 'time', 'i', 'actually', 'have', 'it', 'since', 'i', 've', 'never', 'seen', 'swelling', 'on', 'my', 'leg', 'before']\n",
            "second line: ['<sos>', 'i', 'always', 'scared', 'of', 'getting', 'dvt', 'but', 'usually', 'tell', 'myself', 'it', 'not', 'it', 'and', 'move', 'on', 'i', 'do', 'get', 'leg', 'pain', 'from', 'working', 'a', 'desk', 'job', 'and', 'have', 'had', 'leg', 'ultrasound', 'in', 'the', 'last', 'year', 'that', 'were', 'clear', 'i', 'usually', 'tell', 'myself', 'if', 'it', 'a', 'symptom', 'i', 've', 'felt', 'before', 'i', 'fine', 'just', 'started', 'a', 'work', 'from', 'home', 'job', 'where', 'walk', 'le', 'i', 'get', 'up', 'every', 'hour', 'but', 'walking', 'around', 'the', 'house', 'is', 'very', 'different', 'than', 'a', 'large', 'office', 'building', 'and', 'my', 'leg', 'ha', 'been', 'hurting', 'which', 'isn', 'new', 'but', 'i', 'happened', 'to', 'look', 'at', 'where', 'it', 'hurt', 'and', 'it', 'the', 'area', 'right', 'below', 'my', 'knee', 'cap', 'on', 'the', 'inner', 'part', 'of', 'my', 'leg', 'aka', 'the', 'part', 'that', 'could', 'touch', 'the', 'other', 'leg', 'when', 'i', 'standing', 'i', 'noticed', 'there', 'is', 'slight', 'swelling', 'there', 'idk', 'if', 'swelling', 'is', 'even', 'the', 'right', 'term', 'since', 'it', 'not', 'hot', 'or', 'red', 'but', 'def', 'stick', 'out', 'more', 'than', 'the', 'other', 'side', 'maybe', 'about', 'half', 'an', 'inch', 'more', 'which', 'is', 'new', 'considering', 'i', 've', 'in', 'the', 'past', 'looked', 'for', 'swelling', 'a', 'i', 'mentioned', 'before', 'it', 'not', 'hot', 'or', 'red', 'but', 'i', 'am', 'worried', 'yet', 'don', 'want', 'to', 'cry', 'wolf', 'and', 'get', 'a', 'rd', 'ultrasound', 'in', 'the', 'last', 'year', 'i', 'should', 'mention', 'i', 'have', 'an', 'autoimmune', 'disease', 'that', 'can', 'put', 'me', 'at', 'risk', 'for', 'blood', 'clot', 'but', 'thankfully', 'have', 'had', 'no', 'issue', 'prior', 'i', 'don', 'want', 'to', 'bother', 'my', 'dr', 'again', 'but', 'also', 'don', 'want', 'this', 'to', 'be', 'the', 'time', 'i', 'actually', 'have', 'it', 'since', 'i', 've', 'never', 'seen', 'swelling', 'on', 'my', 'leg', 'before', '<eos>']\n",
            "third line: [2, 41, 261, 624, 18, 118, 1, 14, 470, 250, 191, 64, 62, 64, 29, 691, 50, 41, 209, 21, 2503, 627, 33, 730, 10, 2230, 274, 29, 16, 368, 2503, 4262, 66, 38, 465, 219, 25, 457, 2478, 41, 470, 250, 191, 224, 64, 10, 1106, 41, 171, 1258, 372, 41, 391, 109, 488, 10, 19, 33, 155, 274, 459, 13, 770, 41, 21, 204, 126, 912, 14, 2445, 217, 38, 710, 94, 355, 409, 159, 10, 2531, 2228, 1906, 29, 4, 2503, 28, 172, 1, 78, 1046, 480, 14, 41, 753, 20, 230, 125, 459, 64, 614, 29, 64, 38, 2911, 116, 2442, 4, 1650, 1472, 50, 38, 2494, 1253, 18, 4, 2503, 4263, 38, 1253, 25, 221, 2854, 38, 741, 2503, 58, 41, 755, 41, 746, 112, 94, 1, 4264, 112, 1, 224, 4264, 94, 104, 38, 116, 2462, 771, 64, 62, 589, 101, 1798, 14, 1651, 3965, 8, 157, 159, 38, 741, 880, 478, 202, 151, 184, 4123, 157, 78, 94, 480, 181, 41, 171, 66, 38, 819, 1534, 9, 4264, 10, 41, 778, 372, 64, 62, 589, 101, 1798, 14, 41, 182, 640, 721, 103, 120, 20, 759, 4265, 29, 21, 10, 1730, 4262, 66, 38, 465, 219, 41, 595, 773, 41, 16, 184, 1579, 1580, 25, 190, 633, 74, 125, 2848, 9, 1637, 4266, 14, 1, 16, 368, 24, 77, 1548, 41, 103, 120, 20, 240, 4, 562, 499, 14, 384, 103, 120, 67, 20, 65, 38, 179, 41, 539, 16, 64, 771, 41, 171, 49, 786, 4264, 50, 4, 2503, 372, 3]\n",
            "first line: ['i', 'at', 'a', 'very', 'weird', 'place', 'in', 'my', 'life', 'right', 'now', 'i', 'a', 'year', 'old', 'male', 'in', 'college', 'i', 'failing', 'my', 'college', 'class', 'a', 'i', 'have', 'no', 'motivation', 'to', 'do', 'well', 'in', 'them', 'i', 'have', 'a', 'very', 'poor', 'relationship', 'with', 'my', 'parent', 'and', 'family', 'the', 'one', 'organization', 'in', 'my', 'college', 'that', 'i', 'extremely', 'involved', 'with', 'ha', 'cut', 'tie', 'with', 'me', 'over', 'accusation', 'that', 'are', 'not', 'true', 'i', 'have', 'a', 'leadership', 'role', 'in', 'this', 'organization', 'and', 'being', 'a', 'leader', 'in', 'the', 'organization', 'with', 'no', 'prior', 'experience', 'ha', 'brought', 'me', 'a', 'ton', 'of', 'hater', 'and', 'people', 'that', 'just', 'want', 'to', 'see', 'my', 'downfall', 'i', 'literally', 'have', 'no', 'future', 'a', 'i', 'supposed', 'to', 'graduate', 'this', 'semester', 'and', 'get', 'a', 'job', 'but', 'i', 'am', 'nowhere', 'near', 'both', 'i', 'can', 'pursue', 'my', 'real', 'passion', 'and', 'to', 'top', 'it', 'all', 'of', 'and', 'what', 'really', 'might', 'put', 'me', 'over', 'the', 'edge', 'is', 'problem', 'with', 'this', 'woman', 'in', 'my', 'life', 'we', 'met', 'through', 'this', 'organization', 'that', 'i', 'wa', 'talking', 'about', 'earlier', 'in', 'this', 'text', 'a', 'a', 'captain', 'i', 'have', 'my', 'own', 'committee', 'of', 'people', 'that', 'i', 'oversee', 'and', 'she', 'wa', 'one', 'of', 'my', 'committee', 'member', 'the', 'first', 'time', 'we', 'hung', 'out', 'in', 'october', 'she', 'took', 'me', 'out', 'to', 'a', 'bar', 'after', 'i', 'turned', 'it', 'wa', 'just', 'me', 'and', 'her', 'we', 'quickly', 'started', 'to', 'develop', 'this', 'really', 'cool', 'friendship', 'where', 'we', 'hangout', 'and', 'talk', 'almost', 'daily', 'a', 'a', 'young', 'man', 'hopeless', 'in', 'love', 'i', 'started', 'to', 'develop', 'feeling', 'but', 'nothing', 'crazy', 'because', 'i', 'almost', 'always', 'saw', 'her', 'a', 'a', 'best', 'friend', 'first', 'and', 'i', 'sure', 'she', 'felt', 'the', 'same', 'way', 'then', 'we', 'were', 'at', 'a', 'bar', 'about', 'a', 'month', 'ago', 'she', 'wa', 'talking', 'to', 'some', 'guy', 'at', 'the', 'bar', 'and', 'i', 'wa', 'having', 'a', 'funny', 'conversation', 'with', 'my', 'friend', 'but', 'i', 'could', 'see', 'from', 'the', 'corner', 'of', 'my', 'eye', 'that', 'she', 'wa', 'talking', 'to', 'this', 'man', 'and', 'that', 'when', 'i', 'first', 'started', 'feeling', 'these', 'feeling', 'of', 'jealousy', 'but', 'i', 'could', 'tell', 'she', 'wa', 'looking', 'at', 'me', 'too', 'talking', 'to', 'my', 'friend', 'and', 'she', 'came', 'to', 'me', 'and', 'we', 'embraced', 'and', 'i', 'hugged', 'her', 'almost', 'all', 'night', 'had', 'my', 'arm', 'around', 'her', 'and', 'everything', 'and', 'she', 'had', 'her', 'hand', 'over', 'mine', 'too', 'and', 'we', 'just', 'kept', 'feeling', 'each', 'other', 'this', 'wa', 'the', 'first', 'time', 'we', 'ever', 'moved', 'into', 'this', 'phase', 'of', 'our', 'friendship', 'and', 'i', 'think', 'we', 'both', 'felt', 'something', 'brewing', 'in', 'our', 'heart', 'for', 'one', 'another', 'a', 'few', 'day', 'went', 'by', 'and', 'i', 'wa', 'out', 'yet', 'again', 'talking', 'to', 'this', 'other', 'chick', 'i', 'met', 'at', 'the', 'bar', 'and', 'we', 'ended', 'up', 'almost', 'hooking', 'up', 'back', 'at', 'my', 'place', 'but', 'i', 'couldn', 'go', 'through', 'with', 'it', 'because', 'all', 'i', 'could', 'think', 'about', 'wa', 'my', 'best', 'friend', 'who', 'i', 'really', 'liked', 'i', 'an', 'introvert', 'at', 'heart', 'and', 'will', 'always', 'keep', 'my', 'feeling', 'inside', 'because', 'i', 'scared', 'to', 'tell', 'people', 'how', 'i', 'feel', 'and', 'i', 'suppress', 'those', 'feeling', 'but', 'literally', 'the', 'next', 'day', 'after', 'this', 'hookup', 'that', 'didn', 'happen', 'i', 'wa', 'at', 'a', 'friend', 'st', 'birthday', 'party', 'and', 'got', 'hammered', 'myself', 'and', 'i', 'had', 'this', 'urge', 'of', 'wanting', 'to', 'tell', 'my', 'best', 'friend', 'how', 'i', 'truly', 'felt', 'about', 'her', 'and', 'that', 'exactly', 'what', 'i', 'did', 'it', 'wa', 'a', 'thursday', 'night', 'she', 'always', 'go', 'to', 'this', 'one', 'specific', 'club', 'on', 'thursday', 'night', 'so', 'i', 'ditched', 'my', 'friend', 'and', 'went', 'to', 'that', 'club', 'to', 'see', 'her', 'and', 'it', 'literally', 'played', 'out', 'like', 'a', 'romantic', 'film', 'she', 'wa', 'the', 'first', 'person', 'i', 'saw', 'when', 'i', 'walked', 'in', 'and', 'went', 'up', 'to', 'her', 'and', 'for', 'the', 'first', 'time', 'in', 'my', 'life', 'i', 'poured', 'my', 'heart', 'out', 'to', 'her', 'and', 'told', 'her', 'how', 'i', 'felt', 'about', 'her', 'and', 'how', 'she', 'make', 'me', 'feel', 'and', 'at', 'first', 'she', 'wa', 'shocked', 'and', 'then', 'she', 'said', 'she', 'felt', 'the', 'same', 'way', 'and', 'we', 'kissed', 'for', 'a', 'long', 'time', 'at', 'this', 'moment', 'i', 'wa', 'on', 'cloud', 'i', 'had', 'never', 'had', 'a', 'girlfriend', 'before', 'had', 'never', 'been', 'in', 'a', 'relationship', 'before', 'but', 'in', 'this', 'moment', 'it', 'wa', 'just', 'me', 'and', 'her', 'against', 'the', 'world', 'and', 'i', 'loved', 'it', 'we', 'started', 'to', 'head', 'back', 'to', 'my', 'apartment', 'but', 'the', 'alcohol', 'wa', 'kicking', 'in', 'for', 'me', 'and', 'i', 'passed', 'out', 'once', 'i', 'got', 'back', 'to', 'my', 'apartment', 'i', 'woke', 'up', 'the', 'next', 'day', 'and', 'saw', 'her', 'heel', 'on', 'the', 'floor', 'but', 'she', 'wa', 'nowhere', 'to', 'be', 'found', 'so', 'i', 'texted', 'her', 'and', 'told', 'her', 'that', 'i', 'wa', 'sorry', 'for', 'passing', 'out', 'from', 'the', 'alcohol', 'but', 'i', 'meant', 'every', 'word', 'i', 'told', 'her', 'last', 'night', 'she', 'didn', 'text', 'me', 'back', 'till', 'later', 'that', 'day', 'and', 'she', 'said', 'that', 'she', 'wa', 'thinking', 'about', 'it', 'all', 'day', 'and', 'night', 'and', 'she', 'didn', 'want', 'to', 'fuck', 'up', 'our', 'friendship', 'a', 'it', 'one', 'of', 'the', 'few', 'good', 'thing', 'in', 'her', 'life', 'right', 'now', 'and', 'i', 'totally', 'get', 'that', 'wa', 'i', 'disappointed', 'hearing', 'this', 'yeah', 'of', 'course', 'i', 'wa', 'but', 'i', 'texted', 'her', 'back', 'saying', 'that', 'we', 'can', 'talk', 'about', 'this', 'in', 'person', 'another', 'time', 'but', 'for', 'right', 'now', 'enjoy', 'your', 'weekend', 'the', 'next', 'day', 'we', 'saw', 'each', 'other', 'at', 'a', 'party', 'and', 'i', 'talked', 'to', 'her', 'outside', 'and', 'told', 'her', 'that', 'i', 'rather', 'say', 'we', 'tried', 'to', 'make', 'it', 'work', 'and', 'it', 'didn', 'rather', 'than', 'not', 'giving', 'a', 'chance', 'at', 'all', 'and', 'she', 'never', 'gave', 'me', 'a', 'clear', 'answer', 'she', 'texted', 'me', 'later', 'that', 'night', 'saying', 'that', 'she', 'needed', 'a', 'break', 'and', 'some', 'time', 'to', 'think', 'so', 'i', 'said', 'okay', 'a', 'few', 'day', 'later', 'we', 'had', 'our', 'last', 'committee', 'meeting', 'and', 'it', 'wa', 'so', 'awkward', 'cause', 'we', 'hadn', 'talked', 'before', 'and', 'we', 'were', 'on', 'this', 'so', 'called', 'break', 'and', 'after', 'the', 'meeting', 'ended', 'she', 'immediately', 'left', 'even', 'though', 'she', 'usually', 'wait', 'for', 'me', 'i', 'got', 'a', 'text', 'from', 'her', 'later', 'that', 'night', 'around', 'am', 'saying', 'that', 'this', 'letter', 'i', 'wrote', 'for', 'everyone', 'on', 'my', 'committee', 'wa', 'very', 'sweet', 'and', 'cute', 'and', 'i', 'asked', 'her', 'how', 'long', 'this', 'break', 'should', 'last', 'and', 'she', 'said', 'she', 'wasn', 'sure', 'a', 'she', 'didn', 'want', 'me', 'to', 'think', 'that', 'she', 'wa', 'leading', 'me', 'on', 'which', 'i', 'thought', 'she', 'wa', 'doing', 'so', 'we', 'hopped', 'on', 'this', 'facetime', 'call', 'and', 'had', 'a', 'really', 'nice', 'long', 'conversation', 'about', 'all', 'the', 'stuff', 'we', 'had', 'to', 'catch', 'up', 'on', 'and', 'then', 'after', 'an', 'hour', 'i', 'switched', 'the', 'topic', 'back', 'to', 'our', 'relationship', 'and', 'she', 'basically', 'said', 'that', 'she', 'didn', 'feel', 'the', 'same', 'way', 'i', 'wa', 'so', 'hurt', 'when', 'she', 'said', 'this', 'because', 'all', 'the', 'sign', 'pointed', 'to', 'her', 'liking', 'me', 'too', 'and', 'i', 'really', 'felt', 'like', 'i', 'knew', 'what', 'her', 'heart', 'wa', 'saying', 'we', 'both', 'went', 'to', 'sleep', 'cry', 'that', 'night', 'for', 'each', 'other', 'the', 'next', 'day', 'i', 'sent', 'her', 'a', 'text', 'this', 'time', 'saying', 'that', 'i', 'do', 'need', 'some', 'space', 'to', 'figure', 'thing', 'out', 'and', 'we', 'can', 'talk', 'after', 'spring', 'break', 'so', 'for', 'the', 'next', 'week', 'we', 'didn', 'talk', 'she', 'didn', 'view', 'my', 'story', 'like', 'any', 'of', 'my', 'social', 'medium', 'post', 'and', 'just', 'simply', 'didn', 'communicate', 'with', 'each', 'other', 'and', 'it', 'wa', 'one', 'of', 'the', 'worst', 'thing', 'for', 'me', 'to', 'go', 'through', 'a', 'she', 'wa', 'someone', 'i', 'really', 'looked', 'forward', 'to', 'talking', 'to', 'and', 'to', 'not', 'be', 'able', 'to', 'do', 'that', 'just', 'sucked', 'the', 'sunday', 'before', 'we', 'came', 'back', 'to', 'college', 'i', 'texted', 'her', 'and', 'asked', 'if', 'she', 'be', 'down', 'to', 'hangout', 'that', 'first', 'week', 'we', 'got', 'back', 'and', 'she', 'said', 'she', 'wa', 'down', 'to', 'do', 'so', 'and', 'i', 'wa', 'so', 'happy', 'because', 'it', 'felt', 'like', 'i', 'wa', 'getting', 'my', 'friend', 'back', 'again', 'but', 'then', 'a', 'few', 'day', 'later', 'she', 'angrily', 'text', 'me', 'asking', 'if', 'i', 'told', 'anyone', 'that', 'we', 'hooked', 'up', 'which', 'isn', 'true', 'and', 'i', 'told', 'her', 'that', 'i', 'didn', 'which', 'is', 'true', 'there', 'were', 'rumor', 'going', 'around', 'about', 'from', 'people', 'that', 'saw', 'hangout', 'a', 'lot', 'that', 'saw', 'embrace', 'at', 'the', 'bar', 'that', 'saw', 'kiss', 'at', 'the', 'club', 'and', 'saw', 'walk', 'back', 'to', 'my', 'apartment', 'together', 'so', 'people', 'could', 'only', 'assume', 'that', 'we', 'were', 'a', 'thing', 'and', 'i', 'kept', 'telling', 'her', 'that', 'but', 'she', 'wasn', 'having', 'it', 'she', 'facetimed', 'me', 'saying', 'that', 'she', 'regretted', 'ever', 'kissing', 'me', 'she', 'didn', 'want', 'to', 'be', 'friend', 'anymore', 'and', 'all', 'this', 'shit', 'i', 'wa', 'extremely', 'hurt', 'hearing', 'this', 'and', 'just', 'wanted', 'my', 'friend', 'back', 'and', 'wanted', 'to', 'forget', 'ever', 'opening', 'up', 'my', 'feeling', 'for', 'her', 'so', 'i', 'sent', 'her', 'a', 'really', 'long', 'text', 'explaining', 'that', 'i', 'never', 'said', 'anything', 'that', 'i', 'really', 'cared', 'about', 'her', 'and', 'just', 'wanted', 'my', 'best', 'friend', 'back', 'she', 'responded', 'by', 'saying', 'that', 'she', 'appreciated', 'me', 'reaching', 'out', 'and', 'that', 'she', 'wa', 'over', 'the', 'situation', 'and', 'that', 'she', 'not', 'ready', 'to', 'move', 'forward', 'with', 'me', 'and', 'doesn', 'think', 'our', 'friendship', 'will', 'ever', 'be', 'the', 'same', 'so', 'i', 'texted', 'her', 'this', 'morning', 'and', 'i', 'said', 'i', 'get', 'it', 'and', 'if', 'there', 'wa', 'any', 'way', 'we', 'could', 'meet', 'in', 'person', 'and', 'just', 'talk', 'she', 'responded', 'back', 'by', 'saying', 'that', 'she', 'potentially', 'open', 'to', 'it', 'but', 'not', 'now', 'maybe', 'next', 'week', 'so', 'i', 'said', 'i', 'just', 'genuinely', 'need', 'someone', 'to', 'talk', 'to', 'but', 'i', 'understand', 'her', 'the', 'last', 'text', 'she', 'sent', 'me', 'wa', 'i', 'don', 'think', 'i', 'can', 'be', 'that', 'person', 'for', 'you', 'anymore', 'i', 'sorry', 'i', 'am', 'heartbroken', 'devastated', 'and', 'hopeless', 'angry', 'at', 'myself', 'angry', 'at', 'this', 'world', 'and', 'i', 'just', 'want', 'to', 'leave', 'i', 'have', 'no', 'direction', 'in', 'life', 'no', 'one', 'to', 'turn', 'to', 'anymore', 'and', 'i', 'just', 'want', 'to', 'end', 'it', 'all', 'a', 'soon', 'a', 'possible']\n",
            "second line: ['<sos>', 'i', 'at', 'a', 'very', 'weird', 'place', 'in', 'my', 'life', 'right', 'now', 'i', 'a', 'year', 'old', 'male', 'in', 'college', 'i', 'failing', 'my', 'college', 'class', 'a', 'i', 'have', 'no', 'motivation', 'to', 'do', 'well', 'in', 'them', 'i', 'have', 'a', 'very', 'poor', 'relationship', 'with', 'my', 'parent', 'and', 'family', 'the', 'one', 'organization', 'in', 'my', 'college', 'that', 'i', 'extremely', 'involved', 'with', 'ha', 'cut', 'tie', 'with', 'me', 'over', 'accusation', 'that', 'are', 'not', 'true', 'i', 'have', 'a', 'leadership', 'role', 'in', 'this', 'organization', 'and', 'being', 'a', 'leader', 'in', 'the', 'organization', 'with', 'no', 'prior', 'experience', 'ha', 'brought', 'me', 'a', 'ton', 'of', 'hater', 'and', 'people', 'that', 'just', 'want', 'to', 'see', 'my', 'downfall', 'i', 'literally', 'have', 'no', 'future', 'a', 'i', 'supposed', 'to', 'graduate', 'this', 'semester', 'and', 'get', 'a', 'job', 'but', 'i', 'am', 'nowhere', 'near', 'both', 'i', 'can', 'pursue', 'my', 'real', 'passion', 'and', 'to', 'top', 'it', 'all', 'of', 'and', 'what', 'really', 'might', 'put', 'me', 'over', 'the', 'edge', 'is', 'problem', 'with', 'this', 'woman', 'in', 'my', 'life', 'we', 'met', 'through', 'this', 'organization', 'that', 'i', 'wa', 'talking', 'about', 'earlier', 'in', 'this', 'text', 'a', 'a', 'captain', 'i', 'have', 'my', 'own', 'committee', 'of', 'people', 'that', 'i', 'oversee', 'and', 'she', 'wa', 'one', 'of', 'my', 'committee', 'member', 'the', 'first', 'time', 'we', 'hung', 'out', 'in', 'october', 'she', 'took', 'me', 'out', 'to', 'a', 'bar', 'after', 'i', 'turned', 'it', 'wa', 'just', 'me', 'and', 'her', 'we', 'quickly', 'started', 'to', 'develop', 'this', 'really', 'cool', 'friendship', 'where', 'we', 'hangout', 'and', 'talk', 'almost', 'daily', 'a', 'a', 'young', 'man', 'hopeless', 'in', 'love', 'i', 'started', 'to', 'develop', 'feeling', 'but', 'nothing', 'crazy', 'because', 'i', 'almost', 'always', 'saw', 'her', 'a', 'a', 'best', 'friend', 'first', 'and', 'i', 'sure', 'she', 'felt', 'the', 'same', 'way', 'then', 'we', 'were', 'at', 'a', 'bar', 'about', 'a', 'month', 'ago', 'she', 'wa', 'talking', 'to', 'some', 'guy', 'at', 'the', 'bar', 'and', 'i', 'wa', 'having', 'a', 'funny', 'conversation', 'with', 'my', 'friend', 'but', 'i', 'could', 'see', 'from', 'the', 'corner', 'of', 'my', 'eye', 'that', 'she', 'wa', 'talking', 'to', 'this', 'man', 'and', 'that', 'when', 'i', 'first', 'started', 'feeling', 'these', 'feeling', 'of', 'jealousy', 'but', 'i', 'could', 'tell', 'she', 'wa', 'looking', 'at', 'me', 'too', 'talking', 'to', 'my', 'friend', 'and', 'she', 'came', 'to', 'me', 'and', 'we', 'embraced', 'and', 'i', 'hugged', 'her', 'almost', 'all', 'night', 'had', 'my', 'arm', 'around', 'her', 'and', 'everything', 'and', 'she', 'had', 'her', 'hand', 'over', 'mine', 'too', 'and', 'we', 'just', 'kept', 'feeling', 'each', 'other', 'this', 'wa', 'the', 'first', 'time', 'we', 'ever', 'moved', 'into', 'this', 'phase', 'of', 'our', 'friendship', 'and', 'i', 'think', 'we', 'both', 'felt', 'something', 'brewing', 'in', 'our', 'heart', 'for', 'one', 'another', 'a', 'few', 'day', 'went', 'by', 'and', 'i', 'wa', 'out', 'yet', 'again', 'talking', 'to', 'this', 'other', 'chick', 'i', 'met', 'at', 'the', 'bar', 'and', 'we', 'ended', 'up', 'almost', 'hooking', 'up', 'back', 'at', 'my', 'place', 'but', 'i', 'couldn', 'go', 'through', 'with', 'it', 'because', 'all', 'i', 'could', 'think', 'about', 'wa', 'my', 'best', 'friend', 'who', 'i', 'really', 'liked', 'i', 'an', 'introvert', 'at', 'heart', 'and', 'will', 'always', 'keep', 'my', 'feeling', 'inside', 'because', 'i', 'scared', 'to', 'tell', 'people', 'how', 'i', 'feel', 'and', 'i', 'suppress', 'those', 'feeling', 'but', 'literally', 'the', 'next', 'day', 'after', 'this', 'hookup', 'that', 'didn', 'happen', 'i', 'wa', 'at', 'a', 'friend', 'st', 'birthday', 'party', 'and', 'got', 'hammered', 'myself', 'and', 'i', 'had', 'this', 'urge', 'of', 'wanting', 'to', 'tell', 'my', 'best', 'friend', 'how', 'i', 'truly', 'felt', 'about', 'her', 'and', 'that', 'exactly', 'what', 'i', 'did', 'it', 'wa', 'a', 'thursday', 'night', 'she', 'always', 'go', 'to', 'this', 'one', 'specific', 'club', 'on', 'thursday', 'night', 'so', 'i', 'ditched', 'my', 'friend', 'and', 'went', 'to', 'that', 'club', 'to', 'see', 'her', 'and', 'it', 'literally', 'played', 'out', 'like', 'a', 'romantic', 'film', 'she', 'wa', 'the', 'first', 'person', 'i', 'saw', 'when', 'i', 'walked', 'in', 'and', 'went', 'up', 'to', 'her', 'and', 'for', 'the', 'first', 'time', 'in', 'my', 'life', 'i', 'poured', 'my', 'heart', 'out', 'to', 'her', 'and', 'told', 'her', 'how', 'i', 'felt', 'about', 'her', 'and', 'how', 'she', 'make', 'me', 'feel', 'and', 'at', 'first', 'she', 'wa', 'shocked', 'and', 'then', 'she', 'said', 'she', 'felt', 'the', 'same', 'way', 'and', 'we', 'kissed', 'for', 'a', 'long', 'time', 'at', 'this', 'moment', 'i', 'wa', 'on', 'cloud', 'i', 'had', 'never', 'had', 'a', 'girlfriend', 'before', 'had', 'never', 'been', 'in', 'a', 'relationship', 'before', 'but', 'in', 'this', 'moment', 'it', 'wa', 'just', 'me', 'and', 'her', 'against', 'the', 'world', 'and', 'i', 'loved', 'it', 'we', 'started', 'to', 'head', 'back', 'to', 'my', 'apartment', 'but', 'the', 'alcohol', 'wa', 'kicking', 'in', 'for', 'me', 'and', 'i', 'passed', 'out', 'once', 'i', 'got', 'back', 'to', 'my', 'apartment', 'i', 'woke', 'up', 'the', 'next', 'day', 'and', 'saw', 'her', 'heel', 'on', 'the', 'floor', 'but', 'she', 'wa', 'nowhere', 'to', 'be', 'found', 'so', 'i', 'texted', 'her', 'and', 'told', 'her', 'that', 'i', 'wa', 'sorry', 'for', 'passing', 'out', 'from', 'the', 'alcohol', 'but', 'i', 'meant', 'every', 'word', 'i', 'told', 'her', 'last', 'night', 'she', 'didn', 'text', 'me', 'back', 'till', 'later', 'that', 'day', 'and', 'she', 'said', 'that', 'she', 'wa', 'thinking', 'about', 'it', 'all', 'day', 'and', 'night', 'and', 'she', 'didn', 'want', 'to', 'fuck', 'up', 'our', 'friendship', 'a', 'it', 'one', 'of', 'the', 'few', 'good', 'thing', 'in', 'her', 'life', 'right', 'now', 'and', 'i', 'totally', 'get', 'that', 'wa', 'i', 'disappointed', 'hearing', 'this', 'yeah', 'of', 'course', 'i', 'wa', 'but', 'i', 'texted', 'her', 'back', 'saying', 'that', 'we', 'can', 'talk', 'about', 'this', 'in', 'person', 'another', 'time', 'but', 'for', 'right', 'now', 'enjoy', 'your', 'weekend', 'the', 'next', 'day', 'we', 'saw', 'each', 'other', 'at', 'a', 'party', 'and', 'i', 'talked', 'to', 'her', 'outside', 'and', 'told', 'her', 'that', 'i', 'rather', 'say', 'we', 'tried', 'to', 'make', 'it', 'work', 'and', 'it', 'didn', 'rather', 'than', 'not', 'giving', 'a', 'chance', 'at', 'all', 'and', 'she', 'never', 'gave', 'me', 'a', 'clear', 'answer', 'she', 'texted', 'me', 'later', 'that', 'night', 'saying', 'that', 'she', 'needed', 'a', 'break', 'and', 'some', 'time', 'to', 'think', 'so', 'i', 'said', 'okay', 'a', 'few', 'day', 'later', 'we', 'had', 'our', 'last', 'committee', 'meeting', 'and', 'it', 'wa', 'so', 'awkward', 'cause', 'we', 'hadn', 'talked', 'before', 'and', 'we', 'were', 'on', 'this', 'so', 'called', 'break', 'and', 'after', 'the', 'meeting', 'ended', 'she', 'immediately', 'left', 'even', 'though', 'she', 'usually', 'wait', 'for', 'me', 'i', 'got', 'a', 'text', 'from', 'her', 'later', 'that', 'night', 'around', 'am', 'saying', 'that', 'this', 'letter', 'i', 'wrote', 'for', 'everyone', 'on', 'my', 'committee', 'wa', 'very', 'sweet', 'and', 'cute', 'and', 'i', 'asked', 'her', 'how', 'long', 'this', 'break', 'should', 'last', 'and', 'she', 'said', 'she', 'wasn', 'sure', 'a', 'she', 'didn', 'want', 'me', 'to', 'think', 'that', 'she', 'wa', 'leading', 'me', 'on', 'which', 'i', 'thought', 'she', 'wa', 'doing', 'so', 'we', 'hopped', 'on', 'this', 'facetime', 'call', 'and', 'had', 'a', 'really', 'nice', 'long', 'conversation', 'about', 'all', 'the', 'stuff', 'we', 'had', 'to', 'catch', 'up', 'on', 'and', 'then', 'after', 'an', 'hour', 'i', 'switched', 'the', 'topic', 'back', 'to', 'our', 'relationship', 'and', 'she', 'basically', 'said', 'that', 'she', 'didn', 'feel', 'the', 'same', 'way', 'i', 'wa', 'so', 'hurt', 'when', 'she', 'said', 'this', 'because', 'all', 'the', 'sign', 'pointed', 'to', 'her', 'liking', 'me', 'too', 'and', 'i', 'really', 'felt', 'like', 'i', 'knew', 'what', 'her', 'heart', 'wa', 'saying', 'we', 'both', 'went', 'to', 'sleep', 'cry', 'that', 'night', 'for', 'each', 'other', 'the', 'next', 'day', 'i', 'sent', 'her', 'a', 'text', 'this', 'time', 'saying', 'that', 'i', 'do', 'need', 'some', 'space', 'to', 'figure', 'thing', 'out', 'and', 'we', 'can', 'talk', 'after', 'spring', 'break', 'so', 'for', 'the', 'next', 'week', 'we', 'didn', 'talk', 'she', 'didn', 'view', 'my', 'story', 'like', 'any', 'of', 'my', 'social', 'medium', 'post', 'and', 'just', 'simply', 'didn', 'communicate', 'with', 'each', 'other', 'and', 'it', 'wa', 'one', 'of', 'the', 'worst', 'thing', 'for', 'me', 'to', 'go', 'through', 'a', 'she', 'wa', 'someone', 'i', 'really', 'looked', 'forward', 'to', 'talking', 'to', 'and', 'to', 'not', 'be', 'able', 'to', 'do', 'that', 'just', 'sucked', 'the', 'sunday', 'before', 'we', 'came', 'back', 'to', 'college', 'i', 'texted', 'her', 'and', 'asked', 'if', 'she', 'be', 'down', 'to', 'hangout', 'that', 'first', 'week', 'we', 'got', 'back', 'and', 'she', 'said', 'she', 'wa', 'down', 'to', 'do', 'so', 'and', 'i', 'wa', 'so', 'happy', 'because', 'it', 'felt', 'like', 'i', 'wa', 'getting', 'my', 'friend', 'back', 'again', 'but', 'then', 'a', 'few', 'day', 'later', 'she', 'angrily', 'text', 'me', 'asking', 'if', 'i', 'told', 'anyone', 'that', 'we', 'hooked', 'up', 'which', 'isn', 'true', 'and', 'i', 'told', 'her', 'that', 'i', 'didn', 'which', 'is', 'true', 'there', 'were', 'rumor', 'going', 'around', 'about', 'from', 'people', 'that', 'saw', 'hangout', 'a', 'lot', 'that', 'saw', 'embrace', 'at', 'the', 'bar', 'that', 'saw', 'kiss', 'at', 'the', 'club', 'and', 'saw', 'walk', 'back', 'to', 'my', 'apartment', 'together', 'so', 'people', 'could', 'only', 'assume', 'that', 'we', 'were', 'a', 'thing', 'and', 'i', 'kept', 'telling', 'her', 'that', 'but', 'she', 'wasn', 'having', 'it', 'she', 'facetimed', 'me', 'saying', 'that', 'she', 'regretted', 'ever', 'kissing', 'me', 'she', 'didn', 'want', 'to', 'be', 'friend', 'anymore', 'and', 'all', 'this', 'shit', 'i', 'wa', 'extremely', 'hurt', 'hearing', 'this', 'and', 'just', 'wanted', 'my', 'friend', 'back', 'and', 'wanted', 'to', 'forget', 'ever', 'opening', 'up', 'my', 'feeling', 'for', 'her', 'so', 'i', 'sent', 'her', 'a', 'really', 'long', 'text', 'explaining', 'that', 'i', 'never', 'said', 'anything', 'that', 'i', 'really', 'cared', 'about', 'her', 'and', 'just', 'wanted', 'my', 'best', 'friend', 'back', 'she', 'responded', 'by', 'saying', 'that', 'she', 'appreciated', 'me', 'reaching', 'out', 'and', 'that', 'she', 'wa', 'over', 'the', 'situation', 'and', 'that', 'she', 'not', 'ready', 'to', 'move', 'forward', 'with', 'me', 'and', 'doesn', 'think', 'our', 'friendship', 'will', 'ever', 'be', 'the', 'same', 'so', 'i', 'texted', 'her', 'this', 'morning', 'and', 'i', 'said', 'i', 'get', 'it', 'and', 'if', 'there', 'wa', 'any', 'way', 'we', 'could', 'meet', 'in', 'person', 'and', 'just', 'talk', 'she', 'responded', 'back', 'by', 'saying', 'that', 'she', 'potentially', 'open', 'to', 'it', 'but', 'not', 'now', 'maybe', 'next', 'week', 'so', 'i', 'said', 'i', 'just', 'genuinely', 'need', 'someone', 'to', 'talk', 'to', 'but', 'i', 'understand', 'her', 'the', 'last', 'text', 'she', 'sent', 'me', 'wa', 'i', 'don', 'think', 'i', 'can', 'be', 'that', 'person', 'for', 'you', 'anymore', 'i', 'sorry', 'i', 'am', 'heartbroken', 'devastated', 'and', 'hopeless', 'angry', 'at', 'myself', 'angry', 'at', 'this', 'world', 'and', 'i', 'just', 'want', 'to', 'leave', 'i', 'have', 'no', 'direction', 'in', 'life', 'no', 'one', 'to', 'turn', 'to', 'anymore', 'and', 'i', 'just', 'want', 'to', 'end', 'it', 'all', 'a', 'soon', 'a', 'possible', '<eos>']\n",
            "third line: [2, 41, 125, 10, 355, 389, 496, 66, 4, 280, 116, 117, 41, 10, 219, 272, 2477, 66, 276, 41, 1941, 4, 276, 491, 10, 41, 16, 24, 2085, 20, 209, 255, 66, 72, 41, 16, 10, 355, 1568, 69, 75, 4, 162, 29, 130, 38, 136, 3602, 66, 4, 276, 25, 41, 304, 3050, 75, 28, 678, 3603, 75, 74, 597, 3604, 25, 156, 62, 791, 41, 16, 10, 3605, 2237, 66, 67, 3602, 29, 452, 10, 3606, 66, 38, 3602, 75, 24, 1548, 670, 28, 3165, 74, 10, 296, 18, 1, 29, 60, 25, 109, 120, 20, 59, 4, 3607, 41, 1074, 16, 24, 1220, 10, 41, 526, 20, 1257, 67, 2065, 29, 21, 10, 274, 14, 41, 182, 2834, 1712, 957, 41, 190, 2413, 4, 281, 1593, 29, 20, 141, 64, 216, 18, 29, 106, 269, 1252, 633, 74, 597, 38, 915, 94, 359, 75, 67, 766, 66, 4, 280, 90, 1595, 22, 67, 3602, 25, 41, 48, 493, 202, 3106, 66, 67, 555, 10, 10, 3608, 41, 16, 4, 854, 3609, 18, 60, 25, 41, 3610, 29, 416, 48, 136, 18, 4, 3609, 408, 38, 356, 179, 90, 1422, 8, 66, 2787, 416, 1204, 74, 8, 20, 10, 2306, 373, 41, 215, 64, 48, 109, 74, 29, 531, 90, 1867, 488, 20, 3611, 67, 269, 557, 697, 459, 90, 1, 29, 437, 460, 1300, 10, 10, 431, 1562, 2314, 66, 492, 41, 488, 20, 3611, 264, 14, 286, 487, 238, 41, 460, 261, 1623, 531, 10, 10, 620, 282, 356, 29, 41, 404, 416, 1258, 38, 483, 550, 147, 90, 457, 125, 10, 2306, 202, 10, 46, 47, 416, 48, 493, 20, 425, 273, 125, 38, 2306, 29, 41, 48, 376, 10, 1720, 320, 75, 4, 282, 14, 41, 221, 59, 33, 38, 3612, 18, 4, 2008, 25, 416, 48, 493, 20, 67, 1562, 29, 25, 58, 41, 356, 488, 264, 353, 264, 18, 3613, 14, 41, 221, 250, 416, 48, 875, 125, 74, 301, 493, 20, 4, 282, 29, 416, 42, 20, 74, 29, 90, 3614, 29, 41, 1, 531, 460, 216, 524, 368, 4, 2419, 217, 531, 29, 114, 29, 416, 368, 531, 847, 597, 731, 301, 29, 90, 109, 674, 264, 2066, 741, 67, 48, 38, 356, 179, 90, 475, 1244, 836, 67, 2598, 18, 167, 697, 29, 41, 244, 90, 957, 1258, 102, 3615, 66, 167, 703, 9, 136, 407, 10, 375, 146, 131, 218, 29, 41, 48, 8, 721, 499, 493, 20, 67, 741, 1801, 41, 1595, 125, 38, 2306, 29, 90, 699, 204, 460, 1, 204, 80, 125, 4, 496, 14, 41, 977, 123, 22, 75, 64, 238, 216, 41, 221, 244, 202, 48, 4, 620, 282, 96, 41, 269, 2821, 41, 184, 3616, 125, 703, 29, 226, 261, 392, 4, 264, 893, 238, 41, 624, 20, 250, 60, 152, 41, 85, 29, 41, 1908, 1005, 264, 14, 1074, 38, 537, 146, 373, 67, 3617, 25, 415, 237, 41, 48, 125, 10, 282, 3226, 764, 1563, 29, 32, 3618, 191, 29, 41, 368, 67, 1101, 18, 233, 20, 250, 4, 620, 282, 152, 41, 811, 1258, 202, 531, 29, 25, 2127, 106, 41, 978, 64, 48, 10, 945, 524, 416, 261, 123, 20, 67, 136, 396, 3043, 50, 945, 524, 40, 41, 1, 4, 282, 29, 131, 20, 25, 3043, 20, 59, 531, 29, 64, 1074, 3619, 8, 45, 10, 1806, 3069, 416, 48, 38, 356, 93, 41, 1623, 58, 41, 2181, 66, 29, 131, 204, 20, 531, 29, 9, 38, 356, 179, 66, 4, 280, 41, 3620, 4, 703, 8, 20, 531, 29, 544, 531, 152, 41, 1258, 202, 531, 29, 152, 416, 84, 74, 85, 29, 125, 356, 416, 48, 874, 29, 147, 416, 631, 416, 1258, 38, 483, 550, 29, 90, 278, 9, 10, 203, 179, 125, 67, 497, 41, 48, 50, 2824, 41, 368, 49, 368, 10, 277, 372, 368, 49, 172, 66, 10, 69, 372, 14, 66, 67, 497, 64, 48, 109, 74, 29, 531, 2026, 38, 71, 29, 41, 704, 64, 90, 488, 20, 1041, 80, 20, 4, 800, 14, 38, 2636, 48, 2843, 66, 9, 74, 29, 41, 784, 8, 548, 41, 32, 80, 20, 4, 800, 41, 1231, 204, 38, 537, 146, 29, 1623, 531, 1, 50, 38, 3621, 14, 416, 48, 2834, 20, 65, 262, 40, 41, 1, 531, 29, 544, 531, 25, 41, 48, 344, 9, 3319, 8, 33, 38, 2636, 14, 41, 1576, 126, 267, 41, 544, 531, 465, 524, 416, 415, 555, 74, 80, 35, 769, 25, 146, 29, 416, 631, 25, 416, 48, 1520, 202, 64, 216, 146, 29, 524, 29, 416, 415, 120, 20, 227, 204, 167, 697, 10, 64, 136, 18, 38, 375, 316, 122, 66, 531, 280, 116, 117, 29, 41, 943, 21, 25, 48, 41, 220, 1227, 67, 451, 18, 197, 41, 48, 14, 41, 1, 531, 80, 1459, 25, 90, 190, 437, 202, 67, 66, 93, 407, 179, 14, 9, 116, 117, 1354, 865, 635, 38, 537, 146, 90, 1623, 2066, 741, 125, 10, 1563, 29, 41, 1249, 20, 531, 625, 29, 544, 531, 25, 41, 1464, 254, 90, 405, 20, 84, 64, 19, 29, 64, 415, 1464, 159, 62, 1211, 10, 1077, 125, 216, 29, 416, 49, 1423, 74, 10, 2478, 869, 416, 1, 74, 769, 25, 524, 1459, 25, 416, 558, 10, 134, 29, 425, 179, 20, 244, 40, 41, 631, 1193, 10, 375, 146, 769, 90, 368, 167, 465, 3609, 494, 29, 64, 48, 40, 1951, 89, 90, 3102, 1249, 372, 29, 90, 457, 50, 67, 40, 1331, 134, 29, 373, 38, 494, 699, 416, 2440, 160, 104, 211, 416, 470, 864, 9, 74, 41, 32, 10, 555, 33, 531, 769, 25, 524, 217, 182, 1459, 25, 67, 2280, 41, 1892, 9, 792, 50, 4, 3609, 48, 355, 566, 29, 3015, 29, 41, 1259, 531, 152, 203, 67, 134, 595, 465, 29, 416, 631, 416, 519, 404, 10, 416, 415, 120, 74, 20, 244, 25, 416, 48, 3622, 74, 50, 78, 41, 529, 416, 48, 393, 40, 90, 1, 50, 67, 1, 648, 29, 368, 10, 269, 302, 203, 320, 202, 216, 38, 681, 90, 368, 20, 1350, 204, 50, 29, 147, 373, 184, 912, 41, 1, 38, 650, 80, 20, 167, 69, 29, 416, 677, 631, 25, 416, 415, 85, 38, 483, 550, 41, 48, 40, 614, 58, 416, 631, 67, 238, 216, 38, 667, 3477, 20, 531, 2128, 74, 301, 29, 41, 269, 1258, 45, 41, 916, 106, 531, 703, 48, 1459, 90, 957, 131, 20, 348, 759, 25, 524, 9, 2066, 741, 38, 537, 146, 41, 1065, 531, 10, 555, 67, 179, 1459, 25, 41, 209, 423, 425, 3532, 20, 1272, 122, 8, 29, 90, 190, 437, 373, 2970, 134, 40, 9, 38, 537, 137, 90, 415, 437, 416, 415, 1275, 4, 1248, 45, 241, 18, 4, 1152, 507, 11, 29, 109, 992, 415, 2875, 75, 2066, 741, 29, 64, 48, 136, 18, 38, 735, 122, 9, 74, 20, 123, 22, 10, 416, 48, 100, 41, 269, 1534, 1355, 20, 493, 20, 29, 20, 62, 65, 453, 20, 209, 25, 109, 3623, 38, 809, 372, 90, 42, 80, 20, 276, 41, 1, 531, 29, 1259, 224, 416, 65, 724, 20, 1, 25, 356, 137, 90, 32, 80, 29, 416, 631, 416, 48, 724, 20, 209, 40, 29, 41, 48, 40, 767, 238, 64, 1258, 45, 41, 48, 118, 4, 282, 80, 499, 14, 147, 10, 375, 146, 769, 416, 1, 555, 74, 795, 224, 41, 544, 321, 25, 90, 1, 204, 78, 1046, 791, 29, 41, 544, 531, 25, 41, 415, 78, 94, 791, 112, 457, 1, 7, 217, 202, 33, 60, 25, 1623, 1, 10, 194, 25, 1623, 1, 125, 38, 2306, 25, 1623, 3440, 125, 38, 3043, 29, 1623, 13, 80, 20, 4, 800, 877, 40, 60, 221, 175, 1939, 25, 90, 457, 10, 122, 29, 41, 674, 2350, 531, 25, 14, 416, 519, 376, 64, 416, 1, 74, 1459, 25, 416, 1, 475, 3624, 74, 416, 415, 120, 20, 65, 282, 608, 29, 216, 67, 486, 41, 48, 304, 614, 1227, 67, 29, 109, 428, 4, 282, 80, 29, 428, 20, 762, 475, 2330, 204, 4, 264, 9, 531, 40, 41, 1065, 531, 10, 269, 203, 555, 2349, 25, 41, 49, 631, 210, 25, 41, 269, 1, 202, 531, 29, 109, 428, 4, 620, 282, 80, 416, 1, 218, 1459, 25, 416, 1273, 74, 1487, 8, 29, 25, 416, 48, 597, 38, 818, 29, 25, 416, 62, 693, 20, 691, 1355, 75, 74, 29, 801, 244, 167, 697, 226, 475, 65, 38, 483, 40, 41, 1, 531, 67, 193, 29, 41, 631, 41, 21, 64, 29, 224, 112, 48, 241, 550, 90, 221, 479, 66, 93, 29, 109, 437, 416, 1, 80, 218, 1459, 25, 416, 2451, 862, 20, 64, 14, 62, 117, 478, 537, 137, 40, 41, 631, 41, 109, 1605, 423, 100, 20, 437, 20, 14, 41, 570, 531, 38, 465, 555, 416, 1065, 74, 48, 41, 103, 244, 41, 190, 65, 25, 93, 9, 439, 608, 41, 344, 41, 182, 1, 1, 29, 2314, 530, 125, 191, 530, 125, 67, 71, 29, 41, 109, 120, 20, 651, 41, 16, 24, 2139, 66, 280, 24, 136, 20, 127, 20, 608, 29, 41, 109, 120, 20, 435, 64, 216, 10, 1920, 10, 1396, 3]\n",
            "first line: ['itsdawns', 'thank', 'rmilana', 'don', 'like', 'it', 'hehe', 'but', 'it', 'very', 'easy', 'and', 'well', 'i', 'just', 'a', 'danish', 'dude']\n",
            "second line: ['<sos>', 'itsdawns', 'thank', 'rmilana', 'don', 'like', 'it', 'hehe', 'but', 'it', 'very', 'easy', 'and', 'well', 'i', 'just', 'a', 'danish', 'dude', '<eos>']\n",
            "third line: [2, 1, 584, 1, 103, 45, 64, 4468, 14, 64, 355, 891, 29, 255, 41, 109, 10, 1, 1767, 3]\n",
            "first line: ['juzley', 'yaaaay', 'maybe', 'i', 'should', 've', 'gone']\n",
            "second line: ['<sos>', 'juzley', 'yaaaay', 'maybe', 'i', 'should', 've', 'gone', '<eos>']\n",
            "third line: [2, 1, 1, 478, 41, 595, 171, 456, 3]\n"
          ]
        }
      ]
    },
    {
      "cell_type": "code",
      "source": [
        "input = tokenzied_batch_data\n",
        "input"
      ],
      "metadata": {
        "id": "wVgoFLDZBXvu",
        "outputId": "d7480564-b57f-46bc-a7f1-81fc3a9d5a69",
        "colab": {
          "base_uri": "https://localhost:8080/"
        }
      },
      "execution_count": 135,
      "outputs": [
        {
          "output_type": "execute_result",
          "data": {
            "text/plain": [
              "(tensor([[  2,  62, 404,  ...,   0,   0,   0],\n",
              "         [  2,  64, 136,  ...,   0,   0,   0],\n",
              "         [  2,  64, 172,  ...,   0,   0,   0],\n",
              "         ...,\n",
              "         [  2,  41, 125,  ...,  40,  90,   1],\n",
              "         [  2,   1, 584,  ...,   0,   0,   0],\n",
              "         [  2,   1,   1,  ...,   0,   0,   0]]),\n",
              " tensor([[1, 1, 1,  ..., 0, 0, 0],\n",
              "         [1, 1, 1,  ..., 0, 0, 0],\n",
              "         [1, 1, 1,  ..., 0, 0, 0],\n",
              "         ...,\n",
              "         [1, 1, 1,  ..., 1, 1, 1],\n",
              "         [1, 1, 1,  ..., 0, 0, 0],\n",
              "         [1, 1, 1,  ..., 0, 0, 0]]),\n",
              " tensor([ 124,   67,  206,  109,   11,  150,    5,   17,   15,  544,   16,   12,\n",
              "            7,   15,   25,  195,   41,   97,   14,  193,   26,   13,   36,  234,\n",
              "           72,   19,   92,  158,  259, 1000,   20,    9]))"
            ]
          },
          "metadata": {},
          "execution_count": 135
        }
      ]
    },
    {
      "cell_type": "code",
      "source": [
        "my_device = torch.device(\"cuda\" if torch.cuda.is_available() else \"cpu\")"
      ],
      "metadata": {
        "id": "zdB_qQkGKP23"
      },
      "execution_count": 136,
      "outputs": []
    },
    {
      "cell_type": "code",
      "source": [
        "input2 = tuple([i.to(my_device) for i in input])"
      ],
      "metadata": {
        "id": "_F4ezpR9IcgI"
      },
      "execution_count": 137,
      "outputs": []
    },
    {
      "cell_type": "code",
      "source": [
        "input2[0].shape"
      ],
      "metadata": {
        "id": "59Mn29uKKkF9",
        "outputId": "6fad9640-85bb-4132-f50d-411430b64300",
        "colab": {
          "base_uri": "https://localhost:8080/"
        }
      },
      "execution_count": 140,
      "outputs": [
        {
          "output_type": "execute_result",
          "data": {
            "text/plain": [
              "torch.Size([32, 1000])"
            ]
          },
          "metadata": {},
          "execution_count": 140
        }
      ]
    },
    {
      "cell_type": "code",
      "source": [
        "for tokenzied_sentence in  tokenzied_batch_data :\n",
        "  print((tokenzied_sentence.shape))"
      ],
      "metadata": {
        "id": "cGyYvgfTHGUj",
        "outputId": "f23ce2ad-2fa9-48fb-82ed-f355c3ce2fc1",
        "colab": {
          "base_uri": "https://localhost:8080/"
        }
      },
      "execution_count": 36,
      "outputs": [
        {
          "output_type": "stream",
          "name": "stdout",
          "text": [
            "torch.Size([32, 1542])\n",
            "torch.Size([32, 1542])\n",
            "torch.Size([32])\n"
          ]
        }
      ]
    },
    {
      "cell_type": "code",
      "source": [],
      "metadata": {
        "id": "newjSUcbHgRl"
      },
      "execution_count": null,
      "outputs": []
    },
    {
      "cell_type": "code",
      "source": [
        "from torch.optim import Adam\n",
        "from torchmetrics.classification import Accuracy\n",
        "\n",
        "class DepressionDetection(pl.LightningModule):\n",
        "  def __init__(self,\n",
        "               model: nn.Module,\n",
        "               tokenizer: Tokenizer,\n",
        "               learning_rate= 0.01,\n",
        "               ):\n",
        "    super().__init__()\n",
        "    self.model = model\n",
        "    self.tokenizer = tokenizer\n",
        "    self.learning_rate = learning_rate\n",
        "    self.criterion = nn.CrossEntropyLoss()\n",
        "    self.train_accuracy = Accuracy(task='binary')\n",
        "    self.val_accuracy = Accuracy(task='binary')\n",
        "    self.test_accuracy = Accuracy(task='binary')\n",
        "    self.my_device = torch.device(\"cuda\" if torch.cuda.is_available() else \"cpu\")\n",
        "    self.model.to(self.my_device)\n",
        "\n",
        "  def forward(self, x):\n",
        "    input = self.tokenizer(x)\n",
        "    input = tuple([i.to(self.device) for i in input])\n",
        "    return self.model(input).view(-1)\n",
        "\n",
        "  def training_step(self, batch, batch_idx):\n",
        "    # training_step defines the train loop.\n",
        "    x, y = batch[\"text\"], batch[\"label\"]\n",
        "\n",
        "    pred = self(x)\n",
        "    loss = self.criterion(pred, y.float())\n",
        "\n",
        "    self.train_accuracy(pred, y)\n",
        "\n",
        "    self.log('train_acc', self.train_accuracy, on_step=True, on_epoch=True, prog_bar=True)\n",
        "    self.log('train_loss', loss, on_step=True, on_epoch=True, prog_bar=True)\n",
        "\n",
        "    return loss\n",
        "\n",
        "  def validation_step(self, batch, batch_idx):\n",
        "    # this is the validation loop\n",
        "    self._shared_eval(batch, batch_idx, \"val\")\n",
        "\n",
        "  def test_step(self, batch, batch_idx):\n",
        "    # this is the test loop\n",
        "    self._shared_eval(batch, batch_idx, \"test\")\n",
        "\n",
        "  def _shared_eval(self, batch, batch_idx, prefix):\n",
        "    x, y = batch[\"text\"], batch[\"label\"]\n",
        "\n",
        "    pred = self(x)\n",
        "    loss = self.criterion(pred, y.float())\n",
        "\n",
        "    if prefix == \"val\":\n",
        "      self.val_accuracy(pred, y)\n",
        "      self.log(f\"{prefix}_acc\", self.val_accuracy, on_step=True, on_epoch=True, prog_bar=True)\n",
        "\n",
        "    if prefix == \"test\":\n",
        "      self.test_accuracy(pred, y)\n",
        "      self.log(f\"{prefix}_acc\", self.test_accuracy, on_step=True, on_epoch=True, prog_bar=True)\n",
        "\n",
        "    self.log(f\"{prefix}_loss\", loss, on_step=True, on_epoch=True, prog_bar=True)\n",
        "\n",
        "  def predict_step(self, batch, batch_idx, dataloader_idx=0):\n",
        "    x, _ = batch[\"text\"], batch[\"label\"]\n",
        "\n",
        "    pred = self(x)\n",
        "    pred = torch.sigmoid(pred)\n",
        "    return (pred > 0.5).int()\n",
        "\n",
        "  def configure_optimizers(self):\n",
        "    optimizer = Adam(self.model.parameters(), lr=self.learning_rate)\n",
        "    return optimizer\n"
      ],
      "metadata": {
        "id": "tsdZXzQS729j"
      },
      "execution_count": 185,
      "outputs": []
    },
    {
      "cell_type": "code",
      "source": [
        "import os\n",
        "import sys\n",
        "from logging import config\n",
        "from pytorch_lightning.callbacks import TQDMProgressBar, EarlyStopping, ModelCheckpoint\n",
        "from pytorch_lightning.loggers import TensorBoardLogger\n",
        "\n",
        "tqdm.pandas(file=sys.stdout)\n",
        "\n",
        "\n",
        "def get_callbacks():\n",
        "    tqdm_callback = TQDMProgressBar(refresh_rate=1)\n",
        "    checkpoint_callback = ModelCheckpoint(\n",
        "                                          dirpath='/content/drive/MyDrive/depression_classification/exp',\n",
        "                                          save_last=True, save_top_k=1,\n",
        "                                          filename=\"best-loss-model-{epoch:02d}-{val_loss:.2f}\",\n",
        "                                          monitor=\"val_loss\",\n",
        "                                          mode=\"min\")\n",
        "    checkpoint_callback.CHECKPOINT_NAME_LAST = \"last-model-{epoch:02d}-{val_loss:.2f}\"\n",
        "    early_stopping_callback = EarlyStopping(monitor=\"val_loss\", mode=\"min\", patience=5, verbose=True)\n",
        "\n",
        "    return [tqdm_callback, checkpoint_callback, early_stopping_callback]"
      ],
      "metadata": {
        "id": "D-i8I2eQilWM"
      },
      "execution_count": 201,
      "outputs": []
    },
    {
      "cell_type": "code",
      "source": [
        "from pytorch_lightning import Trainer\n",
        "\n",
        "EXPERIMENTS_DIR = \"/content/drive/MyDrive/depression_classification/exp\"\n",
        "\n",
        "def train():\n",
        "\n",
        "  textDataMoudle = CustomDataModule()\n",
        "  textDataMoudle.prepare_data()\n",
        "  textDataMoudle.setup(stage = \"fit\")\n",
        "\n",
        "  # pretrained_embeddings already loaded\n",
        "  #TODO: will implement inside it\n",
        "\n",
        "  tokenizer = Tokenizer()\n",
        "  # tokenizer.fit_on_texts_and_embeddings(textDataMoudle.train_data.clean_text, pretrained_embeddings)\n",
        "  tokenizer.load(\"/content/drive/MyDrive/depression_classification/\")\n",
        "  # embeddings_matrix = tokenizer.get_embeddings_matrix(pretrained_embeddings)  # already created\n",
        "\n",
        "\n",
        "  model = FCL(embeddings_matrix)\n",
        "  depression_detection = DepressionDetection(model=model, tokenizer=tokenizer)\n",
        "\n",
        "  tb_logger = TensorBoardLogger(EXPERIMENTS_DIR, name=model.name)\n",
        "  output_dir = os.path.join(EXPERIMENTS_DIR, model.name, f\"version_{tb_logger.version}\")\n",
        "  # tokenizer.save(output_dir)\n",
        "\n",
        "  trainer = Trainer(devices=\"auto\",\n",
        "                      accelerator=\"auto\",\n",
        "                      max_epochs=3,\n",
        "                      callbacks=get_callbacks(),\n",
        "                      logger=tb_logger,\n",
        "                      log_every_n_steps=1\n",
        "                      )\n",
        "\n",
        "  trainer.fit(model=depression_detection, datamodule=textDataMoudle)\n",
        "  trainer.predict(model=depression_detection, datamodule=textDataMoudle)\n",
        "\n"
      ],
      "metadata": {
        "id": "G2s80lpGnaJC"
      },
      "execution_count": 202,
      "outputs": []
    },
    {
      "cell_type": "code",
      "source": [
        "train()"
      ],
      "metadata": {
        "colab": {
          "base_uri": "https://localhost:8080/",
          "height": 517,
          "referenced_widgets": [
            "32364683632c4c68ac053836da2c2259",
            "1648fa298ab34e518f02ec0ae928ef46",
            "c44c6b068dba4bb5a77aa1d8261904d5",
            "9e864e62d60e422fbc24ce1b5e9c2b64",
            "f5b771702e5b4745a9a5873a46d59ef4",
            "db732ed2152642938679d422c1d1c125",
            "35c2af6048f949749016befd8c5023c9",
            "6c33ad9f94a94ec9aa84d3924e256758",
            "bcaddae7296c4f2d84a509bc71fa2bf2",
            "501fbddabd7a436c8cc975939b45203e",
            "099bc32cc07a43e6a5163df7a5d5d89b",
            "75ed1d95e065449e858d85a3a533f0d4",
            "03c4934f0f374565bc0db620f56a6779",
            "befe83f04c7046ab8231c10710048988",
            "35cb977c48c646769bc96fa7d93eab4f",
            "ef401bee37ca4db88bf0c3700d71afb4",
            "f83c8a892c564dc39d03a127dc72bf0e",
            "d39e9c046b0648598c85e6ce14748d1a",
            "b60707bf723b4c7d848b8b026c117fda",
            "678c01c26fe5476db1e372812c5d89da",
            "e22c4d1cc8f3413da865ef823c74c76a",
            "ee3c8816d51948b2bf5036858800243b",
            "d6d1f709b3a949a49511e2d271ec6257",
            "24be0d6ebba94319abbee6a5126c3a02",
            "7931364ee4ed45838f37b49f01a4ccbc",
            "2ffc1d9ebde64c02b225485bb9591f0b",
            "0b841a0c5cdc426cab2768de03d362f6",
            "9f08b0a8f6dd48b0a2fea7db45f641e2",
            "eb417123742141dfacf6d5a9ed6b6fcf",
            "fcba566c87444f31a770aa847982a12c",
            "db7dff156b8c493a81b789c608e7cda7",
            "2d26714f572d449c9b581cb66f3d6bb2",
            "0d863b50efa14fb0bc5176f56d5ad242",
            "4cb564df882346feb96ff8b961134ac1",
            "31687719de6e40ee95dad2cda9cf1519",
            "a1b4476c2f9145b4a39fd75a6a76dca4",
            "51e46105db4b4766a37e6779753017d7",
            "c04855f44d1c4903972be33a30808e47",
            "8d1e5b1cd6eb49819272919cec5bbf0d",
            "df017fc69253484abcac7b25dad008c4",
            "c29c7d18244a440693fe4ce9e8d8f253",
            "179cac67a44646f4aaf694b36b077345",
            "696700eec681424bbd500fed30bb4660",
            "bceed34f0e414413b2c417c4e28ca7e2",
            "e891c738007349faa0bcc5afb520efb5",
            "a28529b434264bf1bf2d6f9bb3b0ca0a",
            "4a28aa1d4a9d4f01ad59895a06b93b3c",
            "9a0a5833ab3945aeb19222e9a0a12781",
            "ca68946055b84a488bb1b9e43a1c9c15",
            "79aa0690156c46baaa936524ac3ecaef",
            "9e999173536b4d869240b002d7b15ce2",
            "217ac01e001b404ebbf148228ba2eebc",
            "bd4e56ccfa204aa492186ecbd7bffb01",
            "33d9ee6b10bf4224906668cbe4bea1f6",
            "0b914c3e360a434488929a8df158989e"
          ]
        },
        "id": "tOQ7xBkDu9HI",
        "outputId": "93522f7d-4e67-4e96-81d0-b137e59b85e7"
      },
      "execution_count": 203,
      "outputs": [
        {
          "output_type": "stream",
          "name": "stdout",
          "text": [
            "process_Data runned with data shape (3711, 2)\n",
            "100%|██████████| 3711/3711 [00:00<00:00, 6068.11it/s]\n"
          ]
        },
        {
          "output_type": "stream",
          "name": "stderr",
          "text": [
            "INFO:pytorch_lightning.utilities.rank_zero:GPU available: False, used: False\n",
            "INFO:pytorch_lightning.utilities.rank_zero:TPU available: False, using: 0 TPU cores\n",
            "INFO:pytorch_lightning.utilities.rank_zero:HPU available: False, using: 0 HPUs\n",
            "/usr/local/lib/python3.10/dist-packages/pytorch_lightning/callbacks/model_checkpoint.py:652: Checkpoint directory /content/drive/MyDrive/depression_classification/exp exists and is not empty.\n",
            "INFO:pytorch_lightning.callbacks.model_summary:\n",
            "  | Name           | Type             | Params | Mode \n",
            "------------------------------------------------------------\n",
            "0 | model          | FCL              | 2.2 M  | train\n",
            "1 | criterion      | CrossEntropyLoss | 0      | train\n",
            "2 | train_accuracy | BinaryAccuracy   | 0      | train\n",
            "3 | val_accuracy   | BinaryAccuracy   | 0      | train\n",
            "4 | test_accuracy  | BinaryAccuracy   | 0      | train\n",
            "------------------------------------------------------------\n",
            "173 K     Trainable params\n",
            "2.0 M     Non-trainable params\n",
            "2.2 M     Total params\n",
            "8.712     Total estimated model params size (MB)\n"
          ]
        },
        {
          "output_type": "display_data",
          "data": {
            "text/plain": [
              "Sanity Checking: |          | 0/? [00:00<?, ?it/s]"
            ],
            "application/vnd.jupyter.widget-view+json": {
              "version_major": 2,
              "version_minor": 0,
              "model_id": "32364683632c4c68ac053836da2c2259"
            }
          },
          "metadata": {}
        },
        {
          "output_type": "display_data",
          "data": {
            "text/plain": [
              "Training: |          | 0/? [00:00<?, ?it/s]"
            ],
            "application/vnd.jupyter.widget-view+json": {
              "version_major": 2,
              "version_minor": 0,
              "model_id": "75ed1d95e065449e858d85a3a533f0d4"
            }
          },
          "metadata": {}
        },
        {
          "output_type": "display_data",
          "data": {
            "text/plain": [
              "Validation: |          | 0/? [00:00<?, ?it/s]"
            ],
            "application/vnd.jupyter.widget-view+json": {
              "version_major": 2,
              "version_minor": 0,
              "model_id": "d6d1f709b3a949a49511e2d271ec6257"
            }
          },
          "metadata": {}
        },
        {
          "output_type": "stream",
          "name": "stderr",
          "text": [
            "INFO:pytorch_lightning.callbacks.early_stopping:Metric val_loss improved. New best score: 50.308\n"
          ]
        },
        {
          "output_type": "display_data",
          "data": {
            "text/plain": [
              "Validation: |          | 0/? [00:00<?, ?it/s]"
            ],
            "application/vnd.jupyter.widget-view+json": {
              "version_major": 2,
              "version_minor": 0,
              "model_id": "4cb564df882346feb96ff8b961134ac1"
            }
          },
          "metadata": {}
        },
        {
          "output_type": "stream",
          "name": "stderr",
          "text": [
            "INFO:pytorch_lightning.callbacks.early_stopping:Metric val_loss improved by 0.420 >= min_delta = 0.0. New best score: 49.888\n"
          ]
        },
        {
          "output_type": "display_data",
          "data": {
            "text/plain": [
              "Validation: |          | 0/? [00:00<?, ?it/s]"
            ],
            "application/vnd.jupyter.widget-view+json": {
              "version_major": 2,
              "version_minor": 0,
              "model_id": "e891c738007349faa0bcc5afb520efb5"
            }
          },
          "metadata": {}
        },
        {
          "output_type": "stream",
          "name": "stderr",
          "text": [
            "INFO:pytorch_lightning.callbacks.early_stopping:Metric val_loss improved by 0.954 >= min_delta = 0.0. New best score: 48.934\n",
            "INFO:pytorch_lightning.utilities.rank_zero:`Trainer.fit` stopped: `max_epochs=3` reached.\n"
          ]
        }
      ]
    },
    {
      "cell_type": "code",
      "source": [
        "EXPERIMENTS_DIR = \"/content/drive/MyDrive/depression_classification/exp\""
      ],
      "metadata": {
        "id": "6Atnc_tI_oGH"
      },
      "execution_count": 172,
      "outputs": []
    },
    {
      "cell_type": "code",
      "source": [
        "trainer.fit(model=depression_detection, datamodule=textDataMoudle)"
      ],
      "metadata": {
        "id": "eJCmUITFlef8"
      },
      "execution_count": null,
      "outputs": []
    },
    {
      "cell_type": "code",
      "source": [
        "model"
      ],
      "metadata": {
        "id": "LPOz38BBg7DT",
        "outputId": "5df2bf7e-9fb4-4456-aa67-c01ed0b46aa0",
        "colab": {
          "base_uri": "https://localhost:8080/",
          "height": 141
        }
      },
      "execution_count": 206,
      "outputs": [
        {
          "output_type": "error",
          "ename": "NameError",
          "evalue": "name 'model' is not defined",
          "traceback": [
            "\u001b[0;31m---------------------------------------------------------------------------\u001b[0m",
            "\u001b[0;31mNameError\u001b[0m                                 Traceback (most recent call last)",
            "\u001b[0;32m<ipython-input-206-1f8a688cae5d>\u001b[0m in \u001b[0;36m<cell line: 1>\u001b[0;34m()\u001b[0m\n\u001b[0;32m----> 1\u001b[0;31m \u001b[0mmodel\u001b[0m\u001b[0;34m\u001b[0m\u001b[0;34m\u001b[0m\u001b[0m\n\u001b[0m",
            "\u001b[0;31mNameError\u001b[0m: name 'model' is not defined"
          ]
        }
      ]
    },
    {
      "cell_type": "code",
      "source": [
        "import importlib\n",
        "import logging\n",
        "import os\n",
        "import pkgutil\n",
        "logger = logging.getLogger(__name__)\n",
        "# from ml.utils.helpers import load_model_at_version\n",
        "\n",
        "def load_model_at_version(model_name: str, version: str, model_type: str = \"best-loss\"):\n",
        "    version_path = \"/content/drive/MyDrive/depression_classification/exp/FCL/version_35\"\n",
        "    model_path = \"/content/drive/MyDrive/depression_classification/exp/FCL\"\n",
        "    checkpoint = torch.load(model_path, map_location=\"cuda\" if torch.cuda.is_available() else \"cpu\")\n",
        "\n",
        "    # model_class = get_model_by_name(model_name)\n",
        "    # model = model\n",
        "\n",
        "    tokenizer = Tokenizer()\n",
        "    tokenizer.load(file_path=version_path)\n",
        "\n",
        "    # embeddings_matrix = checkpoint[\"state_dict\"][\"model.embedding.weight\"].cpu()\n",
        "    model = FCL(embeddings_matrix)\n",
        "\n",
        "    system = DepressionDetection.load_from_checkpoint(\n",
        "        checkpoint_path=model_path,\n",
        "        model=model,\n",
        "        tokenizer=tokenizer,\n",
        "        strict=False,\n",
        "        map_location=\"cuda\" if torch.cuda.is_available() else \"cpu\",\n",
        "    )\n",
        "    logger.info(f\"Successfully loaded {model_name} from {version}\")\n",
        "\n",
        "    return system\n",
        "def get_model_at_version(model_name: str, version: str, model_type: str = \"best-loss\"):\n",
        "    if not os.path.exists(os.path.join(EXPERIMENTS_DIR, model_name)):\n",
        "        raise ValueError(\n",
        "            f\"Model {model_name} does not exist. Please select an existing model or train a new one \\\n",
        "            with `python train.py`\"\n",
        "        )\n",
        "\n",
        "    if not os.path.exists(os.path.join(EXPERIMENTS_DIR, model_name, version)):\n",
        "        raise ValueError(f\"Version {version} does not exist. Please select a valid version\")\n",
        "\n",
        "    version_path = os.path.join(EXPERIMENTS_DIR, model_name, version)\n",
        "    checkpoint_path = os.path.join(version_path, \"checkpoints\")\n",
        "    model_path = None\n",
        "    found = False\n",
        "    for file in os.listdir(checkpoint_path):\n",
        "        model_path = os.path.join(checkpoint_path, file)\n",
        "        if model_type in file:\n",
        "            model_path = os.path.join(checkpoint_path, file)\n",
        "            found = True\n",
        "            break\n",
        "\n",
        "    if not found:\n",
        "        logger.warning(f\"Could not find a model checkpoint with type {model_type} in {checkpoint_path}\")\n",
        "\n",
        "    logger.info(f\"Loading model from path {model_path} and from version {version_path}\")\n",
        "    return version_path, model_path\n",
        "\n",
        "\n",
        "# get a model class by its class name\n",
        "def get_model_by_name(class_name: str):\n",
        "    # models_module = \"ml.models\"\n",
        "    # parent_module = importlib.import_module(models_module)\n",
        "\n",
        "    # for loader, name, is_pkg in pkgutil.walk_packages(parent_module.__path__):\n",
        "    #     if not is_pkg:\n",
        "    #         try:\n",
        "    #             module = importlib.import_module(f\"{models_module}.{name}\")\n",
        "    #             model = getattr(module, class_name, None)\n",
        "    #             if model is not None:\n",
        "    #                 return model\n",
        "    #         except (ImportError, AttributeError):\n",
        "    #             continue\n",
        "    # raise ImportError(f\"Cannot find class {class_name} in module {models_module}\")\n",
        "\n",
        "\n",
        "# get a trained model and its label encoder from a specific version of a model\n",
        "\n",
        "def test(model_name: str, version: str, model_type: str = \"best-loss\"):\n",
        "    # Load a model from a specific version and checkpoint\n",
        "    system = load_model_at_version(model_name, version, model_type)\n",
        "\n",
        "    data_module = DepressionDetection()\n",
        "\n",
        "    tb_logger = TensorBoardLogger(EXPERIMENTS_DIR, name=model_name, version=version)\n",
        "    trainer = Trainer(logger=tb_logger)\n",
        "    trainer.test(system, datamodule=data_module)\n",
        "    predictions = trainer.predict(system, datamodule=data_module)\n",
        "\n",
        "    results = pd.DataFrame(\n",
        "        {'predictions': torch.cat(predictions).tolist(), 'labels': data_module.test_data[\"target\"]}\n",
        "    )"
      ],
      "metadata": {
        "id": "-WxwT7dRvBs2"
      },
      "execution_count": 204,
      "outputs": []
    },
    {
      "cell_type": "code",
      "source": [
        "checkpoint = \"/content/drive/MyDrive/depression_classification/exp/FCL/version_35/checkpoints/best-loss-model-epoch=02-val_loss=48.70.ckpt\"\n",
        "trainer = pl.Trainer()"
      ],
      "metadata": {
        "id": "II1Ffdo8bFW4",
        "outputId": "4eaecd42-8e04-4499-a067-143a3d2fc9cd",
        "colab": {
          "base_uri": "https://localhost:8080/"
        }
      },
      "execution_count": 207,
      "outputs": [
        {
          "output_type": "stream",
          "name": "stderr",
          "text": [
            "INFO:pytorch_lightning.utilities.rank_zero:GPU available: False, used: False\n",
            "INFO:pytorch_lightning.utilities.rank_zero:TPU available: False, using: 0 TPU cores\n",
            "INFO:pytorch_lightning.utilities.rank_zero:HPU available: False, using: 0 HPUs\n"
          ]
        }
      ]
    },
    {
      "cell_type": "code",
      "source": [
        "model = FCL(embeddings_matrix)\n",
        "tokenizer = Tokenizer()\n",
        "tokenizer.load(\"/content/drive/MyDrive/depression_classification/\")"
      ],
      "metadata": {
        "id": "_57AyN2Fk1RP"
      },
      "execution_count": 214,
      "outputs": []
    },
    {
      "cell_type": "code",
      "source": [
        "loaded_model = DepressionDetection.load_from_checkpoint(\n",
        "    checkpoint_path=checkpoint,\n",
        "    model=model,\n",
        "    tokenizer=tokenizer,\n",
        ")\n",
        "prediction = trainer.predict(loaded_model, datamodule=CustomDataModule.predict_dataloader())"
      ],
      "metadata": {
        "id": "2fIWgBAu8JEn",
        "outputId": "e97d28eb-4758-4995-807f-0aba4ea1c250",
        "colab": {
          "base_uri": "https://localhost:8080/",
          "height": 426
        }
      },
      "execution_count": 215,
      "outputs": [
        {
          "output_type": "error",
          "ename": "RuntimeError",
          "evalue": "Error(s) in loading state_dict for DepressionDetection:\n\tUnexpected key(s) in state_dict: \"model.fc1.weight\", \"model.fc1.bias\". ",
          "traceback": [
            "\u001b[0;31m---------------------------------------------------------------------------\u001b[0m",
            "\u001b[0;31mRuntimeError\u001b[0m                              Traceback (most recent call last)",
            "\u001b[0;32m<ipython-input-215-5a6a328878cd>\u001b[0m in \u001b[0;36m<cell line: 1>\u001b[0;34m()\u001b[0m\n\u001b[0;32m----> 1\u001b[0;31m loaded_model = DepressionDetection.load_from_checkpoint(\n\u001b[0m\u001b[1;32m      2\u001b[0m     \u001b[0mcheckpoint_path\u001b[0m\u001b[0;34m=\u001b[0m\u001b[0mcheckpoint\u001b[0m\u001b[0;34m,\u001b[0m\u001b[0;34m\u001b[0m\u001b[0;34m\u001b[0m\u001b[0m\n\u001b[1;32m      3\u001b[0m     \u001b[0mmodel\u001b[0m\u001b[0;34m=\u001b[0m\u001b[0mmodel\u001b[0m\u001b[0;34m,\u001b[0m\u001b[0;34m\u001b[0m\u001b[0;34m\u001b[0m\u001b[0m\n\u001b[1;32m      4\u001b[0m     \u001b[0mtokenizer\u001b[0m\u001b[0;34m=\u001b[0m\u001b[0mtokenizer\u001b[0m\u001b[0;34m,\u001b[0m\u001b[0;34m\u001b[0m\u001b[0;34m\u001b[0m\u001b[0m\n\u001b[1;32m      5\u001b[0m )\n",
            "\u001b[0;32m/usr/local/lib/python3.10/dist-packages/pytorch_lightning/utilities/model_helpers.py\u001b[0m in \u001b[0;36mwrapper\u001b[0;34m(*args, **kwargs)\u001b[0m\n\u001b[1;32m    123\u001b[0m                     \u001b[0;34m\" Please call it on the class type and make sure the return value is used.\"\u001b[0m\u001b[0;34m\u001b[0m\u001b[0;34m\u001b[0m\u001b[0m\n\u001b[1;32m    124\u001b[0m                 )\n\u001b[0;32m--> 125\u001b[0;31m             \u001b[0;32mreturn\u001b[0m \u001b[0mself\u001b[0m\u001b[0;34m.\u001b[0m\u001b[0mmethod\u001b[0m\u001b[0;34m(\u001b[0m\u001b[0mcls\u001b[0m\u001b[0;34m,\u001b[0m \u001b[0;34m*\u001b[0m\u001b[0margs\u001b[0m\u001b[0;34m,\u001b[0m \u001b[0;34m**\u001b[0m\u001b[0mkwargs\u001b[0m\u001b[0;34m)\u001b[0m\u001b[0;34m\u001b[0m\u001b[0;34m\u001b[0m\u001b[0m\n\u001b[0m\u001b[1;32m    126\u001b[0m \u001b[0;34m\u001b[0m\u001b[0m\n\u001b[1;32m    127\u001b[0m         \u001b[0;32mreturn\u001b[0m \u001b[0mwrapper\u001b[0m\u001b[0;34m\u001b[0m\u001b[0;34m\u001b[0m\u001b[0m\n",
            "\u001b[0;32m/usr/local/lib/python3.10/dist-packages/pytorch_lightning/core/module.py\u001b[0m in \u001b[0;36mload_from_checkpoint\u001b[0;34m(cls, checkpoint_path, map_location, hparams_file, strict, **kwargs)\u001b[0m\n\u001b[1;32m   1584\u001b[0m \u001b[0;34m\u001b[0m\u001b[0m\n\u001b[1;32m   1585\u001b[0m         \"\"\"\n\u001b[0;32m-> 1586\u001b[0;31m         loaded = _load_from_checkpoint(\n\u001b[0m\u001b[1;32m   1587\u001b[0m             \u001b[0mcls\u001b[0m\u001b[0;34m,\u001b[0m  \u001b[0;31m# type: ignore[arg-type]\u001b[0m\u001b[0;34m\u001b[0m\u001b[0;34m\u001b[0m\u001b[0m\n\u001b[1;32m   1588\u001b[0m             \u001b[0mcheckpoint_path\u001b[0m\u001b[0;34m,\u001b[0m\u001b[0;34m\u001b[0m\u001b[0;34m\u001b[0m\u001b[0m\n",
            "\u001b[0;32m/usr/local/lib/python3.10/dist-packages/pytorch_lightning/core/saving.py\u001b[0m in \u001b[0;36m_load_from_checkpoint\u001b[0;34m(cls, checkpoint_path, map_location, hparams_file, strict, **kwargs)\u001b[0m\n\u001b[1;32m     89\u001b[0m         \u001b[0;32mreturn\u001b[0m \u001b[0m_load_state\u001b[0m\u001b[0;34m(\u001b[0m\u001b[0mcls\u001b[0m\u001b[0;34m,\u001b[0m \u001b[0mcheckpoint\u001b[0m\u001b[0;34m,\u001b[0m \u001b[0;34m**\u001b[0m\u001b[0mkwargs\u001b[0m\u001b[0;34m)\u001b[0m\u001b[0;34m\u001b[0m\u001b[0;34m\u001b[0m\u001b[0m\n\u001b[1;32m     90\u001b[0m     \u001b[0;32mif\u001b[0m \u001b[0missubclass\u001b[0m\u001b[0;34m(\u001b[0m\u001b[0mcls\u001b[0m\u001b[0;34m,\u001b[0m \u001b[0mpl\u001b[0m\u001b[0;34m.\u001b[0m\u001b[0mLightningModule\u001b[0m\u001b[0;34m)\u001b[0m\u001b[0;34m:\u001b[0m\u001b[0;34m\u001b[0m\u001b[0;34m\u001b[0m\u001b[0m\n\u001b[0;32m---> 91\u001b[0;31m         \u001b[0mmodel\u001b[0m \u001b[0;34m=\u001b[0m \u001b[0m_load_state\u001b[0m\u001b[0;34m(\u001b[0m\u001b[0mcls\u001b[0m\u001b[0;34m,\u001b[0m \u001b[0mcheckpoint\u001b[0m\u001b[0;34m,\u001b[0m \u001b[0mstrict\u001b[0m\u001b[0;34m=\u001b[0m\u001b[0mstrict\u001b[0m\u001b[0;34m,\u001b[0m \u001b[0;34m**\u001b[0m\u001b[0mkwargs\u001b[0m\u001b[0;34m)\u001b[0m\u001b[0;34m\u001b[0m\u001b[0;34m\u001b[0m\u001b[0m\n\u001b[0m\u001b[1;32m     92\u001b[0m         \u001b[0mstate_dict\u001b[0m \u001b[0;34m=\u001b[0m \u001b[0mcheckpoint\u001b[0m\u001b[0;34m[\u001b[0m\u001b[0;34m\"state_dict\"\u001b[0m\u001b[0;34m]\u001b[0m\u001b[0;34m\u001b[0m\u001b[0;34m\u001b[0m\u001b[0m\n\u001b[1;32m     93\u001b[0m         \u001b[0;32mif\u001b[0m \u001b[0;32mnot\u001b[0m \u001b[0mstate_dict\u001b[0m\u001b[0;34m:\u001b[0m\u001b[0;34m\u001b[0m\u001b[0;34m\u001b[0m\u001b[0m\n",
            "\u001b[0;32m/usr/local/lib/python3.10/dist-packages/pytorch_lightning/core/saving.py\u001b[0m in \u001b[0;36m_load_state\u001b[0;34m(cls, checkpoint, strict, **cls_kwargs_new)\u001b[0m\n\u001b[1;32m    185\u001b[0m \u001b[0;34m\u001b[0m\u001b[0m\n\u001b[1;32m    186\u001b[0m     \u001b[0;31m# load the state_dict on the model automatically\u001b[0m\u001b[0;34m\u001b[0m\u001b[0;34m\u001b[0m\u001b[0m\n\u001b[0;32m--> 187\u001b[0;31m     \u001b[0mkeys\u001b[0m \u001b[0;34m=\u001b[0m \u001b[0mobj\u001b[0m\u001b[0;34m.\u001b[0m\u001b[0mload_state_dict\u001b[0m\u001b[0;34m(\u001b[0m\u001b[0mcheckpoint\u001b[0m\u001b[0;34m[\u001b[0m\u001b[0;34m\"state_dict\"\u001b[0m\u001b[0;34m]\u001b[0m\u001b[0;34m,\u001b[0m \u001b[0mstrict\u001b[0m\u001b[0;34m=\u001b[0m\u001b[0mstrict\u001b[0m\u001b[0;34m)\u001b[0m\u001b[0;34m\u001b[0m\u001b[0;34m\u001b[0m\u001b[0m\n\u001b[0m\u001b[1;32m    188\u001b[0m \u001b[0;34m\u001b[0m\u001b[0m\n\u001b[1;32m    189\u001b[0m     \u001b[0;32mif\u001b[0m \u001b[0;32mnot\u001b[0m \u001b[0mstrict\u001b[0m\u001b[0;34m:\u001b[0m\u001b[0;34m\u001b[0m\u001b[0;34m\u001b[0m\u001b[0m\n",
            "\u001b[0;32m/usr/local/lib/python3.10/dist-packages/torch/nn/modules/module.py\u001b[0m in \u001b[0;36mload_state_dict\u001b[0;34m(self, state_dict, strict, assign)\u001b[0m\n\u001b[1;32m   2187\u001b[0m \u001b[0;34m\u001b[0m\u001b[0m\n\u001b[1;32m   2188\u001b[0m         \u001b[0;32mif\u001b[0m \u001b[0mlen\u001b[0m\u001b[0;34m(\u001b[0m\u001b[0merror_msgs\u001b[0m\u001b[0;34m)\u001b[0m \u001b[0;34m>\u001b[0m \u001b[0;36m0\u001b[0m\u001b[0;34m:\u001b[0m\u001b[0;34m\u001b[0m\u001b[0;34m\u001b[0m\u001b[0m\n\u001b[0;32m-> 2189\u001b[0;31m             raise RuntimeError('Error(s) in loading state_dict for {}:\\n\\t{}'.format(\n\u001b[0m\u001b[1;32m   2190\u001b[0m                                self.__class__.__name__, \"\\n\\t\".join(error_msgs)))\n\u001b[1;32m   2191\u001b[0m         \u001b[0;32mreturn\u001b[0m \u001b[0m_IncompatibleKeys\u001b[0m\u001b[0;34m(\u001b[0m\u001b[0mmissing_keys\u001b[0m\u001b[0;34m,\u001b[0m \u001b[0munexpected_keys\u001b[0m\u001b[0;34m)\u001b[0m\u001b[0;34m\u001b[0m\u001b[0;34m\u001b[0m\u001b[0m\n",
            "\u001b[0;31mRuntimeError\u001b[0m: Error(s) in loading state_dict for DepressionDetection:\n\tUnexpected key(s) in state_dict: \"model.fc1.weight\", \"model.fc1.bias\". "
          ]
        }
      ]
    },
    {
      "cell_type": "code",
      "source": [
        "trainer.predict()"
      ],
      "metadata": {
        "id": "hDJ6FfPUNyYF",
        "outputId": "f7f5567d-0d56-4900-a24e-95912a8b3204",
        "colab": {
          "base_uri": "https://localhost:8080/",
          "height": 280
        }
      },
      "execution_count": 196,
      "outputs": [
        {
          "output_type": "error",
          "ename": "TypeError",
          "evalue": "DepressionDetection.__init__() missing 2 required positional arguments: 'model' and 'tokenizer'",
          "traceback": [
            "\u001b[0;31m---------------------------------------------------------------------------\u001b[0m",
            "\u001b[0;31mTypeError\u001b[0m                                 Traceback (most recent call last)",
            "\u001b[0;32m<ipython-input-196-fbd55f77ab7c>\u001b[0m in \u001b[0;36m<cell line: 1>\u001b[0;34m()\u001b[0m\n\u001b[0;32m----> 1\u001b[0;31m \u001b[0mtest\u001b[0m\u001b[0;34m(\u001b[0m\u001b[0;34m)\u001b[0m\u001b[0;34m\u001b[0m\u001b[0;34m\u001b[0m\u001b[0m\n\u001b[0m",
            "\u001b[0;32m<ipython-input-195-5fca83d53293>\u001b[0m in \u001b[0;36mtest\u001b[0;34m()\u001b[0m\n\u001b[1;32m      1\u001b[0m \u001b[0;32mdef\u001b[0m \u001b[0mtest\u001b[0m\u001b[0;34m(\u001b[0m\u001b[0;34m)\u001b[0m\u001b[0;34m:\u001b[0m\u001b[0;34m\u001b[0m\u001b[0;34m\u001b[0m\u001b[0m\n\u001b[1;32m      2\u001b[0m   \u001b[0;31m# Load the test dataset\u001b[0m\u001b[0;34m\u001b[0m\u001b[0;34m\u001b[0m\u001b[0m\n\u001b[0;32m----> 3\u001b[0;31m   \u001b[0mtextDataMoudle\u001b[0m \u001b[0;34m=\u001b[0m \u001b[0mDepressionDetection\u001b[0m\u001b[0;34m(\u001b[0m\u001b[0;34m)\u001b[0m\u001b[0;34m\u001b[0m\u001b[0;34m\u001b[0m\u001b[0m\n\u001b[0m\u001b[1;32m      4\u001b[0m   \u001b[0mtextDataMoudle\u001b[0m\u001b[0;34m.\u001b[0m\u001b[0mprepare_data\u001b[0m\u001b[0;34m(\u001b[0m\u001b[0;34m)\u001b[0m\u001b[0;34m\u001b[0m\u001b[0;34m\u001b[0m\u001b[0m\n\u001b[1;32m      5\u001b[0m   \u001b[0mtextDataMoudle\u001b[0m\u001b[0;34m.\u001b[0m\u001b[0msetup\u001b[0m\u001b[0;34m(\u001b[0m\u001b[0mstage\u001b[0m \u001b[0;34m=\u001b[0m \u001b[0;34m\"test\"\u001b[0m\u001b[0;34m)\u001b[0m\u001b[0;34m\u001b[0m\u001b[0;34m\u001b[0m\u001b[0m\n",
            "\u001b[0;31mTypeError\u001b[0m: DepressionDetection.__init__() missing 2 required positional arguments: 'model' and 'tokenizer'"
          ]
        }
      ]
    },
    {
      "cell_type": "code",
      "source": [],
      "metadata": {
        "id": "Hh_0JB3CN0XE"
      },
      "execution_count": null,
      "outputs": []
    }
  ]
}